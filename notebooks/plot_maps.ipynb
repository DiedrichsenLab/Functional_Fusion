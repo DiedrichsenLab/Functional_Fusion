{
 "cells": [
  {
   "cell_type": "code",
   "execution_count": 1,
   "metadata": {},
   "outputs": [],
   "source": [
    "import numpy as np\n",
    "import Functional_Fusion.atlas_map as am\n",
    "import Functional_Fusion.dataset as ds\n",
    "import Functional_Fusion.plot as fpl\n",
    "import Functional_Fusion.util as ut\n",
    "import nibabel as nb\n",
    "import nilearn.plotting as nlp\n",
    "import matplotlib.pyplot as plt\n",
    "from numpy.linalg import inv\n",
    "from matplotlib.gridspec import GridSpec\n",
    "import nitools as nt"
   ]
  },
  {
   "cell_type": "markdown",
   "metadata": {},
   "source": [
    "## Plot dentate ROI data "
   ]
  },
  {
   "cell_type": "code",
   "execution_count": 2,
   "metadata": {},
   "outputs": [],
   "source": [
    "# Generate some random data in dentate atlas space\n",
    "dn,ainf = am.get_atlas('MNISymDentate1')\n",
    "data = np.random.normal(0,1,(3,dn.P))"
   ]
  },
  {
   "cell_type": "code",
   "execution_count": null,
   "metadata": {},
   "outputs": [
    {
     "name": "stderr",
     "output_type": "stream",
     "text": [
      "/Users/jdiedrichsen/opt/miniconda3/lib/python3.11/site-packages/nilearn/plotting/img_plotting.py:238: UserWarning: Non-finite values detected. These values will be replaced with zeros.\n",
      "  data = safe_get_data(img, ensure_finite=True)\n"
     ]
    },
    {
     "data": {
      "text/plain": [
       "array([[<Axes: >, <Axes: >],\n",
       "       [<Axes: >, <Axes: >],\n",
       "       [<Axes: >, <Axes: >],\n",
       "       [<Axes: >, <Axes: >],\n",
       "       [<Axes: >, <Axes: >],\n",
       "       [<Axes: >, <Axes: >]], dtype=object)"
      ]
     },
     "execution_count": 3,
     "metadata": {},
     "output_type": "execute_result"
    },
    {
     "data": {
      "image/png": "[encoded data removed]",
      "text/plain": [
       "<Figure size 200x1000 with 24 Axes>"
      ]
     },
     "metadata": {},
     "output_type": "display_data"
    }
   ],
   "source": [
    "# minimal example:\n",
    "fpl.plot_dentate(data[0],cscale=[-3,3])"
   ]
  },
  {
   "cell_type": "code",
   "execution_count": 4,
   "metadata": {},
   "outputs": [],
   "source": [
    "# Plot an ROI with the Nettekoven colormap\n",
    "data = ((dn.world[1]-dn.world[1].min())/(dn.world[1].max()-dn.world[1].min())*32).astype(np.int8)\n",
    "# Note that 0 is no assignment\n",
    "atlas_dir = '/Volumes/diedrichsen_data$/data/FunctionalFusion/Atlases'\n",
    "indx, color, labels = nt.read_lut(atlas_dir + '/tpl-MNI152NLin2009cSymC/atl-NettekovenSym32.lut')\n"
   ]
  },
  {
   "cell_type": "code",
   "execution_count": 5,
   "metadata": {},
   "outputs": [
    {
     "name": "stdout",
     "output_type": "stream",
     "text": [
      "0 32\n"
     ]
    }
   ],
   "source": [
    "print(data.min(),data.max())"
   ]
  },
  {
   "cell_type": "code",
   "execution_count": null,
   "metadata": {},
   "outputs": [
    {
     "data": {
      "text/plain": [
       "array([[<Axes: >, <Axes: >],\n",
       "       [<Axes: >, <Axes: >],\n",
       "       [<Axes: >, <Axes: >],\n",
       "       [<Axes: >, <Axes: >],\n",
       "       [<Axes: >, <Axes: >],\n",
       "       [<Axes: >, <Axes: >]], dtype=object)"
      ]
     },
     "execution_count": 6,
     "metadata": {},
     "output_type": "execute_result"
    },
    {
     "data": {
      "image/png": "[encoded data removed]",
      "text/plain": [
       "<Figure size 200x1000 with 24 Axes>"
      ]
     },
     "metadata": {},
     "output_type": "display_data"
    }
   ],
   "source": [
    "# Make sure you scale the data explicity - otherwise the colors will be off if the data range is not 0-32\n",
    "fpl.plot_dentate(data,cscale=[0,32],cmap=color)\n"
   ]
  },
  {
   "cell_type": "markdown",
   "metadata": {},
   "source": [
    "## Developement (move to depreciated when done)"
   ]
  },
  {
   "cell_type": "markdown",
   "metadata": {},
   "source": [
    "## Testing the colormap assignement"
   ]
  },
  {
   "cell_type": "code",
   "execution_count": null,
   "metadata": {},
   "outputs": [],
   "source": [
    "fig = plt.figure(figsize=(6,10),facecolor='black')\n",
    "outer_grid = fig.add_gridspec(1,3,hspace=0,wspace=0.1)\n",
    "inner_grid = outer_grid[0].subgridspec(6,2,hspace=0.1,wspace=0.1)\n",
    "fpl.plot_dentate(data,gridspec = inner_grid,cmap=color)\n",
    "inner_grid = outer_grid[1].subgridspec(6,2,hspace=0.1,wspace=0.1)\n",
    "fpl.plot_dentate(data,gridspec = inner_grid,cscale=[1,33],cmap=color)\n",
    "inner_grid = outer_grid[2].subgridspec(6,2,hspace=0.1,wspace=0.1)\n",
    "fpl.plot_dentate(data,gridspec = inner_grid,cscale=[0,32],cmap=color)\n"
   ]
  },
  {
   "cell_type": "code",
   "execution_count": null,
   "metadata": {},
   "outputs": [],
   "source": [
    "# base_dir = ut.get_base_dir()\n"
   ]
  },
  {
   "cell_type": "code",
   "execution_count": null,
   "metadata": {},
   "outputs": [],
   "source": [
    "dn,ainf = am.get_atlas('MNISymDentate1')\n",
    "# dat,dinf,_ = ds.get_dataset(base_dir,'Language',atlas='MNISymDentate1', sess='ses-localizer',subj=[1],type='cond_fm_CondRun')"
   ]
  },
  {
   "cell_type": "code",
   "execution_count": null,
   "metadata": {},
   "outputs": [],
   "source": [
    "adir = ut.default_atlas_dir\n",
    "bg_img1 = nb.load(adir + '/tpl-MNI152NLin2009cSym/tpl-MNI152NLin2009cSym_res-1_dentate.nii')\n",
    "bg_img2 = nb.load(adir + '/tpl-MNI152NLin2009cSymC/tpl-MNI152NLin2009cSymC_T1w.nii')\n",
    "# Project the functional data into the atlas space\n",
    "fcn_img = dn.data_to_nifti(np.random.normal(size=(dn.P,)))"
   ]
  },
  {
   "cell_type": "code",
   "execution_count": null,
   "metadata": {},
   "outputs": [],
   "source": [
    "# Cut out the voxel correct coordinates\n",
    "c1 = np.array([-32,-70,-43]).reshape((3,1)) # Lower left corner of image\n",
    "c2 = np.array([32,-40,-20]).reshape((3,1)) # Upper right corner of image\n",
    "# transform these into voxel coordinates\n",
    "v1 = nt.affine_transform_mat(c1,inv(bg_img1.affine)).astype(int).squeeze()\n",
    "v2 = nt.affine_transform_mat(c2,inv(bg_img1.affine)).astype(int).squeeze()\n",
    "w1 = nt.affine_transform_mat(c1,inv(bg_img2.affine)).astype(int).squeeze()\n",
    "w2 = nt.affine_transform_mat(c2,inv(bg_img2.affine)).astype(int).squeeze()"
   ]
  },
  {
   "cell_type": "code",
   "execution_count": null,
   "metadata": {},
   "outputs": [],
   "source": [
    "bg1 = bg_img1.slicer[v1[0]:v2[0]+1,v1[1]:v2[1]+1,v1[2]:v2[2]+1]\n",
    "bg2 = bg_img2.slicer[w1[0]:w2[0]+1,w1[1]:w2[1]+1,w1[2]:w2[2]+1]\n",
    "fc = fcn_img.slicer[v1[0]:v2[0]+1,v1[1]:v2[1]+1,v1[2]:v2[2]+1]\n",
    "\n",
    "fig = plt.figure(figsize=(4,10),facecolor='black')\n",
    "gs = GridSpec(6, 1,fig,hspace=0)\n",
    "z_coords = [-31,-33,-35,-37,-39,-42]\n",
    "for j,z in enumerate(z_coords):\n",
    "    ax = fig.add_subplot(gs[j,0])\n",
    "    nlp.plot_img(fc,\n",
    "        display_mode=\"z\",\n",
    "        threshold=0,\n",
    "        cut_coords=[z],\n",
    "        bg_img=bg2,\n",
    "        black_bg=True,\n",
    "        axes=ax,\n",
    "        annotate=False)\n"
   ]
  },
  {
   "cell_type": "code",
   "execution_count": null,
   "metadata": {},
   "outputs": [],
   "source": [
    "bg2.shape"
   ]
  },
  {
   "cell_type": "code",
   "execution_count": null,
   "metadata": {},
   "outputs": [],
   "source": [
    "np.nanmax(fc.get_fdata())"
   ]
  },
  {
   "cell_type": "code",
   "execution_count": null,
   "metadata": {},
   "outputs": [],
   "source": [
    "bg_img1 = nb.load(adir + '/tpl-MNI152NLin2009cSym/tpl-MNI152NLin2009cSym_res-1_dentate.nii')\n",
    "bg_img2 = nb.load(adir + '/tpl-MNI152NLin2009cSymC/tpl-MNI152NLin2009cSymC_T1w.nii')\n",
    "# Project the functional data into the atlas space\n",
    "fcn_img = dn.data_to_nifti(np.random.normal(size=(dn.P,)))\n",
    "\n",
    "# Cut out the voxel correct coordinates\n",
    "c1 = np.array([[-25,-70,-43],[7,-70,-43]]).T # Lower left corner of image\n",
    "c2 = np.array([[-7,-43,-20],[25,-43,-20]]).T # Upper right corner of image\n",
    "v1 = nt.affine_transform_mat(c1,inv(bg_img1.affine)).astype(int)\n",
    "v2 = nt.affine_transform_mat(c2,inv(bg_img1.affine)).astype(int)\n",
    "w1 = nt.affine_transform_mat(c1,inv(bg_img2.affine)).astype(int)\n",
    "w2 = nt.affine_transform_mat(c2,inv(bg_img2.affine)).astype(int)\n",
    "# Cut out left and right dentate\n",
    "bg1 = []\n",
    "bg2 = []\n",
    "fc = []\n",
    "\n",
    "for i in range(2):\n",
    "    bg1.append(bg_img1.slicer[v1[0,i]:v2[0,i]+1,v1[1,i]:v2[1,i]+1,v1[2,i]:v2[2,i]+1])\n",
    "    bg2.append(bg_img2.slicer[w1[0,i]:w2[0,i]+1,w1[1,i]:w2[1,i]+1,w1[2,i]:w2[2,i]+1])\n",
    "    fc.append(fcn_img.slicer[v1[0,i]:v2[0,i]+1,v1[1,i]:v2[1,i]+1,v1[2,i]:v2[2,i]+1])\n"
   ]
  },
  {
   "cell_type": "code",
   "execution_count": null,
   "metadata": {},
   "outputs": [],
   "source": [
    "bg1[0].get_fdata().sum()"
   ]
  },
  {
   "cell_type": "code",
   "execution_count": null,
   "metadata": {},
   "outputs": [],
   "source": [
    "\n",
    "fig = plt.figure(figsize=(2,10),facecolor='black')\n",
    "gs = GridSpec(6, 2,hspace=0.1,wspace=0.1)\n",
    "z_coords = [-31,-33,-35,-37,-39,-42]\n",
    "for i in range(2):\n",
    "    for j,z in enumerate(z_coords):\n",
    "        ax = fig.add_subplot(gs[j,i])\n",
    "        nlp.plot_img(fc[i],\n",
    "            display_mode=\"z\",\n",
    "            threshold=0,\n",
    "            cut_coords=[z],\n",
    "            bg_img=bg1[i],\n",
    "            black_bg=True,\n",
    "            axes=ax,\n",
    "            vmin=-10,\n",
    "            vmax=10,\n",
    "            cmap='cold_hot',\n",
    "            annotate=False)\n"
   ]
  }
 ],
 "metadata": {
  "kernelspec": {
   "display_name": "base",
   "language": "python",
   "name": "python3"
  },
  "language_info": {
   "codemirror_mode": {
    "name": "ipython",
    "version": 3
   },
   "file_extension": ".py",
   "mimetype": "text/x-python",
   "name": "python",
   "nbconvert_exporter": "python",
   "pygments_lexer": "ipython3",
   "version": "3.9.5"
  }
 },
 "nbformat": 4,
 "nbformat_minor": 2
}
