{
 "cells": [
  {
   "cell_type": "code",
   "execution_count": 1,
   "metadata": {},
   "outputs": [],
   "source": [
    "import numpy as np\n",
    "import Functional_Fusion.atlas_map as am\n",
    "import Functional_Fusion.dataset as ds\n",
    "import Functional_Fusion.util as ut\n",
    "import nibabel as nb\n",
    "import nilearn.plotting as nlp\n",
    "import matplotlib.pyplot as plt\n",
    "from numpy.linalg import inv\n",
    "from matplotlib.gridspec import GridSpec"
   ]
  },
  {
   "cell_type": "code",
   "execution_count": 2,
   "metadata": {},
   "outputs": [],
   "source": [
    "base_dir = ut.get_base_dir()\n"
   ]
  },
  {
   "cell_type": "code",
   "execution_count": 3,
   "metadata": {},
   "outputs": [],
   "source": [
    "dn,ainf = am.get_atlas('MNISymDentate1')\n",
    "dat,dinf,_ = ds.get_dataset(base_dir,'Language',atlas='MNISymDentate1', sess='ses-localizer',subj=[1],type='cond_fm_CondRun')"
   ]
  },
  {
   "cell_type": "code",
   "execution_count": 4,
   "metadata": {},
   "outputs": [],
   "source": [
    "adir = ut.default_atlas_dir\n",
    "bg_img = nb.load(adir + '/tpl-MNI152NLin2009cSym/tpl-MNI152NLin2009cSym_res-1_dentate.nii')\n",
    "# Project the functional data into the atlas space\n",
    "fcn_img = dn.data_to_nifti(dat[0,:])"
   ]
  },
  {
   "cell_type": "code",
   "execution_count": null,
   "metadata": {},
   "outputs": [],
   "source": [
    "# Cut out the voxel correct coordinates \n",
    "c1 = np.array([-25,-70,-43]).reshape((3,1)) # Lower left corner of image \n",
    "c2 = np.array([25,-40,-20]).reshape((3,1)) # Upper right corner of image\n",
    "# transform these into voxel coordinates \n",
    "v1 = nt.affine_transform_mat(c1,inv(bg_img.affine)).astype(int).squeeze()\n",
    "v2 = nt.affine_transform_mat(c2,inv(bg_img.affine)).astype(int).squeeze()"
   ]
  },
  {
   "cell_type": "code",
   "execution_count": 11,
   "metadata": {},
   "outputs": [
    {
     "name": "stderr",
     "output_type": "stream",
     "text": [
      "/Users/jdiedrichsen/opt/miniconda3/lib/python3.11/site-packages/nilearn/plotting/img_plotting.py:238: UserWarning: Non-finite values detected. These values will be replaced with zeros.\n",
      "  data = safe_get_data(img, ensure_finite=True)\n"
     ]
    },
    {
     "data": {
      "text/plain": [
       "<nilearn.plotting.displays._slicers.ZSlicer at 0x137353c10>"
      ]
     },
     "execution_count": 11,
     "metadata": {},
     "output_type": "execute_result"
    },
    {
     "data": {
      "text/plain": [
       "<Figure size 1000x1000 with 0 Axes>"
      ]
     },
     "metadata": {},
     "output_type": "display_data"
    },
    {
     "data": {
      "image/png": "[encoded data removed]",
      "text/plain": [
       "<Figure size 1320x320 with 7 Axes>"
      ]
     },
     "metadata": {},
     "output_type": "display_data"
    }
   ],
   "source": [
    "bg = bg_img.slicer[v1[0]:v2[0],v1[1]:v2[1],v1[2]:v2[2]]\n",
    "fc = fcn_img.slicer[v1[0]:v2[0],v1[1]:v2[1],v1[2]:v2[2],0]\n",
    "fig = plt.figure(figsize=(10,10))\n",
    "nlp.plot_img(fc,bg_img=bg,\n",
    "    display_mode=\"z\",\n",
    "    cut_coords=[-31,-33,-35,-37,-39,-41],\n",
    "    black_bg=True)"
   ]
  },
  {
   "cell_type": "code",
   "execution_count": 7,
   "metadata": {},
   "outputs": [],
   "source": [
    "# Cut out the voxel correct coordinates \n",
    "c1 = np.array([[-25,-70,-43],[-7,-70,-43]]).T # Lower left corner of image \n",
    "c2 = np.array([[7,-40,-20],[25,-70,-43]]).T # Upper right corner of image\n",
    "v1 = nt.affine_transform_mat(c1,inv(bg_img.affine)).astype(int)\n",
    "v2 = nt.affine_transform_mat(c2,inv(bg_img.affine)).astype(int)"
   ]
  },
  {
   "cell_type": "code",
   "execution_count": 8,
   "metadata": {},
   "outputs": [
    {
     "ename": "AttributeError",
     "evalue": "'Nifti1Image' object has no attribute 'append'",
     "output_type": "error",
     "traceback": [
      "\u001b[0;31m---------------------------------------------------------------------------\u001b[0m",
      "\u001b[0;31mAttributeError\u001b[0m                            Traceback (most recent call last)",
      "Cell \u001b[0;32mIn[8], line 4\u001b[0m\n\u001b[1;32m      1\u001b[0m \u001b[38;5;66;03m# Cut out left and right dentate\u001b[39;00m\n\u001b[1;32m      3\u001b[0m \u001b[38;5;28;01mfor\u001b[39;00m i \u001b[38;5;129;01min\u001b[39;00m \u001b[38;5;28mrange\u001b[39m(\u001b[38;5;241m2\u001b[39m):\n\u001b[0;32m----> 4\u001b[0m     \u001b[43mbg\u001b[49m\u001b[38;5;241;43m.\u001b[39;49m\u001b[43mappend\u001b[49m(bg_img\u001b[38;5;241m.\u001b[39mslicer[v1[\u001b[38;5;241m0\u001b[39m]:v2[\u001b[38;5;241m0\u001b[39m],v1[\u001b[38;5;241m1\u001b[39m]:v2[\u001b[38;5;241m1\u001b[39m],v1[\u001b[38;5;241m2\u001b[39m]:v2[\u001b[38;5;241m2\u001b[39m]])\n\u001b[1;32m      5\u001b[0m     fc\u001b[38;5;241m.\u001b[39mappend(fcn_img\u001b[38;5;241m.\u001b[39mslicer[v1[\u001b[38;5;241m0\u001b[39m]:v2[\u001b[38;5;241m0\u001b[39m],v1[\u001b[38;5;241m1\u001b[39m]:v2[\u001b[38;5;241m1\u001b[39m],v1[\u001b[38;5;241m2\u001b[39m]:v2[\u001b[38;5;241m2\u001b[39m],\u001b[38;5;241m0\u001b[39m])\n\u001b[1;32m      7\u001b[0m fig \u001b[38;5;241m=\u001b[39m plt\u001b[38;5;241m.\u001b[39mfigure(figsize\u001b[38;5;241m=\u001b[39m(\u001b[38;5;241m10\u001b[39m,\u001b[38;5;241m10\u001b[39m))\n",
      "\u001b[0;31mAttributeError\u001b[0m: 'Nifti1Image' object has no attribute 'append'"
     ]
    }
   ],
   "source": [
    "\n",
    "# Cut out left and right dentate\n",
    "\n",
    "for i in range(2):\n",
    "    bg.append(bg_img.slicer[v1[0]:v2[0],v1[1]:v2[1],v1[2]:v2[2]])\n",
    "    fc.append(fcn_img.slicer[v1[0]:v2[0],v1[1]:v2[1],v1[2]:v2[2],0])\n",
    "\n",
    "fig = plt.figure(figsize=(10,10))\n",
    "\n",
    "gs = GridSpec(6, 2)\n",
    "ax1 = fig.add_subplot(gs[0])\n",
    "ax2 = fig.add_subplot(gs[1])\n",
    "ax3 = fig.add_subplot(gs[2])\n",
    "ax4 = fig.add_subplot(gs[3])\n",
    "nlp.plot_img(fc,bg_img=bg,\n",
    "    display_mode=\"z\",\n",
    "    axes=ax,\n",
    "    cut_coords=[-31,-33,-35,-37,-39],\n",
    "    black_bg=True)"
   ]
  }
 ],
 "metadata": {
  "kernelspec": {
   "display_name": "Python 3",
   "language": "python",
   "name": "python3"
  },
  "language_info": {
   "codemirror_mode": {
    "name": "ipython",
    "version": 3
   },
   "file_extension": ".py",
   "mimetype": "text/x-python",
   "name": "python",
   "nbconvert_exporter": "python",
   "pygments_lexer": "ipython3",
   "version": "3.11.5"
  }
 },
 "nbformat": 4,
 "nbformat_minor": 2
}
