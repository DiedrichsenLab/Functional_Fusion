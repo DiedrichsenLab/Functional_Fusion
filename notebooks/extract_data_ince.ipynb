{
 "cells": [
  {
   "cell_type": "code",
   "execution_count": 19,
   "metadata": {},
   "outputs": [
    {
     "ename": "ModuleNotFoundError",
     "evalue": "No module named 'Pontine7T'",
     "output_type": "error",
     "traceback": [
      "\u001b[0;31m---------------------------------------------------------------------------\u001b[0m",
      "\u001b[0;31mModuleNotFoundError\u001b[0m                       Traceback (most recent call last)",
      "\u001b[1;32m/Users/incehusain/Documents/GitHub/Functional_Fusion/notebooks/extract_data_ince.ipynb Cell 1\u001b[0m line \u001b[0;36m4\n\u001b[1;32m      <a href='vscode-notebook-cell:/Users/incehusain/Documents/GitHub/Functional_Fusion/notebooks/extract_data_ince.ipynb#W0sZmlsZQ%3D%3D?line=1'>2</a>\u001b[0m \u001b[39mimport\u001b[39;00m \u001b[39mFunctional_Fusion\u001b[39;00m\u001b[39m.\u001b[39;00m\u001b[39mutil\u001b[39;00m \u001b[39mas\u001b[39;00m \u001b[39mut\u001b[39;00m\n\u001b[1;32m      <a href='vscode-notebook-cell:/Users/incehusain/Documents/GitHub/Functional_Fusion/notebooks/extract_data_ince.ipynb#W0sZmlsZQ%3D%3D?line=2'>3</a>\u001b[0m \u001b[39mimport\u001b[39;00m \u001b[39mnibabel\u001b[39;00m \u001b[39mas\u001b[39;00m \u001b[39mnb\u001b[39;00m \n\u001b[0;32m----> <a href='vscode-notebook-cell:/Users/incehusain/Documents/GitHub/Functional_Fusion/notebooks/extract_data_ince.ipynb#W0sZmlsZQ%3D%3D?line=3'>4</a>\u001b[0m \u001b[39mimport\u001b[39;00m \u001b[39mPontine7T\u001b[39;00m\u001b[39m.\u001b[39;00m\u001b[39mscripts\u001b[39;00m\u001b[39m.\u001b[39;00m\u001b[39mdecomposing_variances\u001b[39;00m\n\u001b[1;32m      <a href='vscode-notebook-cell:/Users/incehusain/Documents/GitHub/Functional_Fusion/notebooks/extract_data_ince.ipynb#W0sZmlsZQ%3D%3D?line=4'>5</a>\u001b[0m base_dir \u001b[39m=\u001b[39m ut\u001b[39m.\u001b[39mget_base_dir()\n\u001b[1;32m      <a href='vscode-notebook-cell:/Users/incehusain/Documents/GitHub/Functional_Fusion/notebooks/extract_data_ince.ipynb#W0sZmlsZQ%3D%3D?line=6'>7</a>\u001b[0m \u001b[39mimport\u001b[39;00m \u001b[39mnumpy\u001b[39;00m \u001b[39mas\u001b[39;00m \u001b[39mnp\u001b[39;00m\n",
      "\u001b[0;31mModuleNotFoundError\u001b[0m: No module named 'Pontine7T'"
     ]
    }
   ],
   "source": [
    "import Functional_Fusion.dataset as ds\n",
    "import Functional_Fusion.util as ut\n",
    "import nibabel as nb \n",
    "import Pontine7T.scripts.decomposing_variances\n",
    "base_dir = ut.get_base_dir()\n",
    "\n",
    "import numpy as np"
   ]
  },
  {
   "cell_type": "code",
   "execution_count": 8,
   "metadata": {},
   "outputs": [],
   "source": [
    "X,info,dataset_obj = ds.get_dataset(base_dir,\n",
    "        dataset='MDTB',\n",
    "        atlas='MNISymC2',\n",
    "        sess='ses-s1',\n",
    "        type='CondRun')\n"
   ]
  },
  {
   "cell_type": "code",
   "execution_count": 21,
   "metadata": {},
   "outputs": [
    {
     "data": {
      "text/plain": [
       "(24, 464, 18290)"
      ]
     },
     "execution_count": 21,
     "metadata": {},
     "output_type": "execute_result"
    }
   ],
   "source": [
    "data = X\n",
    "\n",
    "cond_vec = np.tile(np.arange(1,11),16)\n",
    "\n",
    "part_vec = np.repeat(np.arange(1,17), 10)\n",
    "\n",
    "tensor_4d = decomposing_variances.flat2ndarray(data, cond_vec, part_vec)\n",
    "\n",
    "\n",
    "\n"
   ]
  }
 ],
 "metadata": {
  "kernelspec": {
   "display_name": "Python 3",
   "language": "python",
   "name": "python3"
  },
  "language_info": {
   "codemirror_mode": {
    "name": "ipython",
    "version": 3
   },
   "file_extension": ".py",
   "mimetype": "text/x-python",
   "name": "python",
   "nbconvert_exporter": "python",
   "pygments_lexer": "ipython3",
   "version": "3.12.0"
  }
 },
 "nbformat": 4,
 "nbformat_minor": 2
}
