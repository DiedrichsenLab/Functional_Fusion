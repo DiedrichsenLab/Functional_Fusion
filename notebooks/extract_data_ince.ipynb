{
 "cells": [
  {
   "cell_type": "code",
   "execution_count": 38,
   "metadata": {},
   "outputs": [],
   "source": [
    "import Functional_Fusion.dataset as ds\n",
    "import Functional_Fusion.util as ut\n",
    "import nibabel as nb \n",
    "import Functional_Fusion.array_convert as ac\n",
    "base_dir = ut.get_base_dir()\n",
    "\n",
    "import numpy as np\n",
    "import matplotlib.pyplot as plt\n",
    "import pandas as pd\n",
    "import seaborn as sn\n"
   ]
  },
  {
   "cell_type": "code",
   "execution_count": 8,
   "metadata": {},
   "outputs": [],
   "source": [
    "X,info,dataset_obj = ds.get_dataset(base_dir,\n",
    "        dataset='MDTB',\n",
    "        atlas='MNISymC2',\n",
    "        sess='ses-s1',\n",
    "        type='CondRun')\n"
   ]
  },
  {
   "cell_type": "code",
   "execution_count": 50,
   "metadata": {},
   "outputs": [],
   "source": [
    "Y,infoY,dataset_objY = ds.get_dataset(base_dir,\n",
    "        dataset='MDTB',\n",
    "        atlas='MNISymCereb2',\n",
    "        sess='ses-s1',\n",
    "        type='CondRun')"
   ]
  },
  {
   "cell_type": "code",
   "execution_count": 56,
   "metadata": {},
   "outputs": [],
   "source": [
    "#SymC2 \n",
    "\n",
    "data_C2 = X\n",
    "\n",
    "cond_vec = np.tile(np.arange(1,30),16)\n",
    "\n",
    "part_vec = np.repeat(np.arange(1,17), 29)\n",
    "\n",
    "tensor_4d = ac.flat2ndarray(data_C2, cond_vec, part_vec)\n",
    "\n",
    "tensor_4d.shape\n",
    "\n",
    "#cleaning tensor \n",
    "\n",
    "tensor_no_nans = np.nan_to_num(tensor_4d)\n",
    "\n",
    "tensor_avg_cond = tensor_no_nans.mean(axis=3, keepdims=1)\n",
    "\n",
    "tensor_mean_subtract_C2 = tensor_no_nans - tensor_avg_cond\n"
   ]
  },
  {
   "cell_type": "code",
   "execution_count": 57,
   "metadata": {},
   "outputs": [],
   "source": [
    "#SymCereb2\n",
    "\n",
    "data_Cereb2 = Y\n",
    "\n",
    "cond_vec = np.tile(np.arange(1,30),16)\n",
    "\n",
    "part_vec = np.repeat(np.arange(1,17), 29)\n",
    "\n",
    "tensor_4d = ac.flat2ndarray(data_Cereb2, cond_vec, part_vec)\n",
    "\n",
    "tensor_4d.shape\n",
    "\n",
    "#cleaning tensor \n",
    "\n",
    "tensor_no_nans = np.nan_to_num(tensor_4d)\n",
    "\n",
    "tensor_avg_cond = tensor_no_nans.mean(axis=3, keepdims=1)\n",
    "\n",
    "tensor_mean_subtract_cereb2 = tensor_no_nans - tensor_avg_cond"
   ]
  },
  {
   "cell_type": "code",
   "execution_count": 64,
   "metadata": {},
   "outputs": [
    {
     "ename": "AttributeError",
     "evalue": "module 'Functional_Fusion.array_convert' has no attribute 'get_structure_data'",
     "output_type": "error",
     "traceback": [
      "\u001b[0;31m---------------------------------------------------------------------------\u001b[0m",
      "\u001b[0;31mAttributeError\u001b[0m                            Traceback (most recent call last)",
      "\u001b[1;32m/Users/incehusain/Documents/GitHub/Functional_Fusion/notebooks/extract_data_ince.ipynb Cell 6\u001b[0m line \u001b[0;36m5\n\u001b[1;32m      <a href='vscode-notebook-cell:/Users/incehusain/Documents/GitHub/Functional_Fusion/notebooks/extract_data_ince.ipynb#X11sZmlsZQ%3D%3D?line=0'>1</a>\u001b[0m \u001b[39m#pontine7T\u001b[39;00m\n\u001b[1;32m      <a href='vscode-notebook-cell:/Users/incehusain/Documents/GitHub/Functional_Fusion/notebooks/extract_data_ince.ipynb#X11sZmlsZQ%3D%3D?line=1'>2</a>\u001b[0m \n\u001b[1;32m      <a href='vscode-notebook-cell:/Users/incehusain/Documents/GitHub/Functional_Fusion/notebooks/extract_data_ince.ipynb#X11sZmlsZQ%3D%3D?line=2'>3</a>\u001b[0m \u001b[39m#cerebellum data\u001b[39;00m\n\u001b[0;32m----> <a href='vscode-notebook-cell:/Users/incehusain/Documents/GitHub/Functional_Fusion/notebooks/extract_data_ince.ipynb#X11sZmlsZQ%3D%3D?line=4'>5</a>\u001b[0m flat_data \u001b[39m=\u001b[39m ac\u001b[39m.\u001b[39;49mget_structure_data(structure\u001b[39m=\u001b[39m\u001b[39m'\u001b[39m\u001b[39mcereb_gray\u001b[39m\u001b[39m'\u001b[39m,  data_dir\u001b[39m=\u001b[39m\u001b[39m'\u001b[39m\u001b[39m/Volumes/diedrichsen_data$/data/Cerebellum/Pontine7T/RegionOfInterest_BOLD/data/group\u001b[39m\u001b[39m'\u001b[39m)\n\u001b[1;32m      <a href='vscode-notebook-cell:/Users/incehusain/Documents/GitHub/Functional_Fusion/notebooks/extract_data_ince.ipynb#X11sZmlsZQ%3D%3D?line=6'>7</a>\u001b[0m cond_vec \u001b[39m=\u001b[39m np\u001b[39m.\u001b[39mtile(np\u001b[39m.\u001b[39marange(\u001b[39m1\u001b[39m,\u001b[39m11\u001b[39m),\u001b[39m16\u001b[39m)\n\u001b[1;32m      <a href='vscode-notebook-cell:/Users/incehusain/Documents/GitHub/Functional_Fusion/notebooks/extract_data_ince.ipynb#X11sZmlsZQ%3D%3D?line=8'>9</a>\u001b[0m part_vec \u001b[39m=\u001b[39m np\u001b[39m.\u001b[39mrepeat(np\u001b[39m.\u001b[39marange(\u001b[39m1\u001b[39m,\u001b[39m17\u001b[39m), \u001b[39m10\u001b[39m)\n",
      "\u001b[0;31mAttributeError\u001b[0m: module 'Functional_Fusion.array_convert' has no attribute 'get_structure_data'"
     ]
    }
   ],
   "source": [
    "#pontine7T\n",
    "\n",
    "#cerebellum data\n",
    "\n",
    "flat_data = ac.get_structure_data(structure='cereb_gray',  data_dir='/Volumes/diedrichsen_data$/data/Cerebellum/Pontine7T/RegionOfInterest_BOLD/data/group')\n",
    "\n",
    "cond_vec = np.tile(np.arange(1,11),16)\n",
    "\n",
    "part_vec = np.repeat(np.arange(1,17), 10)\n",
    "\n",
    "tensor_4d = ac.flat2ndarray(flat_data, cond_vec, part_vec)\n",
    "\n",
    "tensor_no_nans = np.nan_to_num(tensor_4d)\n",
    "\n",
    " #removing avg of all voxels + check to ensure no nans\n",
    "\n",
    "tensor_avg_cond = tensor_no_nans.mean(axis=3, keepdims=1) #this is the mean activity pattern \n",
    "\n",
    "tensor_mean_subtract_p = tensor_no_nans - tensor_avg_cond\n",
    "\n",
    "has_nans = np.isnan(tensor_mean_subtract_p).any()\n",
    "\n",
    "\n",
    "print(flat_data.shape)\n",
    "\n"
   ]
  },
  {
   "cell_type": "code",
   "execution_count": 58,
   "metadata": {},
   "outputs": [],
   "source": [
    "var_c2 = ds.decompose_pattern_into_group_indiv_noise(tensor_mean_subtract_C2, criterion='global')\n",
    "var_cereb2 = ds.decompose_pattern_into_group_indiv_noise(tensor_mean_subtract_cereb2, criterion='global')"
   ]
  },
  {
   "cell_type": "code",
   "execution_count": 60,
   "metadata": {},
   "outputs": [
    {
     "name": "stdout",
     "output_type": "stream",
     "text": [
      "100.0\n",
      "[[ 3.1394838   6.54269099 90.31782521]]\n",
      "[[ 3.4805857   6.98535834 89.53405595]]\n"
     ]
    }
   ],
   "source": [
    "var_norm_c2 = np.zeros((1,3)) #(10,3) means 10 rows, 3 variances; (1,3) means 1 row, 3 variances, etc \n",
    "var_norm_cereb2 = np.zeros((1,3))\n",
    "\n",
    "for i in range(1): #number of rows \n",
    "    row_sum_c2 = np.sum(var_c2[i])\n",
    "    var_norm_c2[i] = (var_c2[i]/row_sum_c2)*100\n",
    "\n",
    "    row_sum_cereb2 = np.sum(var_cereb2[i])\n",
    "    var_norm_cereb2[i] = (var_cereb2[i]/row_sum_cereb2)*100\n",
    "\n",
    "print(var_norm_c2[0][0] + var_norm_c2[0][1] + var_norm_c2[0][2])\n",
    "\n",
    "print(var_norm_c2)\n",
    "print(var_norm_cereb2)\n",
    "\n"
   ]
  },
  {
   "cell_type": "code",
   "execution_count": 63,
   "metadata": {},
   "outputs": [
    {
     "data": {
      "image/png": "[encoded data removed]",
      "text/plain": [
       "<Figure size 1200x800 with 1 Axes>"
      ]
     },
     "metadata": {},
     "output_type": "display_data"
    }
   ],
   "source": [
    "#plot global variances for each ROI\n",
    "\n",
    "data = {\n",
    "    'datasets': ['mdtb_MNISymC2', 'mdtb_MNISymCereb2'],\n",
    "    'vg_C2': var_norm_c2[:, 0],\n",
    "    'vs_C2': var_norm_c2[:, 1],\n",
    "    'vg_cereb2': var_norm_cereb2[:, 0],\n",
    "    'vs_cereb2': var_norm_cereb2[:, 1],\n",
    "}\n",
    "\n",
    "# Reshape the data into long format\n",
    "df_stacked = pd.DataFrame({\n",
    "    'datasets': data['datasets'] * len(data['vg_C2']),  # Repeat each dataset label for each observation\n",
    "    'vg': list(data['vg_C2']) + list(data['vg_cereb2']),   # Concatenate vg values for both datasets\n",
    "    'vs': list(data['vs_C2']) + list(data['vs_cereb2'])    # Concatenate vs values for both datasets\n",
    "})\n",
    "\n",
    "# Plotting\n",
    "plt.figure(figsize=(12, 8))\n",
    "\n",
    "# Plot 'vg' as the base part of the bar\n",
    "plt.bar(df_stacked['datasets'], df_stacked['vg'], label='vg', color='blue')\n",
    "\n",
    "# Stack 'vs' on top of 'vg'\n",
    "plt.bar(df_stacked['datasets'], df_stacked['vs'], bottom=df_stacked['vg'], label='vs', color='orange')\n",
    "\n",
    "# Customize the plot\n",
    "plt.xlabel('datasets')\n",
    "plt.ylabel('Values')\n",
    "plt.title('Global variances per dataset')\n",
    "plt.legend(title='Variance', loc='upper right')\n",
    "plt.ylim(top=11)\n",
    "plt.show()"
   ]
  }
 ],
 "metadata": {
  "kernelspec": {
   "display_name": "Python 3",
   "language": "python",
   "name": "python3"
  },
  "language_info": {
   "codemirror_mode": {
    "name": "ipython",
    "version": 3
   },
   "file_extension": ".py",
   "mimetype": "text/x-python",
   "name": "python",
   "nbconvert_exporter": "python",
   "pygments_lexer": "ipython3",
   "version": "3.12.0"
  }
 },
 "nbformat": 4,
 "nbformat_minor": 2
}
