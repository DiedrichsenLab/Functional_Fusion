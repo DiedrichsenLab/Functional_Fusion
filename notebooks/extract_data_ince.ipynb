{
 "cells": [
  {
   "cell_type": "code",
   "execution_count": 2,
   "metadata": {},
   "outputs": [],
   "source": [
    "import Functional_Fusion.dataset as ds\n",
    "import Functional_Fusion.util as ut\n",
    "import nibabel as nb \n",
    "import Functional_Fusion.array_convert as ac\n",
    "base_dir = ut.get_base_dir()\n",
    "\n",
    "import numpy as np\n",
    "import matplotlib.pyplot as plt\n",
    "import pandas as pd\n",
    "import seaborn as sn\n",
    "import nitools as nt\n"
   ]
  },
  {
   "cell_type": "code",
   "execution_count": 2,
   "metadata": {},
   "outputs": [
    {
     "name": "stdout",
     "output_type": "stream",
     "text": [
      "Atlasmap sub-01\n"
     ]
    },
    {
     "ename": "",
     "evalue": "",
     "output_type": "error",
     "traceback": [
      "\u001b[1;31mThe Kernel crashed while executing code in the the current cell or a previous cell. Please review the code in the cell(s) to identify a possible cause of the failure. Click <a href='https://aka.ms/vscodeJupyterKernelCrash'>here</a> for more info. View Jupyter <a href='command:jupyter.viewOutput'>log</a> for further details."
     ]
    }
   ],
   "source": [
    "dataset = ds.DataSetMDTB(base_dir + '/Language')\n",
    "dataset.extract_all(ses_id='ses-localizer_cond_fm',\n",
    "                    type='CondRun',\n",
    "                    atlas='MNISymCereb2',\n",
    "                    smooth=2)"
   ]
  },
  {
   "cell_type": "code",
   "execution_count": 3,
   "metadata": {},
   "outputs": [],
   "source": [
    "#this gives n_subj x n_cond x n_voxels tensor\n",
    "\n",
    "X,info,dataset_obj = ds.get_dataset(base_dir,\n",
    "        dataset='MDTB',\n",
    "        atlas='MNISymC2',\n",
    "        sess='ses-s1',\n",
    "        type='CondRun')\n",
    "\n",
    "X2,info2,dataset_obj2 = ds.get_dataset(base_dir,\n",
    "        dataset='MDTB',\n",
    "        atlas='MNISymCereb2',\n",
    "        sess='ses-s1',\n",
    "        type='CondRun')\n",
    "\n"
   ]
  },
  {
   "cell_type": "code",
   "execution_count": 4,
   "metadata": {},
   "outputs": [],
   "source": [
    "Y,infoY,dataset_objY = ds.get_dataset(base_dir,\n",
    "        dataset='Language',\n",
    "        atlas='MNISymC2',\n",
    "        sess='ses-localizer_cond_fm',\n",
    "        type='CondRun')\n",
    "\n",
    "Y2,infoY2,dataset_objY2 = ds.get_dataset(base_dir,\n",
    "        dataset='Language',\n",
    "        atlas='MNISymCereb2',\n",
    "        sess='ses-localizer_cond_fm',\n",
    "        type='CondRun')"
   ]
  },
  {
   "cell_type": "code",
   "execution_count": 5,
   "metadata": {},
   "outputs": [
    {
     "name": "stdout",
     "output_type": "stream",
     "text": [
      "(24, 464, 18290)\n"
     ]
    }
   ],
   "source": [
    "#atlas mdtb\n",
    "\n",
    "data_mdtb = X\n",
    "\n",
    "data_mdtb2 = X2\n",
    "\n",
    "cond_vec = np.tile(np.arange(1,30),16)\n",
    "\n",
    "part_vec = np.repeat(np.arange(1,17), 29)\n",
    "\n",
    "tensor_4d = ac.flat2ndarray(data_mdtb, cond_vec, part_vec)\n",
    "\n",
    "tensor_4d2 = ac.flat2ndarray(data_mdtb2, cond_vec, part_vec)\n",
    "\n",
    "tensor_4d.shape\n",
    "\n",
    "#cleaning tensor \n",
    "\n",
    "tensor_no_nans = np.nan_to_num(tensor_4d)\n",
    "\n",
    "tensor_no_nans2 = np.nan_to_num(tensor_4d2)\n",
    "\n",
    "tensor_avg_cond = tensor_no_nans.mean(axis=3, keepdims=1)\n",
    "\n",
    "tensor_avg_cond2 = tensor_no_nans2.mean(axis=3, keepdims=1)\n",
    "\n",
    "tensor_mean_subtract_mdtb = tensor_no_nans - tensor_avg_cond\n",
    "\n",
    "tensor_mean_subtract_mdtb2 = tensor_no_nans2 - tensor_avg_cond2\n",
    "\n",
    "print(data_mdtb.shape)\n"
   ]
  },
  {
   "cell_type": "code",
   "execution_count": 7,
   "metadata": {},
   "outputs": [
    {
     "name": "stdout",
     "output_type": "stream",
     "text": [
      "(17, 8, 18, 18290)\n",
      "(17, 8, 18, 18290)\n"
     ]
    }
   ],
   "source": [
    "#language \n",
    "\n",
    "data_language = Y\n",
    "\n",
    "data_language2 = Y2\n",
    "\n",
    "cond_vec = np.tile(np.arange(1,19),8)\n",
    "\n",
    "part_vec = np.repeat(np.arange(1,9), 18)\n",
    "\n",
    "tensor_4d = ac.flat2ndarray(data_language, cond_vec, part_vec)\n",
    "\n",
    "tensor_4d2 = ac.flat2ndarray(data_language2, cond_vec, part_vec)\n",
    "\n",
    "print(tensor_4d.shape)\n",
    "\n",
    "print(tensor_4d2.shape)\n",
    "\n",
    "#cleaning tensor \n",
    "\n",
    "tensor_no_nans = np.nan_to_num(tensor_4d)\n",
    "\n",
    "tensor_no_nans2 = np.nan_to_num(tensor_4d2)\n",
    "\n",
    "tensor_avg_cond = tensor_no_nans.mean(axis=3, keepdims=1)\n",
    "\n",
    "tensor_avg_cond2 = tensor_no_nans2.mean(axis=3, keepdims=1)\n",
    "\n",
    "tensor_mean_subtract_language = tensor_no_nans - tensor_avg_cond\n",
    "\n",
    "tensor_mean_subtract_language2 = tensor_no_nans2 - tensor_avg_cond2\n"
   ]
  },
  {
   "cell_type": "code",
   "execution_count": 18,
   "metadata": {},
   "outputs": [
    {
     "name": "stderr",
     "output_type": "stream",
     "text": [
      "vox offset (=1.40422e+06) not divisible by 16, not SPM compatible; leaving at current value\n",
      "vox offset (=1.40422e+06) not divisible by 16, not SPM compatible; leaving at current value\n",
      "/Library/Frameworks/Python.framework/Versions/3.12/lib/python3.12/site-packages/nibabel/nifti1.py:618: UserWarning: Extension size is not a multiple of 16 bytes; Assuming size is correct and hoping for the best\n",
      "  warnings.warn(\n",
      "vox offset (=1.40422e+06) not divisible by 16, not SPM compatible; leaving at current value\n",
      "vox offset (=1.40422e+06) not divisible by 16, not SPM compatible; leaving at current value\n",
      "vox offset (=1.40422e+06) not divisible by 16, not SPM compatible; leaving at current value\n",
      "vox offset (=1.40422e+06) not divisible by 16, not SPM compatible; leaving at current value\n",
      "vox offset (=1.40422e+06) not divisible by 16, not SPM compatible; leaving at current value\n",
      "vox offset (=1.40422e+06) not divisible by 16, not SPM compatible; leaving at current value\n",
      "vox offset (=1.40422e+06) not divisible by 16, not SPM compatible; leaving at current value\n",
      "vox offset (=1.40422e+06) not divisible by 16, not SPM compatible; leaving at current value\n",
      "vox offset (=1.40422e+06) not divisible by 16, not SPM compatible; leaving at current value\n",
      "vox offset (=1.40422e+06) not divisible by 16, not SPM compatible; leaving at current value\n",
      "vox offset (=1.40422e+06) not divisible by 16, not SPM compatible; leaving at current value\n",
      "vox offset (=1.40422e+06) not divisible by 16, not SPM compatible; leaving at current value\n",
      "vox offset (=1.40422e+06) not divisible by 16, not SPM compatible; leaving at current value\n",
      "vox offset (=1.40422e+06) not divisible by 16, not SPM compatible; leaving at current value\n",
      "vox offset (=1.40422e+06) not divisible by 16, not SPM compatible; leaving at current value\n",
      "vox offset (=1.40422e+06) not divisible by 16, not SPM compatible; leaving at current value\n",
      "vox offset (=1.40422e+06) not divisible by 16, not SPM compatible; leaving at current value\n",
      "vox offset (=1.40422e+06) not divisible by 16, not SPM compatible; leaving at current value\n",
      "vox offset (=1.40422e+06) not divisible by 16, not SPM compatible; leaving at current value\n",
      "vox offset (=1.40422e+06) not divisible by 16, not SPM compatible; leaving at current value\n",
      "vox offset (=1.40422e+06) not divisible by 16, not SPM compatible; leaving at current value\n",
      "vox offset (=1.40422e+06) not divisible by 16, not SPM compatible; leaving at current value\n",
      "vox offset (=1.40422e+06) not divisible by 16, not SPM compatible; leaving at current value\n",
      "vox offset (=1.40422e+06) not divisible by 16, not SPM compatible; leaving at current value\n",
      "vox offset (=1.40422e+06) not divisible by 16, not SPM compatible; leaving at current value\n",
      "vox offset (=1.40422e+06) not divisible by 16, not SPM compatible; leaving at current value\n",
      "vox offset (=1.40422e+06) not divisible by 16, not SPM compatible; leaving at current value\n",
      "vox offset (=1.40422e+06) not divisible by 16, not SPM compatible; leaving at current value\n",
      "vox offset (=1.40422e+06) not divisible by 16, not SPM compatible; leaving at current value\n",
      "vox offset (=1.40422e+06) not divisible by 16, not SPM compatible; leaving at current value\n",
      "vox offset (=1.40422e+06) not divisible by 16, not SPM compatible; leaving at current value\n",
      "vox offset (=1.40422e+06) not divisible by 16, not SPM compatible; leaving at current value\n",
      "vox offset (=1.40422e+06) not divisible by 16, not SPM compatible; leaving at current value\n",
      "vox offset (=1.40422e+06) not divisible by 16, not SPM compatible; leaving at current value\n",
      "vox offset (=1.40422e+06) not divisible by 16, not SPM compatible; leaving at current value\n",
      "vox offset (=1.40422e+06) not divisible by 16, not SPM compatible; leaving at current value\n",
      "vox offset (=1.40422e+06) not divisible by 16, not SPM compatible; leaving at current value\n",
      "vox offset (=1.40422e+06) not divisible by 16, not SPM compatible; leaving at current value\n",
      "vox offset (=1.40422e+06) not divisible by 16, not SPM compatible; leaving at current value\n",
      "vox offset (=1.40422e+06) not divisible by 16, not SPM compatible; leaving at current value\n",
      "vox offset (=1.40422e+06) not divisible by 16, not SPM compatible; leaving at current value\n",
      "vox offset (=1.40422e+06) not divisible by 16, not SPM compatible; leaving at current value\n",
      "vox offset (=1.40422e+06) not divisible by 16, not SPM compatible; leaving at current value\n",
      "vox offset (=1.40422e+06) not divisible by 16, not SPM compatible; leaving at current value\n",
      "vox offset (=1.40422e+06) not divisible by 16, not SPM compatible; leaving at current value\n",
      "vox offset (=1.40422e+06) not divisible by 16, not SPM compatible; leaving at current value\n"
     ]
    },
    {
     "name": "stdout",
     "output_type": "stream",
     "text": [
      "(16, 16, 10, 146192)\n"
     ]
    }
   ],
   "source": [
    "#pontine7T\n",
    "\n",
    "\n",
    "flat_data = ac.get_structure_data(structure='cereb_gray',  data_dir='/Volumes/diedrichsen_data$/data/Cerebellum/Pontine7T/RegionOfInterest_BOLDMNI/data/group')\n",
    "\n",
    "cond_vec = np.tile(np.arange(1,11),16)\n",
    "\n",
    "part_vec = np.repeat(np.arange(1,17), 10)\n",
    "\n",
    "tensor_4d = ac.flat2ndarray(flat_data, cond_vec, part_vec)\n",
    "\n",
    "tensor_no_nans = np.nan_to_num(tensor_4d)\n",
    "\n",
    " #removing avg of all voxels + check to ensure no nans\n",
    "\n",
    "tensor_avg_cond = tensor_no_nans.mean(axis=3, keepdims=1) #this is the mean activity pattern \n",
    "\n",
    "tensor_mean_subtract_BOLD = tensor_no_nans - tensor_avg_cond\n",
    "\n",
    "has_nans = np.isnan(tensor_mean_subtract_BOLD).any()\n",
    "\n",
    "\n",
    "print(tensor_mean_subtract_BOLD.shape)\n",
    "\n"
   ]
  },
  {
   "cell_type": "code",
   "execution_count": 17,
   "metadata": {},
   "outputs": [
    {
     "name": "stderr",
     "output_type": "stream",
     "text": [
      "vox offset (=1.52516e+06) not divisible by 16, not SPM compatible; leaving at current value\n",
      "vox offset (=1.52516e+06) not divisible by 16, not SPM compatible; leaving at current value\n",
      "/Library/Frameworks/Python.framework/Versions/3.12/lib/python3.12/site-packages/nibabel/nifti1.py:618: UserWarning: Extension size is not a multiple of 16 bytes; Assuming size is correct and hoping for the best\n",
      "  warnings.warn(\n",
      "vox offset (=1.52516e+06) not divisible by 16, not SPM compatible; leaving at current value\n",
      "vox offset (=1.52516e+06) not divisible by 16, not SPM compatible; leaving at current value\n",
      "vox offset (=1.52516e+06) not divisible by 16, not SPM compatible; leaving at current value\n",
      "vox offset (=1.52516e+06) not divisible by 16, not SPM compatible; leaving at current value\n",
      "vox offset (=1.52516e+06) not divisible by 16, not SPM compatible; leaving at current value\n",
      "vox offset (=1.52516e+06) not divisible by 16, not SPM compatible; leaving at current value\n",
      "vox offset (=1.52516e+06) not divisible by 16, not SPM compatible; leaving at current value\n",
      "vox offset (=1.52516e+06) not divisible by 16, not SPM compatible; leaving at current value\n",
      "vox offset (=1.52516e+06) not divisible by 16, not SPM compatible; leaving at current value\n",
      "vox offset (=1.52516e+06) not divisible by 16, not SPM compatible; leaving at current value\n",
      "vox offset (=1.52516e+06) not divisible by 16, not SPM compatible; leaving at current value\n",
      "vox offset (=1.52516e+06) not divisible by 16, not SPM compatible; leaving at current value\n",
      "vox offset (=1.52516e+06) not divisible by 16, not SPM compatible; leaving at current value\n",
      "vox offset (=1.52516e+06) not divisible by 16, not SPM compatible; leaving at current value\n",
      "vox offset (=1.52516e+06) not divisible by 16, not SPM compatible; leaving at current value\n",
      "vox offset (=1.52516e+06) not divisible by 16, not SPM compatible; leaving at current value\n",
      "vox offset (=1.52516e+06) not divisible by 16, not SPM compatible; leaving at current value\n",
      "vox offset (=1.52516e+06) not divisible by 16, not SPM compatible; leaving at current value\n",
      "vox offset (=1.52516e+06) not divisible by 16, not SPM compatible; leaving at current value\n",
      "vox offset (=1.52516e+06) not divisible by 16, not SPM compatible; leaving at current value\n",
      "vox offset (=1.52516e+06) not divisible by 16, not SPM compatible; leaving at current value\n",
      "vox offset (=1.52516e+06) not divisible by 16, not SPM compatible; leaving at current value\n",
      "vox offset (=1.52506e+06) not divisible by 16, not SPM compatible; leaving at current value\n",
      "vox offset (=1.52506e+06) not divisible by 16, not SPM compatible; leaving at current value\n",
      "vox offset (=1.52506e+06) not divisible by 16, not SPM compatible; leaving at current value\n",
      "vox offset (=1.52506e+06) not divisible by 16, not SPM compatible; leaving at current value\n",
      "vox offset (=1.52506e+06) not divisible by 16, not SPM compatible; leaving at current value\n",
      "vox offset (=1.52506e+06) not divisible by 16, not SPM compatible; leaving at current value\n",
      "vox offset (=1.5273e+06) not divisible by 16, not SPM compatible; leaving at current value\n",
      "vox offset (=1.5273e+06) not divisible by 16, not SPM compatible; leaving at current value\n",
      "vox offset (=1.5273e+06) not divisible by 16, not SPM compatible; leaving at current value\n",
      "vox offset (=1.52506e+06) not divisible by 16, not SPM compatible; leaving at current value\n",
      "vox offset (=1.52506e+06) not divisible by 16, not SPM compatible; leaving at current value\n",
      "vox offset (=1.52506e+06) not divisible by 16, not SPM compatible; leaving at current value\n",
      "vox offset (=1.52506e+06) not divisible by 16, not SPM compatible; leaving at current value\n",
      "vox offset (=1.52506e+06) not divisible by 16, not SPM compatible; leaving at current value\n",
      "vox offset (=1.52506e+06) not divisible by 16, not SPM compatible; leaving at current value\n",
      "vox offset (=1.52506e+06) not divisible by 16, not SPM compatible; leaving at current value\n",
      "vox offset (=1.52506e+06) not divisible by 16, not SPM compatible; leaving at current value\n",
      "vox offset (=1.52506e+06) not divisible by 16, not SPM compatible; leaving at current value\n",
      "vox offset (=1.52506e+06) not divisible by 16, not SPM compatible; leaving at current value\n",
      "vox offset (=1.52506e+06) not divisible by 16, not SPM compatible; leaving at current value\n",
      "vox offset (=1.52506e+06) not divisible by 16, not SPM compatible; leaving at current value\n",
      "vox offset (=1.52506e+06) not divisible by 16, not SPM compatible; leaving at current value\n",
      "vox offset (=1.52506e+06) not divisible by 16, not SPM compatible; leaving at current value\n",
      "vox offset (=1.52506e+06) not divisible by 16, not SPM compatible; leaving at current value\n"
     ]
    },
    {
     "name": "stdout",
     "output_type": "stream",
     "text": [
      "(16, 160, 164231)\n"
     ]
    }
   ],
   "source": [
    "#pontine7T\n",
    "\n",
    "\n",
    "flat_data = ac.get_structure_data(structure='cerebellum_gray',  data_dir='/Volumes/diedrichsen_data$/data/Cerebellum/Pontine7T/RegionOfInterest_SUIT/data/group')\n",
    "\n",
    "cond_vec = np.tile(np.arange(1,11),16)\n",
    "\n",
    "part_vec = np.repeat(np.arange(1,17), 10)\n",
    "\n",
    "tensor_4d = ac.flat2ndarray(flat_data, cond_vec, part_vec)\n",
    "\n",
    "tensor_no_nans = np.nan_to_num(tensor_4d)\n",
    "\n",
    " #removing avg of all voxels + check to ensure no nans\n",
    "\n",
    "tensor_avg_cond = tensor_no_nans.mean(axis=3, keepdims=1) #this is the mean activity pattern \n",
    "\n",
    "tensor_mean_subtract_7T = tensor_no_nans - tensor_avg_cond\n",
    "\n",
    "has_nans = np.isnan(tensor_mean_subtract_7T).any()\n",
    "\n",
    "\n",
    "print(flat_data.shape)\n",
    "\n"
   ]
  },
  {
   "cell_type": "code",
   "execution_count": 19,
   "metadata": {},
   "outputs": [
    {
     "name": "stdout",
     "output_type": "stream",
     "text": [
      "[[0.00065278 0.0013604  0.01877945]]\n",
      "[[0.00067622 0.00831148 0.23112561]]\n",
      "[[0.00099539 0.00807665 0.23925553]]\n",
      "[[0.00292091 0.00657326 0.05738278]]\n",
      "[[0.00285789 0.00645748 0.05686341]]\n"
     ]
    }
   ],
   "source": [
    "var_mdtb = ds.decompose_pattern_into_group_indiv_noise(tensor_mean_subtract_mdtb, criterion='global')\n",
    "var_mdtb2 = ds.decompose_pattern_into_group_indiv_noise(tensor_mean_subtract_mdtb2, criterion='global')\n",
    "var_language = ds.decompose_pattern_into_group_indiv_noise(tensor_mean_subtract_language, criterion='global')\n",
    "var_language2 = ds.decompose_pattern_into_group_indiv_noise(tensor_mean_subtract_language2, criterion='global')\n",
    "var_7T = ds.decompose_pattern_into_group_indiv_noise(tensor_mean_subtract_7T, criterion='global')\n",
    "var_7T_old = ds.decompose_pattern_into_group_indiv_noise(tensor_mean_subtract_BOLD, criterion='global')\n",
    "\n",
    "print(var_mdtb)\n",
    "print(var_7T)\n",
    "print(var_7T_old)\n",
    "print(var_language)\n",
    "print(var_language2)"
   ]
  },
  {
   "cell_type": "code",
   "execution_count": 20,
   "metadata": {},
   "outputs": [
    {
     "name": "stdout",
     "output_type": "stream",
     "text": [
      "100.0\n",
      "[[ 3.1394838   6.54269099 90.31782521]]\n",
      "[[ 0.28162588  3.46148317 96.25689095]]\n",
      "[[ 4.36758481  9.82889216 85.80352303]]\n",
      "[[ 4.31843212  9.75762416 85.92394372]]\n"
     ]
    }
   ],
   "source": [
    "var_norm_mdtb = np.zeros((1,3)) #(10,3) means 10 rows, 3 variances; (1,3) means 1 row, 3 variances, etc \n",
    "var_norm_mdtb2 = np.zeros((1,3))\n",
    "var_norm_7T = np.zeros((1,3))\n",
    "var_norm_7T_old = np.zeros((1,3))\n",
    "var_norm_language = np.zeros((1,3))\n",
    "var_norm_language2 = np.zeros((1,3))\n",
    "\n",
    "for i in range(1): #number of rows \n",
    "    row_sum_mdtb = np.sum(var_mdtb[i])\n",
    "    var_norm_mdtb[i] = (var_mdtb[i]/row_sum_mdtb)*100\n",
    "\n",
    "    row_sum_mdtb2 = np.sum(var_mdtb2[i])\n",
    "    var_norm_mdtb2[i] = (var_mdtb2[i]/row_sum_mdtb2)*100\n",
    "\n",
    "    row_sum_7T = np.sum(var_7T[i])\n",
    "    var_norm_7T[i] = (var_7T[i]/row_sum_7T)*100\n",
    "\n",
    "    row_sum_7T_old = np.sum(var_7T_old[i])\n",
    "    var_norm_7T_old[i] = (var_7T[i]/row_sum_7T_old)*100\n",
    "    \n",
    "    row_sum_lang = np.sum(var_language[i])\n",
    "    var_norm_language[i] = (var_language[i]/row_sum_lang)*100\n",
    "\n",
    "    row_sum_lang2 = np.sum(var_language2[i])\n",
    "    var_norm_language2[i] = (var_language2[i]/row_sum_lang2)*100\n",
    "\n",
    "\n",
    "print(var_norm_mdtb[0][0] + var_norm_mdtb[0][1] + var_norm_mdtb[0][2])\n",
    "\n",
    "print(var_norm_mdtb)\n",
    "print(var_norm_7T)\n",
    "print(var_norm_language)\n",
    "print(var_norm_language2)\n"
   ]
  },
  {
   "cell_type": "code",
   "execution_count": 21,
   "metadata": {},
   "outputs": [
    {
     "data": {
      "image/png": "[encoded data removed]",
      "text/plain": [
       "<Figure size 1200x800 with 1 Axes>"
      ]
     },
     "metadata": {},
     "output_type": "display_data"
    }
   ],
   "source": [
    "import matplotlib.pyplot as plt\n",
    "import pandas as pd\n",
    "import matplotlib.patches as mpatches\n",
    "\n",
    "# Example data\n",
    "data = {\n",
    "    'datasets': ['mdtb_T1','mdtb_BOLD', 'language_T1', 'language_BOLD', 'pontine7T_T1', 'pontine7T_BOLD'],\n",
    "    'vg_mdtb': var_norm_mdtb[:, 0],\n",
    "    'vs_mdtb': var_norm_mdtb[:, 1],\n",
    "    'vg_mdtb2': var_norm_mdtb2[:, 0],\n",
    "    'vs_mdtb2': var_norm_mdtb2[:, 1],\n",
    "    'vg_language': var_norm_language[:, 0],\n",
    "    'vs_language' : var_norm_language[:,1],\n",
    "    'vg_language2': var_norm_language2[:, 0],\n",
    "    'vs_language2' : var_norm_language2[:,1],\n",
    "     'vg_7T_old': var_norm_7T_old[:, 0],\n",
    "    'vs_7T_old': var_norm_7T_old[:, 1],\n",
    "    'vg_7T': var_norm_7T[:, 0],\n",
    "    'vs_7T': var_norm_7T[:, 1]\n",
    "}\n",
    "\n",
    "# Reshape the data into long format\n",
    "df_stacked = pd.DataFrame({\n",
    "    'datasets': data['datasets'] * len(data['vg_mdtb']),\n",
    "    'vg': list(data['vg_mdtb']) + list(data['vg_mdtb2']) + list(data['vg_language']) + list(data['vg_language2']) + list(data['vg_7T_old']) + list(data['vg_7T']),\n",
    "    'vs': list(data['vs_mdtb']) + list(data['vs_mdtb2']) + list(data['vs_language']) + list(data['vs_language2']) + list(data['vs_7T_old']) + list(data['vs_7T'])\n",
    "})\n",
    "\n",
    "# Plotting\n",
    "plt.figure(figsize=(12, 8))\n",
    "\n",
    "# Separate positive and negative values for 'vg' and 'vs'\n",
    "vg_positive = df_stacked['vg'].clip(lower=0)\n",
    "vg_negative = df_stacked['vg'].clip(upper=0)\n",
    "vs_positive = df_stacked['vs'].clip(lower=0)\n",
    "vs_negative = df_stacked['vs'].clip(upper=0)\n",
    "\n",
    "# Plot positive 'vg' and 'vs' (no labels to avoid duplicate legend entries)\n",
    "plt.bar(df_stacked['datasets'], vg_positive, color='blue')\n",
    "plt.bar(df_stacked['datasets'], vs_positive, bottom=vg_positive, color='red')\n",
    "\n",
    "# Plot negative 'vg' and 'vs' (no labels to avoid duplicate legend entries)\n",
    "plt.bar(df_stacked['datasets'], vg_negative, color='blue')\n",
    "plt.bar(df_stacked['datasets'], vs_negative, bottom=vg_negative, color='red')\n",
    "\n",
    "# Create custom legend\n",
    "vg_patch = mpatches.Patch(color='blue', label='vg')\n",
    "vs_patch = mpatches.Patch(color='red', label='vs')\n",
    "plt.legend(handles=[vg_patch, vs_patch], title='Variance', loc='upper right')\n",
    "\n",
    "# Customize the plot\n",
    "plt.xlabel('datasets')\n",
    "plt.ylabel('Variances (%)')\n",
    "plt.title('Global variances per dataset (cereb_grey)')\n",
    "plt.ylim(0, 15)\n",
    "plt.show()\n"
   ]
  },
  {
   "cell_type": "code",
   "execution_count": 54,
   "metadata": {},
   "outputs": [
    {
     "data": {
      "image/png": "[encoded data removed]",
      "text/plain": [
       "<Figure size 1200x800 with 1 Axes>"
      ]
     },
     "metadata": {},
     "output_type": "display_data"
    }
   ],
   "source": [
    "#plot global variances for each ROI\n",
    "\n",
    "data = {\n",
    "    'datasets': ['mdtb', 'pontine7T'],\n",
    "    'vg_mdtb': var_norm_mdtb[:, 0],\n",
    "    'vs_mdtb': var_norm_mdtb[:, 1],\n",
    "    'vg_7T': var_norm_7T[:, 0],\n",
    "    'vs_7T': var_norm_7T[:, 1]\n",
    "}\n",
    "\n",
    "# Reshape the data into long format\n",
    "df_stacked = pd.DataFrame({\n",
    "    'datasets': data['datasets'] * len(data['vg_mdtb']),  # Repeat each dataset label for each observation\n",
    "    'vg': list(data['vg_mdtb']) + list(data['vg_7T']),   # Concatenate vg values for both datasets\n",
    "    'vs': list(data['vs_mdtb']) + list(data['vs_7T'])    # Concatenate vs values for both datasets\n",
    "})\n",
    "\n",
    "# Plotting\n",
    "plt.figure(figsize=(12, 8))\n",
    "\n",
    "# Plot 'vg' as the base part of the bar\n",
    "plt.bar(df_stacked['datasets'], df_stacked['vg'], label='vg', color='blue')\n",
    "\n",
    "# Stack 'vs' on top of 'vg'\n",
    "plt.bar(df_stacked['datasets'], df_stacked['vs'], bottom=df_stacked['vg'], label='vs', color='red')\n",
    "\n",
    "# Customize the plot\n",
    "plt.xlabel('datasets')\n",
    "plt.ylabel('Variances (%)')\n",
    "plt.title('Global variances per dataset (olive)')\n",
    "plt.legend(title='Variance', loc='upper right')\n",
    "plt.ylim(-0.02,0)\n",
    "plt.show()"
   ]
  }
 ],
 "metadata": {
  "kernelspec": {
   "display_name": "Python 3",
   "language": "python",
   "name": "python3"
  },
  "language_info": {
   "codemirror_mode": {
    "name": "ipython",
    "version": 3
   },
   "file_extension": ".py",
   "mimetype": "text/x-python",
   "name": "python",
   "nbconvert_exporter": "python",
   "pygments_lexer": "ipython3",
   "version": "3.12.0"
  }
 },
 "nbformat": 4,
 "nbformat_minor": 2
}
