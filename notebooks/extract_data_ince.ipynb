{
 "cells": [
  {
   "cell_type": "code",
   "execution_count": 2,
   "metadata": {},
   "outputs": [],
   "source": [
    "import Functional_Fusion.dataset as ds\n",
    "import Functional_Fusion.util as ut\n",
    "import nibabel as nb \n",
    "import Functional_Fusion.array_convert as ac\n",
    "base_dir = ut.get_base_dir()\n",
    "\n",
    "import numpy as np\n",
    "import matplotlib.pyplot as plt\n",
    "import pandas as pd\n",
    "import seaborn as sn\n",
    "import nitools as nt\n"
   ]
  },
  {
   "cell_type": "code",
   "execution_count": 52,
   "metadata": {},
   "outputs": [
    {
     "name": "stdout",
     "output_type": "stream",
     "text": [
      "Atlasmap sub-02\n",
      "Extract sub-02\n"
     ]
    },
    {
     "name": "stderr",
     "output_type": "stream",
     "text": [
      "/Users/incehusain/Documents/GitHub/Functional_Fusion/Functional_Fusion/dataset.py:223: FutureWarning: The provided callable <function sum at 0x1054094e0> is currently using SeriesGroupBy.sum. In a future version of pandas, the provided callable will be used directly. To keep current behavior pass the string \"sum\" instead.\n",
      "  data_info = info_gb.agg(operations).reset_index()\n",
      "/Users/incehusain/Documents/GitHub/Functional_Fusion/Functional_Fusion/dataset.py:223: FutureWarning: The provided callable <built-in function max> is currently using SeriesGroupBy.max. In a future version of pandas, the provided callable will be used directly. To keep current behavior pass the string \"max\" instead.\n",
      "  data_info = info_gb.agg(operations).reset_index()\n"
     ]
    },
    {
     "name": "stdout",
     "output_type": "stream",
     "text": [
      "Atlasmap sub-03\n"
     ]
    },
    {
     "ename": "",
     "evalue": "",
     "output_type": "error",
     "traceback": [
      "\u001b[1;31mThe Kernel crashed while executing code in the the current cell or a previous cell. Please review the code in the cell(s) to identify a possible cause of the failure. Click <a href='https://aka.ms/vscodeJupyterKernelCrash'>here</a> for more info. View Jupyter <a href='command:jupyter.viewOutput'>log</a> for further details."
     ]
    }
   ],
   "source": [
    "dataset = ds.DataSetMDTB(base_dir + '/MDTB')\n",
    "dataset.extract_all(ses_id='ses-s1',\n",
    "                    type='CondRun',\n",
    "                    atlas='MNISymThalamus1',\n",
    "                    smooth=2)"
   ]
  },
  {
   "cell_type": "code",
   "execution_count": 51,
   "metadata": {},
   "outputs": [
    {
     "name": "stdout",
     "output_type": "stream",
     "text": [
      "Atlasmap sub-02\n",
      "Extract sub-02\n"
     ]
    },
    {
     "name": "stderr",
     "output_type": "stream",
     "text": [
      "/Users/incehusain/Documents/GitHub/Functional_Fusion/Functional_Fusion/dataset.py:223: FutureWarning: The provided callable <function sum at 0x1054094e0> is currently using SeriesGroupBy.sum. In a future version of pandas, the provided callable will be used directly. To keep current behavior pass the string \"sum\" instead.\n",
      "  data_info = info_gb.agg(operations).reset_index()\n",
      "/Users/incehusain/Documents/GitHub/Functional_Fusion/Functional_Fusion/dataset.py:223: FutureWarning: The provided callable <built-in function max> is currently using SeriesGroupBy.max. In a future version of pandas, the provided callable will be used directly. To keep current behavior pass the string \"max\" instead.\n",
      "  data_info = info_gb.agg(operations).reset_index()\n"
     ]
    },
    {
     "name": "stdout",
     "output_type": "stream",
     "text": [
      "Atlasmap sub-03\n",
      "Extract sub-03\n"
     ]
    },
    {
     "name": "stderr",
     "output_type": "stream",
     "text": [
      "/Users/incehusain/Documents/GitHub/Functional_Fusion/Functional_Fusion/dataset.py:223: FutureWarning: The provided callable <function sum at 0x1054094e0> is currently using SeriesGroupBy.sum. In a future version of pandas, the provided callable will be used directly. To keep current behavior pass the string \"sum\" instead.\n",
      "  data_info = info_gb.agg(operations).reset_index()\n",
      "/Users/incehusain/Documents/GitHub/Functional_Fusion/Functional_Fusion/dataset.py:223: FutureWarning: The provided callable <built-in function max> is currently using SeriesGroupBy.max. In a future version of pandas, the provided callable will be used directly. To keep current behavior pass the string \"max\" instead.\n",
      "  data_info = info_gb.agg(operations).reset_index()\n"
     ]
    },
    {
     "name": "stdout",
     "output_type": "stream",
     "text": [
      "Atlasmap sub-04\n",
      "Extract sub-04\n"
     ]
    },
    {
     "name": "stderr",
     "output_type": "stream",
     "text": [
      "/Users/incehusain/Documents/GitHub/Functional_Fusion/Functional_Fusion/dataset.py:223: FutureWarning: The provided callable <function sum at 0x1054094e0> is currently using SeriesGroupBy.sum. In a future version of pandas, the provided callable will be used directly. To keep current behavior pass the string \"sum\" instead.\n",
      "  data_info = info_gb.agg(operations).reset_index()\n",
      "/Users/incehusain/Documents/GitHub/Functional_Fusion/Functional_Fusion/dataset.py:223: FutureWarning: The provided callable <built-in function max> is currently using SeriesGroupBy.max. In a future version of pandas, the provided callable will be used directly. To keep current behavior pass the string \"max\" instead.\n",
      "  data_info = info_gb.agg(operations).reset_index()\n"
     ]
    },
    {
     "name": "stdout",
     "output_type": "stream",
     "text": [
      "Atlasmap sub-06\n",
      "Extract sub-06\n"
     ]
    },
    {
     "name": "stderr",
     "output_type": "stream",
     "text": [
      "/Users/incehusain/Documents/GitHub/Functional_Fusion/Functional_Fusion/dataset.py:223: FutureWarning: The provided callable <function sum at 0x1054094e0> is currently using SeriesGroupBy.sum. In a future version of pandas, the provided callable will be used directly. To keep current behavior pass the string \"sum\" instead.\n",
      "  data_info = info_gb.agg(operations).reset_index()\n",
      "/Users/incehusain/Documents/GitHub/Functional_Fusion/Functional_Fusion/dataset.py:223: FutureWarning: The provided callable <built-in function max> is currently using SeriesGroupBy.max. In a future version of pandas, the provided callable will be used directly. To keep current behavior pass the string \"max\" instead.\n",
      "  data_info = info_gb.agg(operations).reset_index()\n"
     ]
    },
    {
     "name": "stdout",
     "output_type": "stream",
     "text": [
      "Atlasmap sub-08\n",
      "Extract sub-08\n"
     ]
    },
    {
     "name": "stderr",
     "output_type": "stream",
     "text": [
      "/Users/incehusain/Documents/GitHub/Functional_Fusion/Functional_Fusion/dataset.py:223: FutureWarning: The provided callable <function sum at 0x1054094e0> is currently using SeriesGroupBy.sum. In a future version of pandas, the provided callable will be used directly. To keep current behavior pass the string \"sum\" instead.\n",
      "  data_info = info_gb.agg(operations).reset_index()\n",
      "/Users/incehusain/Documents/GitHub/Functional_Fusion/Functional_Fusion/dataset.py:223: FutureWarning: The provided callable <built-in function max> is currently using SeriesGroupBy.max. In a future version of pandas, the provided callable will be used directly. To keep current behavior pass the string \"max\" instead.\n",
      "  data_info = info_gb.agg(operations).reset_index()\n"
     ]
    },
    {
     "name": "stdout",
     "output_type": "stream",
     "text": [
      "Atlasmap sub-09\n",
      "Extract sub-09\n"
     ]
    },
    {
     "name": "stderr",
     "output_type": "stream",
     "text": [
      "/Users/incehusain/Documents/GitHub/Functional_Fusion/Functional_Fusion/dataset.py:223: FutureWarning: The provided callable <function sum at 0x1054094e0> is currently using SeriesGroupBy.sum. In a future version of pandas, the provided callable will be used directly. To keep current behavior pass the string \"sum\" instead.\n",
      "  data_info = info_gb.agg(operations).reset_index()\n",
      "/Users/incehusain/Documents/GitHub/Functional_Fusion/Functional_Fusion/dataset.py:223: FutureWarning: The provided callable <built-in function max> is currently using SeriesGroupBy.max. In a future version of pandas, the provided callable will be used directly. To keep current behavior pass the string \"max\" instead.\n",
      "  data_info = info_gb.agg(operations).reset_index()\n"
     ]
    },
    {
     "name": "stdout",
     "output_type": "stream",
     "text": [
      "Atlasmap sub-10\n",
      "Extract sub-10\n"
     ]
    },
    {
     "name": "stderr",
     "output_type": "stream",
     "text": [
      "/Users/incehusain/Documents/GitHub/Functional_Fusion/Functional_Fusion/dataset.py:223: FutureWarning: The provided callable <function sum at 0x1054094e0> is currently using SeriesGroupBy.sum. In a future version of pandas, the provided callable will be used directly. To keep current behavior pass the string \"sum\" instead.\n",
      "  data_info = info_gb.agg(operations).reset_index()\n",
      "/Users/incehusain/Documents/GitHub/Functional_Fusion/Functional_Fusion/dataset.py:223: FutureWarning: The provided callable <built-in function max> is currently using SeriesGroupBy.max. In a future version of pandas, the provided callable will be used directly. To keep current behavior pass the string \"max\" instead.\n",
      "  data_info = info_gb.agg(operations).reset_index()\n"
     ]
    },
    {
     "name": "stdout",
     "output_type": "stream",
     "text": [
      "Atlasmap sub-12\n",
      "Extract sub-12\n"
     ]
    },
    {
     "name": "stderr",
     "output_type": "stream",
     "text": [
      "/Users/incehusain/Documents/GitHub/Functional_Fusion/Functional_Fusion/dataset.py:223: FutureWarning: The provided callable <function sum at 0x1054094e0> is currently using SeriesGroupBy.sum. In a future version of pandas, the provided callable will be used directly. To keep current behavior pass the string \"sum\" instead.\n",
      "  data_info = info_gb.agg(operations).reset_index()\n",
      "/Users/incehusain/Documents/GitHub/Functional_Fusion/Functional_Fusion/dataset.py:223: FutureWarning: The provided callable <built-in function max> is currently using SeriesGroupBy.max. In a future version of pandas, the provided callable will be used directly. To keep current behavior pass the string \"max\" instead.\n",
      "  data_info = info_gb.agg(operations).reset_index()\n"
     ]
    },
    {
     "name": "stdout",
     "output_type": "stream",
     "text": [
      "Atlasmap sub-14\n",
      "Extract sub-14\n"
     ]
    },
    {
     "name": "stderr",
     "output_type": "stream",
     "text": [
      "/Users/incehusain/Documents/GitHub/Functional_Fusion/Functional_Fusion/dataset.py:223: FutureWarning: The provided callable <function sum at 0x1054094e0> is currently using SeriesGroupBy.sum. In a future version of pandas, the provided callable will be used directly. To keep current behavior pass the string \"sum\" instead.\n",
      "  data_info = info_gb.agg(operations).reset_index()\n",
      "/Users/incehusain/Documents/GitHub/Functional_Fusion/Functional_Fusion/dataset.py:223: FutureWarning: The provided callable <built-in function max> is currently using SeriesGroupBy.max. In a future version of pandas, the provided callable will be used directly. To keep current behavior pass the string \"max\" instead.\n",
      "  data_info = info_gb.agg(operations).reset_index()\n"
     ]
    },
    {
     "name": "stdout",
     "output_type": "stream",
     "text": [
      "Atlasmap sub-15\n",
      "Extract sub-15\n"
     ]
    },
    {
     "name": "stderr",
     "output_type": "stream",
     "text": [
      "/Users/incehusain/Documents/GitHub/Functional_Fusion/Functional_Fusion/dataset.py:223: FutureWarning: The provided callable <function sum at 0x1054094e0> is currently using SeriesGroupBy.sum. In a future version of pandas, the provided callable will be used directly. To keep current behavior pass the string \"sum\" instead.\n",
      "  data_info = info_gb.agg(operations).reset_index()\n",
      "/Users/incehusain/Documents/GitHub/Functional_Fusion/Functional_Fusion/dataset.py:223: FutureWarning: The provided callable <built-in function max> is currently using SeriesGroupBy.max. In a future version of pandas, the provided callable will be used directly. To keep current behavior pass the string \"max\" instead.\n",
      "  data_info = info_gb.agg(operations).reset_index()\n"
     ]
    },
    {
     "name": "stdout",
     "output_type": "stream",
     "text": [
      "Atlasmap sub-17\n",
      "Extract sub-17\n"
     ]
    },
    {
     "name": "stderr",
     "output_type": "stream",
     "text": [
      "/Users/incehusain/Documents/GitHub/Functional_Fusion/Functional_Fusion/dataset.py:223: FutureWarning: The provided callable <function sum at 0x1054094e0> is currently using SeriesGroupBy.sum. In a future version of pandas, the provided callable will be used directly. To keep current behavior pass the string \"sum\" instead.\n",
      "  data_info = info_gb.agg(operations).reset_index()\n",
      "/Users/incehusain/Documents/GitHub/Functional_Fusion/Functional_Fusion/dataset.py:223: FutureWarning: The provided callable <built-in function max> is currently using SeriesGroupBy.max. In a future version of pandas, the provided callable will be used directly. To keep current behavior pass the string \"max\" instead.\n",
      "  data_info = info_gb.agg(operations).reset_index()\n"
     ]
    },
    {
     "name": "stdout",
     "output_type": "stream",
     "text": [
      "Atlasmap sub-18\n",
      "Extract sub-18\n"
     ]
    },
    {
     "name": "stderr",
     "output_type": "stream",
     "text": [
      "/Users/incehusain/Documents/GitHub/Functional_Fusion/Functional_Fusion/dataset.py:223: FutureWarning: The provided callable <function sum at 0x1054094e0> is currently using SeriesGroupBy.sum. In a future version of pandas, the provided callable will be used directly. To keep current behavior pass the string \"sum\" instead.\n",
      "  data_info = info_gb.agg(operations).reset_index()\n",
      "/Users/incehusain/Documents/GitHub/Functional_Fusion/Functional_Fusion/dataset.py:223: FutureWarning: The provided callable <built-in function max> is currently using SeriesGroupBy.max. In a future version of pandas, the provided callable will be used directly. To keep current behavior pass the string \"max\" instead.\n",
      "  data_info = info_gb.agg(operations).reset_index()\n"
     ]
    },
    {
     "name": "stdout",
     "output_type": "stream",
     "text": [
      "Atlasmap sub-19\n",
      "Extract sub-19\n"
     ]
    },
    {
     "name": "stderr",
     "output_type": "stream",
     "text": [
      "/Users/incehusain/Documents/GitHub/Functional_Fusion/Functional_Fusion/dataset.py:223: FutureWarning: The provided callable <function sum at 0x1054094e0> is currently using SeriesGroupBy.sum. In a future version of pandas, the provided callable will be used directly. To keep current behavior pass the string \"sum\" instead.\n",
      "  data_info = info_gb.agg(operations).reset_index()\n",
      "/Users/incehusain/Documents/GitHub/Functional_Fusion/Functional_Fusion/dataset.py:223: FutureWarning: The provided callable <built-in function max> is currently using SeriesGroupBy.max. In a future version of pandas, the provided callable will be used directly. To keep current behavior pass the string \"max\" instead.\n",
      "  data_info = info_gb.agg(operations).reset_index()\n"
     ]
    },
    {
     "name": "stdout",
     "output_type": "stream",
     "text": [
      "Atlasmap sub-20\n",
      "Extract sub-20\n"
     ]
    },
    {
     "name": "stderr",
     "output_type": "stream",
     "text": [
      "/Users/incehusain/Documents/GitHub/Functional_Fusion/Functional_Fusion/dataset.py:223: FutureWarning: The provided callable <function sum at 0x1054094e0> is currently using SeriesGroupBy.sum. In a future version of pandas, the provided callable will be used directly. To keep current behavior pass the string \"sum\" instead.\n",
      "  data_info = info_gb.agg(operations).reset_index()\n",
      "/Users/incehusain/Documents/GitHub/Functional_Fusion/Functional_Fusion/dataset.py:223: FutureWarning: The provided callable <built-in function max> is currently using SeriesGroupBy.max. In a future version of pandas, the provided callable will be used directly. To keep current behavior pass the string \"max\" instead.\n",
      "  data_info = info_gb.agg(operations).reset_index()\n"
     ]
    },
    {
     "name": "stdout",
     "output_type": "stream",
     "text": [
      "Atlasmap sub-21\n",
      "Extract sub-21\n"
     ]
    },
    {
     "name": "stderr",
     "output_type": "stream",
     "text": [
      "/Users/incehusain/Documents/GitHub/Functional_Fusion/Functional_Fusion/dataset.py:223: FutureWarning: The provided callable <function sum at 0x1054094e0> is currently using SeriesGroupBy.sum. In a future version of pandas, the provided callable will be used directly. To keep current behavior pass the string \"sum\" instead.\n",
      "  data_info = info_gb.agg(operations).reset_index()\n",
      "/Users/incehusain/Documents/GitHub/Functional_Fusion/Functional_Fusion/dataset.py:223: FutureWarning: The provided callable <built-in function max> is currently using SeriesGroupBy.max. In a future version of pandas, the provided callable will be used directly. To keep current behavior pass the string \"max\" instead.\n",
      "  data_info = info_gb.agg(operations).reset_index()\n"
     ]
    },
    {
     "name": "stdout",
     "output_type": "stream",
     "text": [
      "Atlasmap sub-22\n",
      "Extract sub-22\n"
     ]
    },
    {
     "name": "stderr",
     "output_type": "stream",
     "text": [
      "/Users/incehusain/Documents/GitHub/Functional_Fusion/Functional_Fusion/dataset.py:223: FutureWarning: The provided callable <function sum at 0x1054094e0> is currently using SeriesGroupBy.sum. In a future version of pandas, the provided callable will be used directly. To keep current behavior pass the string \"sum\" instead.\n",
      "  data_info = info_gb.agg(operations).reset_index()\n",
      "/Users/incehusain/Documents/GitHub/Functional_Fusion/Functional_Fusion/dataset.py:223: FutureWarning: The provided callable <built-in function max> is currently using SeriesGroupBy.max. In a future version of pandas, the provided callable will be used directly. To keep current behavior pass the string \"max\" instead.\n",
      "  data_info = info_gb.agg(operations).reset_index()\n"
     ]
    },
    {
     "name": "stdout",
     "output_type": "stream",
     "text": [
      "Atlasmap sub-24\n",
      "Extract sub-24\n"
     ]
    },
    {
     "name": "stderr",
     "output_type": "stream",
     "text": [
      "/Users/incehusain/Documents/GitHub/Functional_Fusion/Functional_Fusion/dataset.py:223: FutureWarning: The provided callable <function sum at 0x1054094e0> is currently using SeriesGroupBy.sum. In a future version of pandas, the provided callable will be used directly. To keep current behavior pass the string \"sum\" instead.\n",
      "  data_info = info_gb.agg(operations).reset_index()\n",
      "/Users/incehusain/Documents/GitHub/Functional_Fusion/Functional_Fusion/dataset.py:223: FutureWarning: The provided callable <built-in function max> is currently using SeriesGroupBy.max. In a future version of pandas, the provided callable will be used directly. To keep current behavior pass the string \"max\" instead.\n",
      "  data_info = info_gb.agg(operations).reset_index()\n"
     ]
    },
    {
     "name": "stdout",
     "output_type": "stream",
     "text": [
      "Atlasmap sub-25\n",
      "Extract sub-25\n"
     ]
    },
    {
     "name": "stderr",
     "output_type": "stream",
     "text": [
      "/Users/incehusain/Documents/GitHub/Functional_Fusion/Functional_Fusion/dataset.py:223: FutureWarning: The provided callable <function sum at 0x1054094e0> is currently using SeriesGroupBy.sum. In a future version of pandas, the provided callable will be used directly. To keep current behavior pass the string \"sum\" instead.\n",
      "  data_info = info_gb.agg(operations).reset_index()\n",
      "/Users/incehusain/Documents/GitHub/Functional_Fusion/Functional_Fusion/dataset.py:223: FutureWarning: The provided callable <built-in function max> is currently using SeriesGroupBy.max. In a future version of pandas, the provided callable will be used directly. To keep current behavior pass the string \"max\" instead.\n",
      "  data_info = info_gb.agg(operations).reset_index()\n"
     ]
    },
    {
     "name": "stdout",
     "output_type": "stream",
     "text": [
      "Atlasmap sub-26\n",
      "Extract sub-26\n"
     ]
    },
    {
     "name": "stderr",
     "output_type": "stream",
     "text": [
      "/Users/incehusain/Documents/GitHub/Functional_Fusion/Functional_Fusion/dataset.py:223: FutureWarning: The provided callable <function sum at 0x1054094e0> is currently using SeriesGroupBy.sum. In a future version of pandas, the provided callable will be used directly. To keep current behavior pass the string \"sum\" instead.\n",
      "  data_info = info_gb.agg(operations).reset_index()\n",
      "/Users/incehusain/Documents/GitHub/Functional_Fusion/Functional_Fusion/dataset.py:223: FutureWarning: The provided callable <built-in function max> is currently using SeriesGroupBy.max. In a future version of pandas, the provided callable will be used directly. To keep current behavior pass the string \"max\" instead.\n",
      "  data_info = info_gb.agg(operations).reset_index()\n"
     ]
    },
    {
     "name": "stdout",
     "output_type": "stream",
     "text": [
      "Atlasmap sub-27\n",
      "Extract sub-27\n"
     ]
    },
    {
     "name": "stderr",
     "output_type": "stream",
     "text": [
      "/Users/incehusain/Documents/GitHub/Functional_Fusion/Functional_Fusion/dataset.py:223: FutureWarning: The provided callable <function sum at 0x1054094e0> is currently using SeriesGroupBy.sum. In a future version of pandas, the provided callable will be used directly. To keep current behavior pass the string \"sum\" instead.\n",
      "  data_info = info_gb.agg(operations).reset_index()\n",
      "/Users/incehusain/Documents/GitHub/Functional_Fusion/Functional_Fusion/dataset.py:223: FutureWarning: The provided callable <built-in function max> is currently using SeriesGroupBy.max. In a future version of pandas, the provided callable will be used directly. To keep current behavior pass the string \"max\" instead.\n",
      "  data_info = info_gb.agg(operations).reset_index()\n"
     ]
    },
    {
     "name": "stdout",
     "output_type": "stream",
     "text": [
      "Atlasmap sub-28\n",
      "Extract sub-28\n"
     ]
    },
    {
     "name": "stderr",
     "output_type": "stream",
     "text": [
      "/Users/incehusain/Documents/GitHub/Functional_Fusion/Functional_Fusion/dataset.py:223: FutureWarning: The provided callable <function sum at 0x1054094e0> is currently using SeriesGroupBy.sum. In a future version of pandas, the provided callable will be used directly. To keep current behavior pass the string \"sum\" instead.\n",
      "  data_info = info_gb.agg(operations).reset_index()\n",
      "/Users/incehusain/Documents/GitHub/Functional_Fusion/Functional_Fusion/dataset.py:223: FutureWarning: The provided callable <built-in function max> is currently using SeriesGroupBy.max. In a future version of pandas, the provided callable will be used directly. To keep current behavior pass the string \"max\" instead.\n",
      "  data_info = info_gb.agg(operations).reset_index()\n"
     ]
    },
    {
     "name": "stdout",
     "output_type": "stream",
     "text": [
      "Atlasmap sub-29\n",
      "Extract sub-29\n"
     ]
    },
    {
     "name": "stderr",
     "output_type": "stream",
     "text": [
      "/Users/incehusain/Documents/GitHub/Functional_Fusion/Functional_Fusion/dataset.py:223: FutureWarning: The provided callable <function sum at 0x1054094e0> is currently using SeriesGroupBy.sum. In a future version of pandas, the provided callable will be used directly. To keep current behavior pass the string \"sum\" instead.\n",
      "  data_info = info_gb.agg(operations).reset_index()\n",
      "/Users/incehusain/Documents/GitHub/Functional_Fusion/Functional_Fusion/dataset.py:223: FutureWarning: The provided callable <built-in function max> is currently using SeriesGroupBy.max. In a future version of pandas, the provided callable will be used directly. To keep current behavior pass the string \"max\" instead.\n",
      "  data_info = info_gb.agg(operations).reset_index()\n"
     ]
    },
    {
     "name": "stdout",
     "output_type": "stream",
     "text": [
      "Atlasmap sub-30\n",
      "Extract sub-30\n"
     ]
    },
    {
     "name": "stderr",
     "output_type": "stream",
     "text": [
      "/Users/incehusain/Documents/GitHub/Functional_Fusion/Functional_Fusion/dataset.py:223: FutureWarning: The provided callable <function sum at 0x1054094e0> is currently using SeriesGroupBy.sum. In a future version of pandas, the provided callable will be used directly. To keep current behavior pass the string \"sum\" instead.\n",
      "  data_info = info_gb.agg(operations).reset_index()\n",
      "/Users/incehusain/Documents/GitHub/Functional_Fusion/Functional_Fusion/dataset.py:223: FutureWarning: The provided callable <built-in function max> is currently using SeriesGroupBy.max. In a future version of pandas, the provided callable will be used directly. To keep current behavior pass the string \"max\" instead.\n",
      "  data_info = info_gb.agg(operations).reset_index()\n"
     ]
    },
    {
     "name": "stdout",
     "output_type": "stream",
     "text": [
      "Atlasmap sub-31\n",
      "Extract sub-31\n"
     ]
    },
    {
     "name": "stderr",
     "output_type": "stream",
     "text": [
      "/Users/incehusain/Documents/GitHub/Functional_Fusion/Functional_Fusion/dataset.py:223: FutureWarning: The provided callable <function sum at 0x1054094e0> is currently using SeriesGroupBy.sum. In a future version of pandas, the provided callable will be used directly. To keep current behavior pass the string \"sum\" instead.\n",
      "  data_info = info_gb.agg(operations).reset_index()\n",
      "/Users/incehusain/Documents/GitHub/Functional_Fusion/Functional_Fusion/dataset.py:223: FutureWarning: The provided callable <built-in function max> is currently using SeriesGroupBy.max. In a future version of pandas, the provided callable will be used directly. To keep current behavior pass the string \"max\" instead.\n",
      "  data_info = info_gb.agg(operations).reset_index()\n"
     ]
    }
   ],
   "source": [
    "\n",
    "dataset = ds.DataSetMDTB(base_dir + '/MDTB')\n",
    "\n",
    "base_dir = '/Volumes/diedrichsen_data$/data/FunctionalFusion'\n",
    "\n",
    "dataset.extract_all(ses_id='ses-s1',\n",
    "                    type='CondRun',\n",
    "                    atlas='MNISymOlive1',\n",
    "                    smooth=2)"
   ]
  },
  {
   "cell_type": "code",
   "execution_count": null,
   "metadata": {},
   "outputs": [],
   "source": [
    "dataset = ds.DataSetMDTB(base_dir + '/MDTB')\n",
    "dataset.extract_all(ses_id='ses-s1',\n",
    "                    type='CondRun',\n",
    "                    atlas='MNISymPontine1',\n",
    "                    smooth=2)"
   ]
  },
  {
   "cell_type": "code",
   "execution_count": 34,
   "metadata": {},
   "outputs": [
    {
     "ename": "FileNotFoundError",
     "evalue": "No such file or no access: '/Users/incehusain/Documents/GitHub/Functional_Fusion/Functional_Fusion/Atlases/tpl-MNI152NLin2009cSym/tpl-MNI152NLin2009cSym_res-1_olive.nii'",
     "output_type": "error",
     "traceback": [
      "\u001b[0;31m---------------------------------------------------------------------------\u001b[0m",
      "\u001b[0;31mFileNotFoundError\u001b[0m                         Traceback (most recent call last)",
      "File \u001b[0;32m/Library/Frameworks/Python.framework/Versions/3.12/lib/python3.12/site-packages/nibabel/loadsave.py:100\u001b[0m, in \u001b[0;36mload\u001b[0;34m(filename, **kwargs)\u001b[0m\n\u001b[1;32m     99\u001b[0m \u001b[39mtry\u001b[39;00m:\n\u001b[0;32m--> 100\u001b[0m     stat_result \u001b[39m=\u001b[39m os\u001b[39m.\u001b[39;49mstat(filename)\n\u001b[1;32m    101\u001b[0m \u001b[39mexcept\u001b[39;00m \u001b[39mOSError\u001b[39;00m:\n",
      "\u001b[0;31mFileNotFoundError\u001b[0m: [Errno 2] No such file or directory: '/Users/incehusain/Documents/GitHub/Functional_Fusion/Functional_Fusion/Atlases/tpl-MNI152NLin2009cSym/tpl-MNI152NLin2009cSym_res-1_olive.nii'",
      "\nDuring handling of the above exception, another exception occurred:\n",
      "\u001b[0;31mFileNotFoundError\u001b[0m                         Traceback (most recent call last)",
      "\u001b[1;32m/Users/incehusain/Documents/GitHub/Functional_Fusion/notebooks/extract_data_ince.ipynb Cell 5\u001b[0m line \u001b[0;36m2\n\u001b[1;32m      <a href='vscode-notebook-cell:/Users/incehusain/Documents/GitHub/Functional_Fusion/notebooks/extract_data_ince.ipynb#W1sZmlsZQ%3D%3D?line=0'>1</a>\u001b[0m dataset \u001b[39m=\u001b[39m ds\u001b[39m.\u001b[39mDataSetMDTB(base_dir \u001b[39m+\u001b[39m \u001b[39m'\u001b[39m\u001b[39m/MDTB\u001b[39m\u001b[39m'\u001b[39m)\n\u001b[0;32m----> <a href='vscode-notebook-cell:/Users/incehusain/Documents/GitHub/Functional_Fusion/notebooks/extract_data_ince.ipynb#W1sZmlsZQ%3D%3D?line=1'>2</a>\u001b[0m dataset\u001b[39m.\u001b[39;49mextract_all(ses_id\u001b[39m=\u001b[39;49m\u001b[39m'\u001b[39;49m\u001b[39mses-s1\u001b[39;49m\u001b[39m'\u001b[39;49m,\n\u001b[1;32m      <a href='vscode-notebook-cell:/Users/incehusain/Documents/GitHub/Functional_Fusion/notebooks/extract_data_ince.ipynb#W1sZmlsZQ%3D%3D?line=2'>3</a>\u001b[0m                     \u001b[39mtype\u001b[39;49m\u001b[39m=\u001b[39;49m\u001b[39m'\u001b[39;49m\u001b[39mCondRun\u001b[39;49m\u001b[39m'\u001b[39;49m,\n\u001b[1;32m      <a href='vscode-notebook-cell:/Users/incehusain/Documents/GitHub/Functional_Fusion/notebooks/extract_data_ince.ipynb#W1sZmlsZQ%3D%3D?line=3'>4</a>\u001b[0m                     atlas\u001b[39m=\u001b[39;49m\u001b[39m'\u001b[39;49m\u001b[39mMNISymOlive1\u001b[39;49m\u001b[39m'\u001b[39;49m,\n\u001b[1;32m      <a href='vscode-notebook-cell:/Users/incehusain/Documents/GitHub/Functional_Fusion/notebooks/extract_data_ince.ipynb#W1sZmlsZQ%3D%3D?line=4'>5</a>\u001b[0m                     smooth\u001b[39m=\u001b[39;49m\u001b[39m2\u001b[39;49m)\n",
      "File \u001b[0;32m~/Documents/GitHub/Functional_Fusion/Functional_Fusion/dataset.py:740\u001b[0m, in \u001b[0;36mDataSet.extract_all\u001b[0;34m(self, ses_id, type, atlas, smooth, subj)\u001b[0m\n\u001b[1;32m    720\u001b[0m \u001b[39mdef\u001b[39;00m \u001b[39mextract_all\u001b[39m(\u001b[39mself\u001b[39m,\n\u001b[1;32m    721\u001b[0m                 ses_id\u001b[39m=\u001b[39m\u001b[39m'\u001b[39m\u001b[39mses-s1\u001b[39m\u001b[39m'\u001b[39m,\n\u001b[1;32m    722\u001b[0m                 \u001b[39mtype\u001b[39m\u001b[39m=\u001b[39m\u001b[39m'\u001b[39m\u001b[39mCondHalf\u001b[39m\u001b[39m'\u001b[39m,\n\u001b[1;32m    723\u001b[0m                 atlas\u001b[39m=\u001b[39m\u001b[39m'\u001b[39m\u001b[39mSUIT3\u001b[39m\u001b[39m'\u001b[39m,\n\u001b[1;32m    724\u001b[0m                 smooth\u001b[39m=\u001b[39m\u001b[39m2.0\u001b[39m,\n\u001b[1;32m    725\u001b[0m                 subj\u001b[39m=\u001b[39m\u001b[39m'\u001b[39m\u001b[39mall\u001b[39m\u001b[39m'\u001b[39m):\n\u001b[1;32m    726\u001b[0m \u001b[39m    \u001b[39m\u001b[39m\"\"\"Extracts data in Volumetric space from a dataset in which the data is stored in Native space. Saves the results as CIFTI files in the data directory.\u001b[39;00m\n\u001b[1;32m    727\u001b[0m \n\u001b[1;32m    728\u001b[0m \u001b[39m    Args:\u001b[39;00m\n\u001b[0;32m   (...)\u001b[0m\n\u001b[1;32m    738\u001b[0m \u001b[39m            List of Subject numbers to get use. Default = 'all'\u001b[39;00m\n\u001b[1;32m    739\u001b[0m \u001b[39m    \"\"\"\u001b[39;00m\n\u001b[0;32m--> 740\u001b[0m     myatlas, _ \u001b[39m=\u001b[39m am\u001b[39m.\u001b[39;49mget_atlas(atlas)\n\u001b[1;32m    741\u001b[0m     \u001b[39m# create and calculate the atlas map for each participant\u001b[39;00m\n\u001b[1;32m    742\u001b[0m     T \u001b[39m=\u001b[39m \u001b[39mself\u001b[39m\u001b[39m.\u001b[39mget_participants()\n",
      "File \u001b[0;32m~/Documents/GitHub/Functional_Fusion/Functional_Fusion/atlas_map.py:47\u001b[0m, in \u001b[0;36mget_atlas\u001b[0;34m(atlas_str, atlas_dir)\u001b[0m\n\u001b[1;32m     45\u001b[0m \u001b[39melse\u001b[39;00m:\n\u001b[1;32m     46\u001b[0m     mask \u001b[39m=\u001b[39m \u001b[39mf\u001b[39m\u001b[39m\"\u001b[39m\u001b[39m{\u001b[39;00matlas_dir\u001b[39m}\u001b[39;00m\u001b[39m/\u001b[39m\u001b[39m{\u001b[39;00mainf[\u001b[39m'\u001b[39m\u001b[39mdir\u001b[39m\u001b[39m'\u001b[39m]\u001b[39m}\u001b[39;00m\u001b[39m/\u001b[39m\u001b[39m{\u001b[39;00mainf[\u001b[39m'\u001b[39m\u001b[39mmask\u001b[39m\u001b[39m'\u001b[39m]\u001b[39m}\u001b[39;00m\u001b[39m\"\u001b[39m\n\u001b[0;32m---> 47\u001b[0m atlas \u001b[39m=\u001b[39m At(atlas_str, mask, structure\u001b[39m=\u001b[39;49mainf[\u001b[39m\"\u001b[39;49m\u001b[39mstructure\u001b[39;49m\u001b[39m\"\u001b[39;49m])\n\u001b[1;32m     48\u001b[0m atlas\u001b[39m.\u001b[39mspace \u001b[39m=\u001b[39m ainf[\u001b[39m\"\u001b[39m\u001b[39mspace\u001b[39m\u001b[39m\"\u001b[39m]\n\u001b[1;32m     49\u001b[0m \u001b[39mreturn\u001b[39;00m atlas, ainf\n",
      "File \u001b[0;32m~/Documents/GitHub/Functional_Fusion/Functional_Fusion/atlas_map.py:333\u001b[0m, in \u001b[0;36mAtlasVolumeSymmetric.__init__\u001b[0;34m(self, name, mask_img, structure, space)\u001b[0m\n\u001b[1;32m    310\u001b[0m \u001b[39mdef\u001b[39;00m \u001b[39m__init__\u001b[39m(\u001b[39mself\u001b[39m, name, mask_img, structure\u001b[39m=\u001b[39m\u001b[39m'\u001b[39m\u001b[39munknown\u001b[39m\u001b[39m'\u001b[39m, space\u001b[39m=\u001b[39m\u001b[39m'\u001b[39m\u001b[39munknown\u001b[39m\u001b[39m'\u001b[39m):\n\u001b[1;32m    311\u001b[0m \u001b[39m    \u001b[39m\u001b[39m\"\"\"Volumetric atlas with left-right symmetry. The atlas behaves like AtlasVolumetric,\u001b[39;00m\n\u001b[1;32m    312\u001b[0m \u001b[39m    but provides mapping indices from a full representation to a\u001b[39;00m\n\u001b[1;32m    313\u001b[0m \u001b[39m    reduced (symmetric) representation of size Psym.\u001b[39;00m\n\u001b[0;32m   (...)\u001b[0m\n\u001b[1;32m    330\u001b[0m \u001b[39m        mask_img (str): file name of mask image defining atlas location\u001b[39;00m\n\u001b[1;32m    331\u001b[0m \u001b[39m    \"\"\"\u001b[39;00m\n\u001b[0;32m--> 333\u001b[0m     \u001b[39msuper\u001b[39;49m()\u001b[39m.\u001b[39;49m\u001b[39m__init__\u001b[39;49m(name, mask_img, structure\u001b[39m=\u001b[39;49mstructure, space\u001b[39m=\u001b[39;49mspace)\n\u001b[1;32m    334\u001b[0m     \u001b[39m# Find left and right hemispheric voxels\u001b[39;00m\n\u001b[1;32m    335\u001b[0m     indx_left \u001b[39m=\u001b[39m np\u001b[39m.\u001b[39mwhere(\u001b[39mself\u001b[39m\u001b[39m.\u001b[39mworld[\u001b[39m0\u001b[39m, :] \u001b[39m<\u001b[39m\u001b[39m=\u001b[39m \u001b[39m0\u001b[39m)[\u001b[39m0\u001b[39m]\n",
      "File \u001b[0;32m~/Documents/GitHub/Functional_Fusion/Functional_Fusion/atlas_map.py:152\u001b[0m, in \u001b[0;36mAtlasVolumetric.__init__\u001b[0;34m(self, name, mask_img, structure, space)\u001b[0m\n\u001b[1;32m    144\u001b[0m \u001b[39m\u001b[39m\u001b[39m\"\"\"Atlas Volumetric is an atlas for a Volumetric\u001b[39;00m\n\u001b[1;32m    145\u001b[0m \u001b[39mspace / structure.\u001b[39;00m\n\u001b[1;32m    146\u001b[0m \n\u001b[0;32m   (...)\u001b[0m\n\u001b[1;32m    149\u001b[0m \u001b[39m    mask_img (str): file name of mask image defining atlas location\u001b[39;00m\n\u001b[1;32m    150\u001b[0m \u001b[39m\"\"\"\u001b[39;00m\n\u001b[1;32m    151\u001b[0m \u001b[39msuper\u001b[39m()\u001b[39m.\u001b[39m\u001b[39m__init__\u001b[39m(name, structure\u001b[39m=\u001b[39mstructure, space\u001b[39m=\u001b[39mspace)\n\u001b[0;32m--> 152\u001b[0m \u001b[39mself\u001b[39m\u001b[39m.\u001b[39mmask_img \u001b[39m=\u001b[39m nb\u001b[39m.\u001b[39;49mload(mask_img)\n\u001b[1;32m    153\u001b[0m Xmask \u001b[39m=\u001b[39m \u001b[39mself\u001b[39m\u001b[39m.\u001b[39mmask_img\u001b[39m.\u001b[39mget_fdata()\n\u001b[1;32m    154\u001b[0m Xmask \u001b[39m=\u001b[39m Xmask \u001b[39m>\u001b[39m \u001b[39m0\u001b[39m\n",
      "File \u001b[0;32m/Library/Frameworks/Python.framework/Versions/3.12/lib/python3.12/site-packages/nibabel/loadsave.py:102\u001b[0m, in \u001b[0;36mload\u001b[0;34m(filename, **kwargs)\u001b[0m\n\u001b[1;32m    100\u001b[0m     stat_result \u001b[39m=\u001b[39m os\u001b[39m.\u001b[39mstat(filename)\n\u001b[1;32m    101\u001b[0m \u001b[39mexcept\u001b[39;00m \u001b[39mOSError\u001b[39;00m:\n\u001b[0;32m--> 102\u001b[0m     \u001b[39mraise\u001b[39;00m \u001b[39mFileNotFoundError\u001b[39;00m(\u001b[39mf\u001b[39m\u001b[39m\"\u001b[39m\u001b[39mNo such file or no access: \u001b[39m\u001b[39m'\u001b[39m\u001b[39m{\u001b[39;00mfilename\u001b[39m}\u001b[39;00m\u001b[39m'\u001b[39m\u001b[39m\"\u001b[39m)\n\u001b[1;32m    103\u001b[0m \u001b[39mif\u001b[39;00m stat_result\u001b[39m.\u001b[39mst_size \u001b[39m<\u001b[39m\u001b[39m=\u001b[39m \u001b[39m0\u001b[39m:\n\u001b[1;32m    104\u001b[0m     \u001b[39mraise\u001b[39;00m ImageFileError(\u001b[39mf\u001b[39m\u001b[39m\"\u001b[39m\u001b[39mEmpty file: \u001b[39m\u001b[39m'\u001b[39m\u001b[39m{\u001b[39;00mfilename\u001b[39m}\u001b[39;00m\u001b[39m'\u001b[39m\u001b[39m\"\u001b[39m)\n",
      "\u001b[0;31mFileNotFoundError\u001b[0m: No such file or no access: '/Users/incehusain/Documents/GitHub/Functional_Fusion/Functional_Fusion/Atlases/tpl-MNI152NLin2009cSym/tpl-MNI152NLin2009cSym_res-1_olive.nii'"
     ]
    }
   ],
   "source": [
    "dataset = ds.DataSetMDTB(base_dir + '/MDTB')\n",
    "dataset.extract_all(ses_id='ses-s1',\n",
    "                    type='CondRun',\n",
    "                    atlas='MNISymRedNucleus1',\n",
    "                    smooth=2)"
   ]
  },
  {
   "cell_type": "code",
   "execution_count": null,
   "metadata": {},
   "outputs": [
    {
     "name": "stdout",
     "output_type": "stream",
     "text": [
      "Atlasmap sub-01\n"
     ]
    },
    {
     "ename": "",
     "evalue": "",
     "output_type": "error",
     "traceback": [
      "\u001b[1;31mThe Kernel crashed while executing code in the the current cell or a previous cell. Please review the code in the cell(s) to identify a possible cause of the failure. Click <a href='https://aka.ms/vscodeJupyterKernelCrash'>here</a> for more info. View Jupyter <a href='command:jupyter.viewOutput'>log</a> for further details."
     ]
    }
   ],
   "source": [
    "dataset = ds.DataSetMDTB(base_dir + '/Language')\n",
    "dataset.extract_all(ses_id='ses-localizer_cond_fm',\n",
    "                    type='CondRun',\n",
    "                    atlas='MNISymCereb2',\n",
    "                    smooth=2)"
   ]
  },
  {
   "cell_type": "code",
   "execution_count": 68,
   "metadata": {},
   "outputs": [],
   "source": [
    "#this gives n_subj x n_cond x n_voxels tensor\n",
    "\n",
    "X,info,dataset_obj = ds.get_dataset(base_dir,\n",
    "        dataset='MDTB',\n",
    "        atlas='MNISymC2',\n",
    "        sess='ses-s1',\n",
    "        type='CondRun')\n"
   ]
  },
  {
   "cell_type": "code",
   "execution_count": 69,
   "metadata": {},
   "outputs": [],
   "source": [
    "Y,infoY,dataset_objY = ds.get_dataset(base_dir,\n",
    "        dataset='MDTB',\n",
    "        atlas='MNISymCereb2',\n",
    "        sess='ses-s1',\n",
    "        type='CondRun')"
   ]
  },
  {
   "cell_type": "code",
   "execution_count": 70,
   "metadata": {},
   "outputs": [
    {
     "name": "stdout",
     "output_type": "stream",
     "text": [
      "(24, 464, 18290)\n"
     ]
    }
   ],
   "source": [
    "#atlas \n",
    "\n",
    "data_mdtb = X\n",
    "\n",
    "cond_vec = np.tile(np.arange(1,30),16)\n",
    "\n",
    "part_vec = np.repeat(np.arange(1,17), 29)\n",
    "\n",
    "tensor_4d = ac.flat2ndarray(data_mdtb, cond_vec, part_vec)\n",
    "\n",
    "tensor_4d.shape\n",
    "\n",
    "#cleaning tensor \n",
    "\n",
    "tensor_no_nans = np.nan_to_num(tensor_4d)\n",
    "\n",
    "tensor_avg_cond = tensor_no_nans.mean(axis=3, keepdims=1)\n",
    "\n",
    "tensor_mean_subtract_mdtb = tensor_no_nans - tensor_avg_cond\n",
    "\n",
    "print(data_mdtb.shape)\n"
   ]
  },
  {
   "cell_type": "code",
   "execution_count": 71,
   "metadata": {},
   "outputs": [
    {
     "data": {
      "text/plain": [
       "(24, 464, 18290)"
      ]
     },
     "execution_count": 71,
     "metadata": {},
     "output_type": "execute_result"
    }
   ],
   "source": [
    "#SymCereb2\n",
    "\n",
    "data_Cereb2 = Y\n",
    "\n",
    "cond_vec = np.tile(np.arange(1,30),16)\n",
    "\n",
    "part_vec = np.repeat(np.arange(1,17), 29)\n",
    "\n",
    "tensor_4d = ac.flat2ndarray(data_Cereb2, cond_vec, part_vec)\n",
    "\n",
    "tensor_4d.shape\n",
    "\n",
    "#cleaning tensor \n",
    "\n",
    "tensor_no_nans = np.nan_to_num(tensor_4d)\n",
    "\n",
    "tensor_avg_cond = tensor_no_nans.mean(axis=3, keepdims=1)\n",
    "\n",
    "tensor_mean_subtract_cereb2 = tensor_no_nans - tensor_avg_cond\n",
    "\n",
    "Y.shape"
   ]
  },
  {
   "cell_type": "code",
   "execution_count": 67,
   "metadata": {},
   "outputs": [
    {
     "name": "stderr",
     "output_type": "stream",
     "text": [
      "vox offset (=1.40422e+06) not divisible by 16, not SPM compatible; leaving at current value\n",
      "vox offset (=1.40422e+06) not divisible by 16, not SPM compatible; leaving at current value\n",
      "/Library/Frameworks/Python.framework/Versions/3.12/lib/python3.12/site-packages/nibabel/nifti1.py:618: UserWarning: Extension size is not a multiple of 16 bytes; Assuming size is correct and hoping for the best\n",
      "  warnings.warn(\n",
      "vox offset (=1.40422e+06) not divisible by 16, not SPM compatible; leaving at current value\n",
      "vox offset (=1.40422e+06) not divisible by 16, not SPM compatible; leaving at current value\n",
      "vox offset (=1.40422e+06) not divisible by 16, not SPM compatible; leaving at current value\n",
      "vox offset (=1.40422e+06) not divisible by 16, not SPM compatible; leaving at current value\n",
      "vox offset (=1.40422e+06) not divisible by 16, not SPM compatible; leaving at current value\n",
      "vox offset (=1.40422e+06) not divisible by 16, not SPM compatible; leaving at current value\n",
      "vox offset (=1.40422e+06) not divisible by 16, not SPM compatible; leaving at current value\n",
      "vox offset (=1.40422e+06) not divisible by 16, not SPM compatible; leaving at current value\n",
      "vox offset (=1.40422e+06) not divisible by 16, not SPM compatible; leaving at current value\n",
      "vox offset (=1.40422e+06) not divisible by 16, not SPM compatible; leaving at current value\n",
      "vox offset (=1.40422e+06) not divisible by 16, not SPM compatible; leaving at current value\n",
      "vox offset (=1.40422e+06) not divisible by 16, not SPM compatible; leaving at current value\n",
      "vox offset (=1.40422e+06) not divisible by 16, not SPM compatible; leaving at current value\n",
      "vox offset (=1.40422e+06) not divisible by 16, not SPM compatible; leaving at current value\n",
      "vox offset (=1.40422e+06) not divisible by 16, not SPM compatible; leaving at current value\n",
      "vox offset (=1.40422e+06) not divisible by 16, not SPM compatible; leaving at current value\n",
      "vox offset (=1.40422e+06) not divisible by 16, not SPM compatible; leaving at current value\n",
      "vox offset (=1.40422e+06) not divisible by 16, not SPM compatible; leaving at current value\n",
      "vox offset (=1.40422e+06) not divisible by 16, not SPM compatible; leaving at current value\n",
      "vox offset (=1.40422e+06) not divisible by 16, not SPM compatible; leaving at current value\n",
      "vox offset (=1.40422e+06) not divisible by 16, not SPM compatible; leaving at current value\n",
      "vox offset (=1.40422e+06) not divisible by 16, not SPM compatible; leaving at current value\n",
      "vox offset (=1.40422e+06) not divisible by 16, not SPM compatible; leaving at current value\n",
      "vox offset (=1.40422e+06) not divisible by 16, not SPM compatible; leaving at current value\n",
      "vox offset (=1.40422e+06) not divisible by 16, not SPM compatible; leaving at current value\n",
      "vox offset (=1.40422e+06) not divisible by 16, not SPM compatible; leaving at current value\n",
      "vox offset (=1.40422e+06) not divisible by 16, not SPM compatible; leaving at current value\n",
      "vox offset (=1.40422e+06) not divisible by 16, not SPM compatible; leaving at current value\n",
      "vox offset (=1.40422e+06) not divisible by 16, not SPM compatible; leaving at current value\n",
      "vox offset (=1.40422e+06) not divisible by 16, not SPM compatible; leaving at current value\n",
      "vox offset (=1.40422e+06) not divisible by 16, not SPM compatible; leaving at current value\n",
      "vox offset (=1.40422e+06) not divisible by 16, not SPM compatible; leaving at current value\n",
      "vox offset (=1.40422e+06) not divisible by 16, not SPM compatible; leaving at current value\n",
      "vox offset (=1.40422e+06) not divisible by 16, not SPM compatible; leaving at current value\n",
      "vox offset (=1.40422e+06) not divisible by 16, not SPM compatible; leaving at current value\n",
      "vox offset (=1.40422e+06) not divisible by 16, not SPM compatible; leaving at current value\n",
      "vox offset (=1.40422e+06) not divisible by 16, not SPM compatible; leaving at current value\n",
      "vox offset (=1.40422e+06) not divisible by 16, not SPM compatible; leaving at current value\n",
      "vox offset (=1.40422e+06) not divisible by 16, not SPM compatible; leaving at current value\n",
      "vox offset (=1.40422e+06) not divisible by 16, not SPM compatible; leaving at current value\n",
      "vox offset (=1.40422e+06) not divisible by 16, not SPM compatible; leaving at current value\n",
      "vox offset (=1.40422e+06) not divisible by 16, not SPM compatible; leaving at current value\n",
      "vox offset (=1.40422e+06) not divisible by 16, not SPM compatible; leaving at current value\n",
      "vox offset (=1.40422e+06) not divisible by 16, not SPM compatible; leaving at current value\n",
      "vox offset (=1.40422e+06) not divisible by 16, not SPM compatible; leaving at current value\n",
      "vox offset (=1.40422e+06) not divisible by 16, not SPM compatible; leaving at current value\n"
     ]
    },
    {
     "name": "stdout",
     "output_type": "stream",
     "text": [
      "(16, 160, 146192)\n"
     ]
    }
   ],
   "source": [
    "#pontine7T\n",
    "\n",
    "\n",
    "flat_data = ac.get_structure_data(structure='cereb_gray',  data_dir='/Volumes/diedrichsen_data$/data/Cerebellum/Pontine7T/RegionOfInterest_BOLDMNI/data/group')\n",
    "\n",
    "cond_vec = np.tile(np.arange(1,11),16)\n",
    "\n",
    "part_vec = np.repeat(np.arange(1,17), 10)\n",
    "\n",
    "tensor_4d = ac.flat2ndarray(flat_data, cond_vec, part_vec)\n",
    "\n",
    "tensor_no_nans = np.nan_to_num(tensor_4d)\n",
    "\n",
    " #removing avg of all voxels + check to ensure no nans\n",
    "\n",
    "tensor_avg_cond = tensor_no_nans.mean(axis=3, keepdims=1) #this is the mean activity pattern \n",
    "\n",
    "tensor_mean_subtract_7T = tensor_no_nans - tensor_avg_cond\n",
    "\n",
    "has_nans = np.isnan(tensor_mean_subtract_7T).any()\n",
    "\n",
    "\n",
    "print(flat_data.shape)\n",
    "\n"
   ]
  },
  {
   "cell_type": "code",
   "execution_count": 63,
   "metadata": {},
   "outputs": [
    {
     "name": "stdout",
     "output_type": "stream",
     "text": [
      "[[2.58047093e-05 1.78809941e-04 4.48800455e-02]]\n",
      "[[0.00021045 0.00223683 0.20263003]]\n"
     ]
    }
   ],
   "source": [
    "var_mdtb = ds.decompose_pattern_into_group_indiv_noise(tensor_mean_subtract_mdtb, criterion='global')\n",
    "var_cereb2 = ds.decompose_pattern_into_group_indiv_noise(tensor_mean_subtract_cereb2, criterion='global')\n",
    "var_7T = ds.decompose_pattern_into_group_indiv_noise(tensor_mean_subtract_7T, criterion='global')\n",
    "\n",
    "print(var_mdtb)\n",
    "print(var_7T)"
   ]
  },
  {
   "cell_type": "code",
   "execution_count": 64,
   "metadata": {},
   "outputs": [
    {
     "name": "stdout",
     "output_type": "stream",
     "text": [
      "100.0\n",
      "[[5.72361180e-02 3.96609269e-01 9.95461546e+01]]\n",
      "[[ 0.10262012  1.09072429 98.80665559]]\n"
     ]
    }
   ],
   "source": [
    "var_norm_mdtb = np.zeros((1,3)) #(10,3) means 10 rows, 3 variances; (1,3) means 1 row, 3 variances, etc \n",
    "var_norm_7T = np.zeros((1,3))\n",
    "var_norm_cereb2 = np.zeros(1,3)\n",
    "\n",
    "for i in range(1): #number of rows \n",
    "    row_sum = np.sum(var_mdtb[i])\n",
    "    var_norm_mdtb[i] = (var_mdtb[i]/row_sum)*100\n",
    "\n",
    "    row_sum_7T = np.sum(var_7T[i])\n",
    "    var_norm_7T[i] = (var_7T[i]/row_sum_7T)*100\n",
    "    \n",
    "    row_sum_2 = np.sum(var_cereb2[i])\n",
    "    var_norm_cereb2[i] = (var_cereb2[i]/row_sum_2)*100\n",
    "\n",
    "print(var_norm_mdtb[0][0] + var_norm_mdtb[0][1] + var_norm_mdtb[0][2])\n",
    "\n",
    "print(var_norm_mdtb)\n",
    "print(var_norm_7T)\n",
    "\n"
   ]
  },
  {
   "cell_type": "code",
   "execution_count": 66,
   "metadata": {},
   "outputs": [
    {
     "data": {
      "image/png": "[encoded data removed]",
      "text/plain": [
       "<Figure size 1200x800 with 1 Axes>"
      ]
     },
     "metadata": {},
     "output_type": "display_data"
    }
   ],
   "source": [
    "import matplotlib.pyplot as plt\n",
    "import pandas as pd\n",
    "import matplotlib.patches as mpatches\n",
    "\n",
    "# Example data\n",
    "data = {\n",
    "    'datasets': ['mdtb_MNISymC2', 'mdtb_MNISymCereb2','pontine7T'],\n",
    "    'vg_mdtb': var_norm_mdtb[:, 0],\n",
    "    'vs_mdtb': var_norm_mdtb[:, 1],\n",
    "    'vg_cereb2': var_norm_cereb2[:, 0],\n",
    "    'vs_cereb2' : var_norm_cereb2[:,0],\n",
    "    'vg_7T': var_norm_7T[:, 0],\n",
    "    'vs_7T': var_norm_7T[:, 1]\n",
    "}\n",
    "\n",
    "# Reshape the data into long format\n",
    "df_stacked = pd.DataFrame({\n",
    "    'datasets': data['datasets'] * len(data['vg_mdtb']),\n",
    "    'vg': list(data['vg_mdtb']) + list(data['vg_cereb2']) + list(data['vg_7T']),\n",
    "    'vs': list(data['vs_mdtb']) + list(data['vs_cereb2']) + list(data['vs_7T'])\n",
    "})\n",
    "\n",
    "# Plotting\n",
    "plt.figure(figsize=(12, 8))\n",
    "\n",
    "# Separate positive and negative values for 'vg' and 'vs'\n",
    "vg_positive = df_stacked['vg'].clip(lower=0)\n",
    "vg_negative = df_stacked['vg'].clip(upper=0)\n",
    "vs_positive = df_stacked['vs'].clip(lower=0)\n",
    "vs_negative = df_stacked['vs'].clip(upper=0)\n",
    "\n",
    "# Plot positive 'vg' and 'vs' (no labels to avoid duplicate legend entries)\n",
    "plt.bar(df_stacked['datasets'], vg_positive, color='blue')\n",
    "plt.bar(df_stacked['datasets'], vs_positive, bottom=vg_positive, color='red')\n",
    "\n",
    "# Plot negative 'vg' and 'vs' (no labels to avoid duplicate legend entries)\n",
    "plt.bar(df_stacked['datasets'], vg_negative, color='blue')\n",
    "plt.bar(df_stacked['datasets'], vs_negative, bottom=vg_negative, color='red')\n",
    "\n",
    "# Create custom legend\n",
    "vg_patch = mpatches.Patch(color='blue', label='vg')\n",
    "vs_patch = mpatches.Patch(color='red', label='vs')\n",
    "plt.legend(handles=[vg_patch, vs_patch], title='Variance', loc='upper right')\n",
    "\n",
    "# Customize the plot\n",
    "plt.xlabel('datasets')\n",
    "plt.ylabel('Variances (%)')\n",
    "plt.title('Global variances per dataset (cereb_gray)')\n",
    "plt.ylim(0, 1.5)\n",
    "plt.show()\n"
   ]
  },
  {
   "cell_type": "code",
   "execution_count": 54,
   "metadata": {},
   "outputs": [
    {
     "data": {
      "image/png": "[encoded data removed]",
      "text/plain": [
       "<Figure size 1200x800 with 1 Axes>"
      ]
     },
     "metadata": {},
     "output_type": "display_data"
    }
   ],
   "source": [
    "#plot global variances for each ROI\n",
    "\n",
    "data = {\n",
    "    'datasets': ['mdtb', 'pontine7T'],\n",
    "    'vg_mdtb': var_norm_mdtb[:, 0],\n",
    "    'vs_mdtb': var_norm_mdtb[:, 1],\n",
    "    'vg_7T': var_norm_7T[:, 0],\n",
    "    'vs_7T': var_norm_7T[:, 1]\n",
    "}\n",
    "\n",
    "# Reshape the data into long format\n",
    "df_stacked = pd.DataFrame({\n",
    "    'datasets': data['datasets'] * len(data['vg_mdtb']),  # Repeat each dataset label for each observation\n",
    "    'vg': list(data['vg_mdtb']) + list(data['vg_7T']),   # Concatenate vg values for both datasets\n",
    "    'vs': list(data['vs_mdtb']) + list(data['vs_7T'])    # Concatenate vs values for both datasets\n",
    "})\n",
    "\n",
    "# Plotting\n",
    "plt.figure(figsize=(12, 8))\n",
    "\n",
    "# Plot 'vg' as the base part of the bar\n",
    "plt.bar(df_stacked['datasets'], df_stacked['vg'], label='vg', color='blue')\n",
    "\n",
    "# Stack 'vs' on top of 'vg'\n",
    "plt.bar(df_stacked['datasets'], df_stacked['vs'], bottom=df_stacked['vg'], label='vs', color='red')\n",
    "\n",
    "# Customize the plot\n",
    "plt.xlabel('datasets')\n",
    "plt.ylabel('Variances (%)')\n",
    "plt.title('Global variances per dataset (olive)')\n",
    "plt.legend(title='Variance', loc='upper right')\n",
    "plt.ylim(-0.02,0)\n",
    "plt.show()"
   ]
  }
 ],
 "metadata": {
  "kernelspec": {
   "display_name": "Python 3",
   "language": "python",
   "name": "python3"
  },
  "language_info": {
   "codemirror_mode": {
    "name": "ipython",
    "version": 3
   },
   "file_extension": ".py",
   "mimetype": "text/x-python",
   "name": "python",
   "nbconvert_exporter": "python",
   "pygments_lexer": "ipython3",
   "version": "3.12.0"
  }
 },
 "nbformat": 4,
 "nbformat_minor": 2
}
