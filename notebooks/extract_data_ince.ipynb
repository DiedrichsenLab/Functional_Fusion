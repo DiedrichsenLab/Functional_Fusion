{
 "cells": [
  {
   "cell_type": "code",
   "execution_count": 1,
   "metadata": {},
   "outputs": [
    {
     "ename": "SyntaxError",
     "evalue": "invalid syntax. Perhaps you forgot a comma? (dataset.py, line 801)",
     "output_type": "error",
     "traceback": [
      "Traceback \u001b[0;36m(most recent call last)\u001b[0m:\n",
      "\u001b[0m  File \u001b[1;32m~/Library/Python/3.12/lib/python/site-packages/IPython/core/interactiveshell.py:3577\u001b[0m in \u001b[1;35mrun_code\u001b[0m\n    exec(code_obj, self.user_global_ns, self.user_ns)\u001b[0m\n",
      "\u001b[0;36m  Cell \u001b[0;32mIn[1], line 1\u001b[0;36m\n\u001b[0;31m    import Functional_Fusion.dataset as ds\u001b[0;36m\n",
      "\u001b[0;36m  File \u001b[0;32m~/Documents/GitHub/Functional_Fusion/Functional_Fusion/dataset.py:801\u001b[0;36m\u001b[0m\n\u001b[0;31m    smooth=smooth\u001b[0m\n\u001b[0m           ^\u001b[0m\n\u001b[0;31mSyntaxError\u001b[0m\u001b[0;31m:\u001b[0m invalid syntax. Perhaps you forgot a comma?\n"
     ]
    }
   ],
   "source": [
    "import Functional_Fusion.dataset as ds\n",
    "import Functional_Fusion.util as ut\n",
    "import Functional_Fusion.import_data as id\n",
    "import nibabel as nb \n",
    "import Functional_Fusion.array_convert as ac\n",
    "base_dir = ut.get_base_dir()\n",
    "\n",
    "import numpy as np\n",
    "import matplotlib.pyplot as plt\n",
    "import pandas as pd\n",
    "import seaborn as sn\n",
    "import nitools as nt"
   ]
  },
  {
   "cell_type": "code",
   "execution_count": null,
   "metadata": {},
   "outputs": [],
   "source": [
    "dataset = ds.DataSetMDTB(base_dir + '/MDTB')\n",
    "dataset.extract_all(ses_id='ses-s2',\n",
    "                    type='CondRun',\n",
    "                    atlas='MNISymRedNucleus1',\n",
    "                    smooth=1)"
   ]
  },
  {
   "cell_type": "code",
   "execution_count": 7,
   "metadata": {},
   "outputs": [
    {
     "name": "stdout",
     "output_type": "stream",
     "text": [
      "Atlasmap sub-98\n",
      "Extract sub-98\n"
     ]
    },
    {
     "ename": "AttributeError",
     "evalue": "'Series' object has no attribute 'reg_id'",
     "output_type": "error",
     "traceback": [
      "\u001b[0;31m---------------------------------------------------------------------------\u001b[0m",
      "\u001b[0;31mAttributeError\u001b[0m                            Traceback (most recent call last)",
      "\u001b[0;32m/var/folders/91/7fqn4cp541g41hf5rkxmsnhh0000gn/T/ipykernel_43218/3799106372.py\u001b[0m in \u001b[0;36m?\u001b[0;34m()\u001b[0m\n\u001b[1;32m      1\u001b[0m \u001b[0;31m#this extracts data\u001b[0m\u001b[0;34m\u001b[0m\u001b[0;34m\u001b[0m\u001b[0m\n\u001b[1;32m      2\u001b[0m \u001b[0;34m\u001b[0m\u001b[0m\n\u001b[1;32m      3\u001b[0m \u001b[0mdataset\u001b[0m \u001b[0;34m=\u001b[0m \u001b[0mds\u001b[0m\u001b[0;34m.\u001b[0m\u001b[0mDataSetMDTB\u001b[0m\u001b[0;34m(\u001b[0m\u001b[0mbase_dir\u001b[0m \u001b[0;34m+\u001b[0m \u001b[0;34m'/Pontine7T'\u001b[0m\u001b[0;34m)\u001b[0m\u001b[0;34m\u001b[0m\u001b[0;34m\u001b[0m\u001b[0m\n\u001b[0;32m----> 4\u001b[0;31m dataset.extract_all(ses_id='ses-s1',\n\u001b[0m\u001b[1;32m      5\u001b[0m                     \u001b[0mtype\u001b[0m\u001b[0;34m=\u001b[0m\u001b[0;34m'CondRun'\u001b[0m\u001b[0;34m,\u001b[0m\u001b[0;34m\u001b[0m\u001b[0;34m\u001b[0m\u001b[0m\n\u001b[1;32m      6\u001b[0m                     \u001b[0matlas\u001b[0m\u001b[0;34m=\u001b[0m\u001b[0;34m'MNISymRedNucleus1'\u001b[0m\u001b[0;34m,\u001b[0m\u001b[0;34m\u001b[0m\u001b[0;34m\u001b[0m\u001b[0m\n\u001b[1;32m      7\u001b[0m                     \u001b[0msmooth\u001b[0m\u001b[0;34m=\u001b[0m\u001b[0;32mNone\u001b[0m\u001b[0;34m)\u001b[0m\u001b[0;34m\u001b[0m\u001b[0;34m\u001b[0m\u001b[0m\n",
      "\u001b[0;32m~/Documents/GitHub/Functional_Fusion/Functional_Fusion/dataset.py\u001b[0m in \u001b[0;36m?\u001b[0;34m(self, ses_id, type, atlas, smooth, subj)\u001b[0m\n\u001b[1;32m    798\u001b[0m         \u001b[0;32mfor\u001b[0m \u001b[0ms\u001b[0m \u001b[0;32min\u001b[0m \u001b[0mT\u001b[0m\u001b[0;34m.\u001b[0m\u001b[0mparticipant_id\u001b[0m\u001b[0;34m:\u001b[0m\u001b[0;34m\u001b[0m\u001b[0;34m\u001b[0m\u001b[0m\n\u001b[1;32m    799\u001b[0m             \u001b[0mprint\u001b[0m\u001b[0;34m(\u001b[0m\u001b[0;34mf'\u001b[0m\u001b[0;34mAtlasmap \u001b[0m\u001b[0;34m{\u001b[0m\u001b[0ms\u001b[0m\u001b[0;34m}\u001b[0m\u001b[0;34m'\u001b[0m\u001b[0;34m)\u001b[0m\u001b[0;34m\u001b[0m\u001b[0;34m\u001b[0m\u001b[0m\n\u001b[1;32m    800\u001b[0m             atlas_maps = self.get_atlasmaps(myatlas, s, ses_id,\n\u001b[1;32m    801\u001b[0m                                                 \u001b[0msmooth\u001b[0m\u001b[0;34m=\u001b[0m\u001b[0msmooth\u001b[0m\u001b[0;34m\u001b[0m\u001b[0;34m\u001b[0m\u001b[0m\n\u001b[0;32m--> 802\u001b[0;31m                                                 \u001b[0minterpolation\u001b[0m\u001b[0;34m=\u001b[0m\u001b[0minterpolation\u001b[0m\u001b[0;34m)\u001b[0m\u001b[0;34m\u001b[0m\u001b[0;34m\u001b[0m\u001b[0m\n\u001b[0m\u001b[1;32m    803\u001b[0m             \u001b[0mprint\u001b[0m\u001b[0;34m(\u001b[0m\u001b[0;34mf'\u001b[0m\u001b[0;34mExtract \u001b[0m\u001b[0;34m{\u001b[0m\u001b[0ms\u001b[0m\u001b[0;34m}\u001b[0m\u001b[0;34m'\u001b[0m\u001b[0;34m)\u001b[0m\u001b[0;34m\u001b[0m\u001b[0;34m\u001b[0m\u001b[0m\n\u001b[1;32m    804\u001b[0m             \u001b[0mfnames\u001b[0m\u001b[0;34m,\u001b[0m \u001b[0minfo\u001b[0m \u001b[0;34m=\u001b[0m \u001b[0mself\u001b[0m\u001b[0;34m.\u001b[0m\u001b[0mget_data_fnames\u001b[0m\u001b[0;34m(\u001b[0m\u001b[0ms\u001b[0m\u001b[0;34m,\u001b[0m \u001b[0mses_id\u001b[0m\u001b[0;34m,\u001b[0m \u001b[0mtype\u001b[0m\u001b[0;34m=\u001b[0m\u001b[0mtype\u001b[0m\u001b[0;34m)\u001b[0m\u001b[0;34m\u001b[0m\u001b[0;34m\u001b[0m\u001b[0m\n\u001b[1;32m    805\u001b[0m             \u001b[0mdata\u001b[0m \u001b[0;34m=\u001b[0m \u001b[0mam\u001b[0m\u001b[0;34m.\u001b[0m\u001b[0mget_data_nifti\u001b[0m\u001b[0;34m(\u001b[0m\u001b[0mfnames\u001b[0m\u001b[0;34m,\u001b[0m \u001b[0matlas_maps\u001b[0m\u001b[0;34m)\u001b[0m\u001b[0;34m\u001b[0m\u001b[0;34m\u001b[0m\u001b[0m\n",
      "\u001b[0;32m~/Documents/GitHub/Functional_Fusion/Functional_Fusion/dataset.py\u001b[0m in \u001b[0;36m?\u001b[0;34m(self, participant_id, session_id, type)\u001b[0m\n\u001b[1;32m    630\u001b[0m \u001b[0;34m\u001b[0m\u001b[0m\n\u001b[1;32m    631\u001b[0m         \u001b[0;32mif\u001b[0m \u001b[0mtype\u001b[0m\u001b[0;34m[\u001b[0m\u001b[0;34m:\u001b[0m\u001b[0;36m4\u001b[0m\u001b[0;34m]\u001b[0m \u001b[0;34m==\u001b[0m \u001b[0;34m'Cond'\u001b[0m \u001b[0;32mor\u001b[0m \u001b[0mtype\u001b[0m\u001b[0;34m[\u001b[0m\u001b[0;34m:\u001b[0m\u001b[0;36m4\u001b[0m\u001b[0;34m]\u001b[0m \u001b[0;34m==\u001b[0m \u001b[0;34m'Task'\u001b[0m\u001b[0;34m:\u001b[0m\u001b[0;34m\u001b[0m\u001b[0;34m\u001b[0m\u001b[0m\n\u001b[1;32m    632\u001b[0m             T = pd.read_csv(\n\u001b[1;32m    633\u001b[0m                 \u001b[0mdirw\u001b[0m \u001b[0;34m+\u001b[0m \u001b[0;34mf'\u001b[0m\u001b[0;34m/\u001b[0m\u001b[0;34m{\u001b[0m\u001b[0mparticipant_id\u001b[0m\u001b[0;34m}\u001b[0m\u001b[0;34m_\u001b[0m\u001b[0;34m{\u001b[0m\u001b[0msession_id\u001b[0m\u001b[0;34m}\u001b[0m\u001b[0;34m_reginfo.tsv\u001b[0m\u001b[0;34m'\u001b[0m\u001b[0;34m,\u001b[0m \u001b[0msep\u001b[0m\u001b[0;34m=\u001b[0m\u001b[0;34m'\\t'\u001b[0m\u001b[0;34m)\u001b[0m\u001b[0;34m\u001b[0m\u001b[0;34m\u001b[0m\u001b[0m\n\u001b[0;32m--> 634\u001b[0;31m             \u001b[0mfnames\u001b[0m \u001b[0;34m=\u001b[0m \u001b[0;34m[\u001b[0m\u001b[0;34mf'\u001b[0m\u001b[0;34m{\u001b[0m\u001b[0mdirw\u001b[0m\u001b[0;34m}\u001b[0m\u001b[0;34m/\u001b[0m\u001b[0;34m{\u001b[0m\u001b[0mparticipant_id\u001b[0m\u001b[0;34m}\u001b[0m\u001b[0;34m_\u001b[0m\u001b[0;34m{\u001b[0m\u001b[0msession_id\u001b[0m\u001b[0;34m}\u001b[0m\u001b[0;34m_run-\u001b[0m\u001b[0;34m{\u001b[0m\u001b[0mt\u001b[0m\u001b[0;34m.\u001b[0m\u001b[0mrun\u001b[0m\u001b[0;34m:\u001b[0m\u001b[0;34m02\u001b[0m\u001b[0;34m}\u001b[0m\u001b[0;34m_reg-\u001b[0m\u001b[0;34m{\u001b[0m\u001b[0mt\u001b[0m\u001b[0;34m.\u001b[0m\u001b[0mreg_id\u001b[0m\u001b[0;34m:\u001b[0m\u001b[0;34m02\u001b[0m\u001b[0;34m}\u001b[0m\u001b[0;34m_beta.nii\u001b[0m\u001b[0;34m'\u001b[0m \u001b[0;32mfor\u001b[0m \u001b[0mi\u001b[0m\u001b[0;34m,\u001b[0m \u001b[0mt\u001b[0m \u001b[0;32min\u001b[0m \u001b[0mT\u001b[0m\u001b[0;34m.\u001b[0m\u001b[0miterrows\u001b[0m\u001b[0;34m(\u001b[0m\u001b[0;34m)\u001b[0m\u001b[0;34m]\u001b[0m\u001b[0;34m\u001b[0m\u001b[0;34m\u001b[0m\u001b[0m\n\u001b[0m\u001b[1;32m    635\u001b[0m             \u001b[0mfnames\u001b[0m\u001b[0;34m.\u001b[0m\u001b[0mappend\u001b[0m\u001b[0;34m(\u001b[0m\u001b[0;34mf'\u001b[0m\u001b[0;34m{\u001b[0m\u001b[0mdirw\u001b[0m\u001b[0;34m}\u001b[0m\u001b[0;34m/\u001b[0m\u001b[0;34m{\u001b[0m\u001b[0mparticipant_id\u001b[0m\u001b[0;34m}\u001b[0m\u001b[0;34m_\u001b[0m\u001b[0;34m{\u001b[0m\u001b[0msession_id\u001b[0m\u001b[0;34m}\u001b[0m\u001b[0;34m_resms.nii\u001b[0m\u001b[0;34m'\u001b[0m\u001b[0;34m)\u001b[0m\u001b[0;34m\u001b[0m\u001b[0;34m\u001b[0m\u001b[0m\n\u001b[1;32m    636\u001b[0m         \u001b[0;32melif\u001b[0m \u001b[0mtype\u001b[0m \u001b[0;34m==\u001b[0m \u001b[0;34m'Tseries'\u001b[0m \u001b[0;32mor\u001b[0m \u001b[0mtype\u001b[0m \u001b[0;34m==\u001b[0m \u001b[0;34m'FixTseries'\u001b[0m\u001b[0;34m:\u001b[0m\u001b[0;34m\u001b[0m\u001b[0;34m\u001b[0m\u001b[0m\n\u001b[1;32m    637\u001b[0m             \u001b[0;31m# Find all run files of the structure f'{dirw}/{participant_id}_{session_id}_run-??.nii'\u001b[0m\u001b[0;34m\u001b[0m\u001b[0;34m\u001b[0m\u001b[0m\n",
      "\u001b[0;32m/Library/Frameworks/Python.framework/Versions/3.12/lib/python3.12/site-packages/pandas/core/generic.py\u001b[0m in \u001b[0;36m?\u001b[0;34m(self, name)\u001b[0m\n\u001b[1;32m   6200\u001b[0m             \u001b[0;32mand\u001b[0m \u001b[0mname\u001b[0m \u001b[0;32mnot\u001b[0m \u001b[0;32min\u001b[0m \u001b[0mself\u001b[0m\u001b[0;34m.\u001b[0m\u001b[0m_accessors\u001b[0m\u001b[0;34m\u001b[0m\u001b[0;34m\u001b[0m\u001b[0m\n\u001b[1;32m   6201\u001b[0m             \u001b[0;32mand\u001b[0m \u001b[0mself\u001b[0m\u001b[0;34m.\u001b[0m\u001b[0m_info_axis\u001b[0m\u001b[0;34m.\u001b[0m\u001b[0m_can_hold_identifiers_and_holds_name\u001b[0m\u001b[0;34m(\u001b[0m\u001b[0mname\u001b[0m\u001b[0;34m)\u001b[0m\u001b[0;34m\u001b[0m\u001b[0;34m\u001b[0m\u001b[0m\n\u001b[1;32m   6202\u001b[0m         \u001b[0;34m)\u001b[0m\u001b[0;34m:\u001b[0m\u001b[0;34m\u001b[0m\u001b[0;34m\u001b[0m\u001b[0m\n\u001b[1;32m   6203\u001b[0m             \u001b[0;32mreturn\u001b[0m \u001b[0mself\u001b[0m\u001b[0;34m[\u001b[0m\u001b[0mname\u001b[0m\u001b[0;34m]\u001b[0m\u001b[0;34m\u001b[0m\u001b[0;34m\u001b[0m\u001b[0m\n\u001b[0;32m-> 6204\u001b[0;31m         \u001b[0;32mreturn\u001b[0m \u001b[0mobject\u001b[0m\u001b[0;34m.\u001b[0m\u001b[0m__getattribute__\u001b[0m\u001b[0;34m(\u001b[0m\u001b[0mself\u001b[0m\u001b[0;34m,\u001b[0m \u001b[0mname\u001b[0m\u001b[0;34m)\u001b[0m\u001b[0;34m\u001b[0m\u001b[0;34m\u001b[0m\u001b[0m\n\u001b[0m",
      "\u001b[0;31mAttributeError\u001b[0m: 'Series' object has no attribute 'reg_id'"
     ]
    }
   ],
   "source": [
    "#this extracts data\n",
    "\n",
    "dataset = ds.DataSetMDTB(base_dir + '/Pontine7T')\n",
    "dataset.extract_all(ses_id='ses-s1',\n",
    "                    type='CondRun',\n",
    "                    atlas='MNISymRedNucleus1',\n",
    "                    smooth=None)"
   ]
  },
  {
   "cell_type": "code",
   "execution_count": 7,
   "metadata": {},
   "outputs": [],
   "source": [
    "#this gives n_subj x n_cond x n_voxels tensor; it does not extract data \n",
    "\n",
    "#X,info,dataset_obj = ds.get_dataset(base_dir,\n",
    " #       dataset='MDTB',\n",
    "  #      atlas='MNISymC2',\n",
    "   #     sess='ses-s1',\n",
    "    #    type='CondRun')\n",
    "\n",
    "X2,info2,dataset_obj2 = ds.get_dataset(base_dir,\n",
    "        dataset='MDTB',\n",
    "        atlas='MNISymDentate1',\n",
    "        sess='ses-s2',\n",
    "        type='CondRun')\n",
    "\n"
   ]
  },
  {
   "cell_type": "code",
   "execution_count": 9,
   "metadata": {},
   "outputs": [],
   "source": [
    "Y,infoY,dataset_objY = ds.get_dataset(base_dir,\n",
    "        dataset='Language',\n",
    "        atlas='MNISymDentate1',\n",
    "        sess='ses-localizer_cond_fm',\n",
    "        type='CondRun')\n",
    "\n",
    "#Y2,infoY2,dataset_objY2 = ds.get_dataset(base_dir,\n",
    " #       dataset='Language',\n",
    "  #      atlas='MNISymCereb2',\n",
    "   #     sess='ses-localizer_cond_fm',\n",
    "    #    type='CondRun')"
   ]
  },
  {
   "cell_type": "code",
   "execution_count": 8,
   "metadata": {},
   "outputs": [
    {
     "name": "stdout",
     "output_type": "stream",
     "text": [
      "(24, 976, 3934)\n"
     ]
    }
   ],
   "source": [
    "#atlas mdtb\n",
    "\n",
    "data_mdtb = X2\n",
    "\n",
    "#data_mdtb2 = X2\n",
    "\n",
    "cond_vec = np.tile(np.arange(1,30),16)\n",
    "\n",
    "part_vec = np.repeat(np.arange(1,17), 29)\n",
    "\n",
    "tensor_4d = ac.flat2ndarray(data_mdtb, cond_vec, part_vec)\n",
    "\n",
    "#tensor_4d2 = ac.flat2ndarray(data_mdtb2, cond_vec, part_vec)\n",
    "\n",
    "tensor_4d.shape\n",
    "\n",
    "#cleaning tensor \n",
    "\n",
    "tensor_no_nans = np.nan_to_num(tensor_4d)\n",
    "\n",
    "#tensor_no_nans2 = np.nan_to_num(tensor_4d2)\n",
    "\n",
    "tensor_avg_cond = tensor_no_nans.mean(axis=3, keepdims=1)\n",
    "\n",
    "#tensor_avg_cond2 = tensor_no_nans2.mean(axis=3, keepdims=1)\n",
    "\n",
    "tensor_mean_subtract_mdtb = tensor_no_nans - tensor_avg_cond\n",
    "\n",
    "#tensor_mean_subtract_mdtb2 = tensor_no_nans2 - tensor_avg_cond2\n",
    "\n",
    "print(data_mdtb.shape)\n"
   ]
  },
  {
   "cell_type": "code",
   "execution_count": 10,
   "metadata": {},
   "outputs": [
    {
     "name": "stdout",
     "output_type": "stream",
     "text": [
      "(17, 8, 18, 3934)\n"
     ]
    }
   ],
   "source": [
    "#language \n",
    "\n",
    "data_language = Y\n",
    "\n",
    "#data_language2 = Y2\n",
    "\n",
    "cond_vec = np.tile(np.arange(1,19),8)\n",
    "\n",
    "part_vec = np.repeat(np.arange(1,9), 18)\n",
    "\n",
    "tensor_4d = ac.flat2ndarray(data_language, cond_vec, part_vec)\n",
    "\n",
    "#tensor_4d2 = ac.flat2ndarray(data_language2, cond_vec, part_vec)\n",
    "\n",
    "print(tensor_4d.shape)\n",
    "\n",
    "#print(tensor_4d2.shape)\n",
    "\n",
    "#cleaning tensor \n",
    "\n",
    "tensor_no_nans = np.nan_to_num(tensor_4d)\n",
    "\n",
    "#tensor_no_nans2 = np.nan_to_num(tensor_4d2)\n",
    "\n",
    "tensor_avg_cond = tensor_no_nans.mean(axis=3, keepdims=1)\n",
    "\n",
    "#tensor_avg_cond2 = tensor_no_nans2.mean(axis=3, keepdims=1)\n",
    "\n",
    "tensor_mean_subtract_language = tensor_no_nans - tensor_avg_cond\n",
    "\n",
    "#tensor_mean_subtract_language2 = tensor_no_nans2 - tensor_avg_cond2\n"
   ]
  },
  {
   "cell_type": "code",
   "execution_count": 11,
   "metadata": {},
   "outputs": [
    {
     "name": "stdout",
     "output_type": "stream",
     "text": [
      "(16, 16, 10, 3934)\n"
     ]
    }
   ],
   "source": [
    "#pontine7T\n",
    "\n",
    "\n",
    "flat_data = ac.get_structure_data(structure='dentate',  data_dir='/Volumes/diedrichsen_data$/data/Cerebellum/Pontine7T/RegionOfInterest_BOLDMNI/data/group')\n",
    "\n",
    "cond_vec = np.tile(np.arange(1,11),16)\n",
    "\n",
    "part_vec = np.repeat(np.arange(1,17), 10)\n",
    "\n",
    "tensor_4d = ac.flat2ndarray(flat_data, cond_vec, part_vec)\n",
    "\n",
    "tensor_no_nans = np.nan_to_num(tensor_4d)\n",
    "\n",
    " #removing avg of all voxels + check to ensure no nans\n",
    "\n",
    "tensor_avg_cond = tensor_no_nans.mean(axis=3, keepdims=1) #this is the mean activity pattern \n",
    "\n",
    "tensor_mean_subtract_BOLD = tensor_no_nans - tensor_avg_cond\n",
    "\n",
    "has_nans = np.isnan(tensor_mean_subtract_BOLD).any()\n",
    "\n",
    "\n",
    "print(tensor_mean_subtract_BOLD.shape)\n",
    "\n"
   ]
  },
  {
   "cell_type": "code",
   "execution_count": 12,
   "metadata": {},
   "outputs": [
    {
     "name": "stderr",
     "output_type": "stream",
     "text": [
      "vox offset (=39544) not divisible by 16, not SPM compatible; leaving at current value\n",
      "vox offset (=39544) not divisible by 16, not SPM compatible; leaving at current value\n",
      "/Library/Frameworks/Python.framework/Versions/3.12/lib/python3.12/site-packages/nibabel/nifti1.py:618: UserWarning: Extension size is not a multiple of 16 bytes; Assuming size is correct and hoping for the best\n",
      "  warnings.warn(\n",
      "vox offset (=39544) not divisible by 16, not SPM compatible; leaving at current value\n",
      "vox offset (=39544) not divisible by 16, not SPM compatible; leaving at current value\n",
      "vox offset (=39544) not divisible by 16, not SPM compatible; leaving at current value\n",
      "vox offset (=39544) not divisible by 16, not SPM compatible; leaving at current value\n",
      "vox offset (=39544) not divisible by 16, not SPM compatible; leaving at current value\n",
      "vox offset (=39544) not divisible by 16, not SPM compatible; leaving at current value\n",
      "vox offset (=39544) not divisible by 16, not SPM compatible; leaving at current value\n",
      "vox offset (=39544) not divisible by 16, not SPM compatible; leaving at current value\n",
      "vox offset (=39544) not divisible by 16, not SPM compatible; leaving at current value\n",
      "vox offset (=39544) not divisible by 16, not SPM compatible; leaving at current value\n",
      "vox offset (=39544) not divisible by 16, not SPM compatible; leaving at current value\n",
      "vox offset (=39544) not divisible by 16, not SPM compatible; leaving at current value\n",
      "vox offset (=39544) not divisible by 16, not SPM compatible; leaving at current value\n",
      "vox offset (=39544) not divisible by 16, not SPM compatible; leaving at current value\n",
      "vox offset (=39544) not divisible by 16, not SPM compatible; leaving at current value\n",
      "vox offset (=39544) not divisible by 16, not SPM compatible; leaving at current value\n",
      "vox offset (=39544) not divisible by 16, not SPM compatible; leaving at current value\n",
      "vox offset (=39544) not divisible by 16, not SPM compatible; leaving at current value\n",
      "vox offset (=39544) not divisible by 16, not SPM compatible; leaving at current value\n",
      "vox offset (=39544) not divisible by 16, not SPM compatible; leaving at current value\n",
      "vox offset (=39544) not divisible by 16, not SPM compatible; leaving at current value\n",
      "vox offset (=39544) not divisible by 16, not SPM compatible; leaving at current value\n",
      "vox offset (=39448) not divisible by 16, not SPM compatible; leaving at current value\n",
      "vox offset (=39448) not divisible by 16, not SPM compatible; leaving at current value\n",
      "vox offset (=39448) not divisible by 16, not SPM compatible; leaving at current value\n",
      "vox offset (=39448) not divisible by 16, not SPM compatible; leaving at current value\n",
      "vox offset (=39448) not divisible by 16, not SPM compatible; leaving at current value\n",
      "vox offset (=39448) not divisible by 16, not SPM compatible; leaving at current value\n",
      "vox offset (=39448) not divisible by 16, not SPM compatible; leaving at current value\n",
      "vox offset (=39448) not divisible by 16, not SPM compatible; leaving at current value\n",
      "vox offset (=39448) not divisible by 16, not SPM compatible; leaving at current value\n",
      "vox offset (=39448) not divisible by 16, not SPM compatible; leaving at current value\n",
      "vox offset (=39448) not divisible by 16, not SPM compatible; leaving at current value\n",
      "vox offset (=39448) not divisible by 16, not SPM compatible; leaving at current value\n",
      "vox offset (=39448) not divisible by 16, not SPM compatible; leaving at current value\n",
      "vox offset (=39448) not divisible by 16, not SPM compatible; leaving at current value\n",
      "vox offset (=39448) not divisible by 16, not SPM compatible; leaving at current value\n",
      "vox offset (=39448) not divisible by 16, not SPM compatible; leaving at current value\n",
      "vox offset (=39448) not divisible by 16, not SPM compatible; leaving at current value\n",
      "vox offset (=39448) not divisible by 16, not SPM compatible; leaving at current value\n",
      "vox offset (=39448) not divisible by 16, not SPM compatible; leaving at current value\n",
      "vox offset (=39448) not divisible by 16, not SPM compatible; leaving at current value\n",
      "vox offset (=39448) not divisible by 16, not SPM compatible; leaving at current value\n",
      "vox offset (=39448) not divisible by 16, not SPM compatible; leaving at current value\n",
      "vox offset (=39448) not divisible by 16, not SPM compatible; leaving at current value\n",
      "vox offset (=39448) not divisible by 16, not SPM compatible; leaving at current value\n"
     ]
    },
    {
     "name": "stdout",
     "output_type": "stream",
     "text": [
      "(16, 160, 2385)\n"
     ]
    }
   ],
   "source": [
    "#pontine7T\n",
    "\n",
    "\n",
    "flat_data = ac.get_structure_data(structure='dentate',  data_dir='/Volumes/diedrichsen_data$/data/Cerebellum/Pontine7T/RegionOfInterest_SUIT/data/group')\n",
    "\n",
    "cond_vec = np.tile(np.arange(1,11),16)\n",
    "\n",
    "part_vec = np.repeat(np.arange(1,17), 10)\n",
    "\n",
    "tensor_4d = ac.flat2ndarray(flat_data, cond_vec, part_vec)\n",
    "\n",
    "tensor_no_nans = np.nan_to_num(tensor_4d)\n",
    "\n",
    " #removing avg of all voxels + check to ensure no nans\n",
    "\n",
    "tensor_avg_cond = tensor_no_nans.mean(axis=3, keepdims=1) #this is the mean activity pattern \n",
    "\n",
    "tensor_mean_subtract_7T = tensor_no_nans - tensor_avg_cond\n",
    "\n",
    "has_nans = np.isnan(tensor_mean_subtract_7T).any()\n",
    "\n",
    "\n",
    "print(flat_data.shape)\n",
    "\n"
   ]
  },
  {
   "cell_type": "code",
   "execution_count": 13,
   "metadata": {},
   "outputs": [
    {
     "name": "stdout",
     "output_type": "stream",
     "text": [
      "[[6.23093164e-05 2.45878924e-03 2.01732410e-01]]\n",
      "[[0.00021045 0.00223683 0.20263003]]\n"
     ]
    }
   ],
   "source": [
    "#var_mdtb = ds.decompose_pattern_into_group_indiv_noise(tensor_mean_subtract_mdtb, criterion='global')\n",
    "#var_mdtb2 = ds.decompose_pattern_into_group_indiv_noise(tensor_mean_subtract_mdtb2, criterion='global')\n",
    "#var_language = ds.decompose_pattern_into_group_indiv_noise(tensor_mean_subtract_language, criterion='global')\n",
    "#var_language2 = ds.decompose_pattern_into_group_indiv_noise(tensor_mean_subtract_language2, criterion='global')\n",
    "var_7T = ds.decompose_pattern_into_group_indiv_noise(tensor_mean_subtract_7T, criterion='global')\n",
    "var_7T_old = ds.decompose_pattern_into_group_indiv_noise(tensor_mean_subtract_BOLD, criterion='global')\n",
    "\n",
    "#print(var_mdtb)\n",
    "print(var_7T)\n",
    "#print(var_7T_old)\n",
    "#print(var_language)\n",
    "print(var_7T_old)"
   ]
  },
  {
   "cell_type": "code",
   "execution_count": 14,
   "metadata": {},
   "outputs": [
    {
     "name": "stdout",
     "output_type": "stream",
     "text": [
      "[[3.05058732e-02 1.20379290e+00 9.87657012e+01]]\n",
      "[[3.03833305e-02 1.19895724e+00 9.83689576e+01]]\n"
     ]
    }
   ],
   "source": [
    "#var_norm_mdtb = np.zeros((1,3)) #(10,3) means 10 rows, 3 variances; (1,3) means 1 row, 3 variances, etc \n",
    "#var_norm_mdtb2 = np.zeros((1,3))\n",
    "var_norm_7T = np.zeros((1,3))\n",
    "var_norm_7T_old = np.zeros((1,3))\n",
    "#var_norm_language = np.zeros((1,3))\n",
    "#var_norm_language2 = np.zeros((1,3))\n",
    "\n",
    "for i in range(1): #number of rows \n",
    "    #row_sum_mdtb = np.sum(var_mdtb[i])\n",
    "    #var_norm_mdtb[i] = (var_mdtb[i]/row_sum_mdtb)*100\n",
    "\n",
    "    #row_sum_mdtb2 = np.sum(var_mdtb2[i])\n",
    "    #var_norm_mdtb2[i] = (var_mdtb2[i]/row_sum_mdtb2)*100\n",
    "\n",
    "    row_sum_7T = np.sum(var_7T[i])\n",
    "    var_norm_7T[i] = (var_7T[i]/row_sum_7T)*100\n",
    "\n",
    "    row_sum_7T_old = np.sum(var_7T_old[i])\n",
    "    var_norm_7T_old[i] = (var_7T[i]/row_sum_7T_old)*100\n",
    "    \n",
    "    #row_sum_lang = np.sum(var_language[i])\n",
    "    #var_norm_language[i] = (var_language[i]/row_sum_lang)*100\n",
    "\n",
    "    #row_sum_lang2 = np.sum(var_language2[i])\n",
    "    #var_norm_language2[i] = (var_language2[i]/row_sum_lang2)*100\n",
    "\n",
    "\n",
    "#print(var_norm_mdtb[0][0] + var_norm_mdtb[0][1] + var_norm_mdtb[0][2])\n",
    "\n",
    "#print(var_norm_mdtb)\n",
    "print(var_norm_7T)\n",
    "print(var_norm_7T_old)\n",
    "#print(var_norm_language2)\n"
   ]
  },
  {
   "cell_type": "code",
   "execution_count": 24,
   "metadata": {},
   "outputs": [
    {
     "data": {
      "image/png": "[encoded data removed]",
      "text/plain": [
       "<Figure size 1200x800 with 1 Axes>"
      ]
     },
     "metadata": {},
     "output_type": "display_data"
    }
   ],
   "source": [
    "import matplotlib.pyplot as plt\n",
    "import pandas as pd\n",
    "import matplotlib.patches as mpatches\n",
    "\n",
    "# Example data\n",
    "data = {\n",
    "    'datasets': ['pontine7T_BOLD', 'pontine7T_T1'],\n",
    "    #'vg_mdtb': var_norm_mdtb[:, 0],\n",
    "    #'vs_mdtb': var_norm_mdtb[:, 1],\n",
    "    #'vg_mdtb2': var_norm_mdtb2[:, 0],\n",
    "    #'vs_mdtb2': var_norm_mdtb2[:, 1],\n",
    "    #'vg_language': var_norm_language[:, 0],\n",
    "    #'vs_language' : var_norm_language[:,1],\n",
    "    #'vg_language2': var_norm_language2[:, 0],\n",
    "    #'vs_language2' : var_norm_language2[:,1],\n",
    "     'vg_7T_old': var_norm_7T_old[:, 0],\n",
    "    'vs_7T_old': var_norm_7T_old[:, 1],\n",
    "    'vg_7T': var_norm_7T[:, 0],\n",
    "    'vs_7T': var_norm_7T[:, 1]\n",
    "}\n",
    "\n",
    "# Reshape the data into long format\n",
    "df_stacked = pd.DataFrame({\n",
    "    'datasets': data['datasets'] * len(data['vg_7T_old']),\n",
    "    'vg': list(data['vg_7T']) + list(data['vg_7T_old']),\n",
    "    'vs': list(data['vs_7T']) + list(data['vs_7T_old'])  \n",
    "})\n",
    "\n",
    "# Plotting\n",
    "plt.figure(figsize=(12, 8))\n",
    "\n",
    "# Separate positive and negative values for 'vg' and 'vs'\n",
    "vg_positive = df_stacked['vg'].clip(lower=0)\n",
    "vg_negative = df_stacked['vg'].clip(upper=0)\n",
    "vs_positive = df_stacked['vs'].clip(lower=0)\n",
    "vs_negative = df_stacked['vs'].clip(upper=0)\n",
    "\n",
    "# Plot positive 'vg' and 'vs' (no labels to avoid duplicate legend entries)\n",
    "plt.bar(df_stacked['datasets'], vg_positive, color='blue')\n",
    "plt.bar(df_stacked['datasets'], vs_positive, bottom=vg_positive, color='red')\n",
    "\n",
    "# Plot negative 'vg' and 'vs' (no labels to avoid duplicate legend entries)\n",
    "plt.bar(df_stacked['datasets'], vg_negative, color='blue')\n",
    "plt.bar(df_stacked['datasets'], vs_negative, bottom=vg_negative, color='red')\n",
    "\n",
    "# Create custom legend\n",
    "vg_patch = mpatches.Patch(color='blue', label='vg')\n",
    "vs_patch = mpatches.Patch(color='red', label='vs')\n",
    "plt.legend(handles=[vg_patch, vs_patch], title='Variance', loc='upper right')\n",
    "\n",
    "# Customize the plot\n",
    "plt.xlabel('datasets')\n",
    "plt.ylabel('Variances (%)')\n",
    "plt.title('Global variances pontine7T (dentate)')\n",
    "plt.ylim(0, 1.25)\n",
    "plt.show()\n"
   ]
  },
  {
   "cell_type": "code",
   "execution_count": 54,
   "metadata": {},
   "outputs": [
    {
     "data": {
      "image/png": "[encoded data removed]",
      "text/plain": [
       "<Figure size 1200x800 with 1 Axes>"
      ]
     },
     "metadata": {},
     "output_type": "display_data"
    }
   ],
   "source": [
    "#plot global variances for each ROI\n",
    "\n",
    "data = {\n",
    "    'datasets': ['mdtb', 'pontine7T'],\n",
    "    'vg_mdtb': var_norm_mdtb[:, 0],\n",
    "    'vs_mdtb': var_norm_mdtb[:, 1],\n",
    "    'vg_7T': var_norm_7T[:, 0],\n",
    "    'vs_7T': var_norm_7T[:, 1]\n",
    "}\n",
    "\n",
    "# Reshape the data into long format\n",
    "df_stacked = pd.DataFrame({\n",
    "    'datasets': data['datasets'] * len(data['vg_mdtb']),  # Repeat each dataset label for each observation\n",
    "    'vg': list(data['vg_mdtb']) + list(data['vg_7T']),   # Concatenate vg values for both datasets\n",
    "    'vs': list(data['vs_mdtb']) + list(data['vs_7T'])    # Concatenate vs values for both datasets\n",
    "})\n",
    "\n",
    "# Plotting\n",
    "plt.figure(figsize=(12, 8))\n",
    "\n",
    "# Plot 'vg' as the base part of the bar\n",
    "plt.bar(df_stacked['datasets'], df_stacked['vg'], label='vg', color='blue')\n",
    "\n",
    "# Stack 'vs' on top of 'vg'\n",
    "plt.bar(df_stacked['datasets'], df_stacked['vs'], bottom=df_stacked['vg'], label='vs', color='red')\n",
    "\n",
    "# Customize the plot\n",
    "plt.xlabel('datasets')\n",
    "plt.ylabel('Variances (%)')\n",
    "plt.title('Global variances per dataset (olive)')\n",
    "plt.legend(title='Variance', loc='upper right')\n",
    "plt.ylim(-0.02,0)\n",
    "plt.show()"
   ]
  },
  {
   "cell_type": "code",
   "execution_count": 21,
   "metadata": {},
   "outputs": [
    {
     "name": "stdout",
     "output_type": "stream",
     "text": [
      "skipping /maskbrainSUITGrey.nii\n"
     ]
    }
   ],
   "source": [
    "\n",
    "source_dir = '/Volumes/diedrichsen_data$/data/Cerebellum/Pontine7T/suit/anatomicals/S08'\n",
    "\n",
    "dest_dir = '/Volumes/diedrichsen_data$/data/FunctionalFusion/Pontine7T/derivatives/sub-08/suit'\n",
    "anat_name = 'S08_T1w'\n",
    "id.import_suit(source_dir,dest_dir,anat_name,'sub-08')\n"
   ]
  },
  {
   "cell_type": "code",
   "execution_count": 48,
   "metadata": {},
   "outputs": [],
   "source": [
    "import glob \n",
    "import os \n",
    "\n",
    "\n",
    "subject = 'sub-07'\n",
    "\n",
    "source_dir = f'/Volumes/diedrichsen_data$/data/FunctionalFusion/Pontine7T/derivatives/{subject}/estimates2/ses-s1'\n",
    "\n",
    "files = sorted(glob.glob(f'{source_dir}/{subject}_ses-01_run*'))\n",
    "\n",
    "for i in range(1,10):\n",
    "    os.rename(f'{source_dir}/{subject}_ses-01_run-_000{i}.nii', f'{source_dir}/{subject}_ses-01_run-01_000{i}.nii')\n",
    "\n",
    "for i in range(10,11):\n",
    "    os.rename(f'{source_dir}/{subject}_ses-01_run-_00{i}.nii', f'{source_dir}/{subject}_ses-01_run-01_00{i}.nii')\n",
    "\n",
    "for i in range(11,21):\n",
    "    os.rename(f'{source_dir}/{subject}_ses-01_run-_00{i}.nii', f'{source_dir}/{subject}_ses-01_run-02_00{i}.nii')\n",
    "\n",
    "for i in range(21,31):\n",
    "    os.rename(f'{source_dir}/{subject}_ses-01_run-_00{i}.nii', f'{source_dir}/{subject}_ses-01_run-03_00{i}.nii')\n",
    "\n",
    "for i in range(31,41):\n",
    "    os.rename(f'{source_dir}/{subject}_ses-01_run-_00{i}.nii', f'{source_dir}/{subject}_ses-01_run-04_00{i}.nii')\n",
    "\n",
    "for i in range(41,51):\n",
    "    os.rename(f'{source_dir}/{subject}_ses-01_run-_00{i}.nii', f'{source_dir}/{subject}_ses-01_run-05_00{i}.nii')\n",
    "\n",
    "for i in range(51,61):\n",
    "    os.rename(f'{source_dir}/{subject}_ses-01_run-_00{i}.nii', f'{source_dir}/{subject}_ses-01_run-06_00{i}.nii')\n",
    "\n",
    "for i in range(61,71):\n",
    "    os.rename(f'{source_dir}/{subject}_ses-01_run-_00{i}.nii', f'{source_dir}/{subject}_ses-01_run-07_00{i}.nii')\n",
    "\n",
    "for i in range(71,81):\n",
    "    os.rename(f'{source_dir}/{subject}_ses-01_run-_00{i}.nii', f'{source_dir}/{subject}_ses-01_run-08_00{i}.nii')\n",
    "\n",
    "for i in range(81,91):\n",
    "    os.rename(f'{source_dir}/{subject}_ses-01_run-_00{i}.nii', f'{source_dir}/{subject}_ses-01_run-09_00{i}.nii')\n",
    "\n",
    "for i in range(91,100):\n",
    "    os.rename(f'{source_dir}/{subject}_ses-01_run-_00{i}.nii', f'{source_dir}/{subject}_ses-01_run-10_00{i}.nii')\n",
    "\n",
    "for i in range(100,101):\n",
    "    os.rename(f'{source_dir}/{subject}_ses-01_run-_0{i}.nii', f'{source_dir}/{subject}_ses-01_run-10_0{i}.nii')\n",
    "\n",
    "for i in range(101,111):\n",
    "    os.rename(f'{source_dir}/{subject}_ses-01_run-_0{i}.nii', f'{source_dir}/{subject}_ses-01_run-11_0{i}.nii')\n",
    "\n",
    "for i in range(111,121):\n",
    "    os.rename(f'{source_dir}/{subject}_ses-01_run-_0{i}.nii', f'{source_dir}/{subject}_ses-01_run-12_0{i}.nii')\n",
    "\n",
    "for i in range(121,131):\n",
    "    os.rename(f'{source_dir}/{subject}_ses-01_run-_0{i}.nii', f'{source_dir}/{subject}_ses-01_run-13_0{i}.nii')\n",
    "\n",
    "for i in range(131,141):\n",
    "    os.rename(f'{source_dir}/{subject}_ses-01_run-_0{i}.nii', f'{source_dir}/{subject}_ses-01_run-14_0{i}.nii')\n",
    "\n",
    "for i in range(141,151):\n",
    "    os.rename(f'{source_dir}/{subject}_ses-01_run-_0{i}.nii', f'{source_dir}/{subject}_ses-01_run-15_0{i}.nii')\n",
    "\n",
    "for i in range(151,161):\n",
    "    os.rename(f'{source_dir}/{subject}_ses-01_run-_0{i}.nii', f'{source_dir}/{subject}_ses-01_run-16_0{i}.nii')\n",
    "\n"
   ]
  },
  {
   "cell_type": "code",
   "execution_count": 45,
   "metadata": {},
   "outputs": [],
   "source": [
    "subject = 'sub-07'\n",
    "\n",
    "source_dir = f'/Volumes/diedrichsen_data$/data/FunctionalFusion/Pontine7T/derivatives/{subject}/estimates2/ses-s1'\n",
    "\n",
    "for run_idx in range(1,17):\n",
    "    run = f'run-{run_idx:02d}'\n",
    "    \n",
    "    files = sorted(glob.glob(f'{source_dir}/{subject}_ses-01_{run}*'))\n",
    "\n",
    "    for file_idx, file in enumerate(files):\n",
    "        os.rename(file, f'{source_dir}/{subject}_ses-01_{run}_reg-{file_idx:02d}_beta.nii')"
   ]
  }
 ],
 "metadata": {
  "kernelspec": {
   "display_name": "Python 3",
   "language": "python",
   "name": "python3"
  },
  "language_info": {
   "codemirror_mode": {
    "name": "ipython",
    "version": 3
   },
   "file_extension": ".py",
   "mimetype": "text/x-python",
   "name": "python",
   "nbconvert_exporter": "python",
   "pygments_lexer": "ipython3",
   "version": "3.12.0"
  }
 },
 "nbformat": 4,
 "nbformat_minor": 2
}
