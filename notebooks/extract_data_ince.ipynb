{
 "cells": [
  {
   "cell_type": "code",
   "execution_count": 2,
   "metadata": {},
   "outputs": [],
   "source": [
    "import Functional_Fusion.dataset as ds\n",
    "import Functional_Fusion.util as ut\n",
    "import nibabel as nb \n",
    "import Functional_Fusion.array_convert as ac\n",
    "base_dir = ut.get_base_dir()\n",
    "\n",
    "import numpy as np\n",
    "import matplotlib.pyplot as plt\n",
    "import pandas as pd\n",
    "import seaborn as sn\n",
    "import nitools as nt\n"
   ]
  },
  {
   "cell_type": "code",
   "execution_count": null,
   "metadata": {},
   "outputs": [],
   "source": []
  },
  {
   "cell_type": "code",
   "execution_count": 3,
   "metadata": {},
   "outputs": [
    {
     "name": "stdout",
     "output_type": "stream",
     "text": [
      "Atlasmap sub-98\n",
      "Extract sub-98\n"
     ]
    },
    {
     "ename": "KeyboardInterrupt",
     "evalue": "",
     "output_type": "error",
     "traceback": [
      "\u001b[0;31m---------------------------------------------------------------------------\u001b[0m",
      "\u001b[0;31mKeyboardInterrupt\u001b[0m                         Traceback (most recent call last)",
      "\u001b[1;32m/Users/incehusain/Documents/GitHub/Functional_Fusion/notebooks/extract_data_ince.ipynb Cell 3\u001b[0m line \u001b[0;36m2\n\u001b[1;32m      <a href='vscode-notebook-cell:/Users/incehusain/Documents/GitHub/Functional_Fusion/notebooks/extract_data_ince.ipynb#W1sZmlsZQ%3D%3D?line=0'>1</a>\u001b[0m dataset \u001b[39m=\u001b[39m ds\u001b[39m.\u001b[39mDataSetMDTB(base_dir \u001b[39m+\u001b[39m \u001b[39m'\u001b[39m\u001b[39m/Pontine\u001b[39m\u001b[39m'\u001b[39m)\n\u001b[0;32m----> <a href='vscode-notebook-cell:/Users/incehusain/Documents/GitHub/Functional_Fusion/notebooks/extract_data_ince.ipynb#W1sZmlsZQ%3D%3D?line=1'>2</a>\u001b[0m dataset\u001b[39m.\u001b[39;49mextract_all(ses_id\u001b[39m=\u001b[39;49m\u001b[39m'\u001b[39;49m\u001b[39mses-01\u001b[39;49m\u001b[39m'\u001b[39;49m,\n\u001b[1;32m      <a href='vscode-notebook-cell:/Users/incehusain/Documents/GitHub/Functional_Fusion/notebooks/extract_data_ince.ipynb#W1sZmlsZQ%3D%3D?line=2'>3</a>\u001b[0m                     \u001b[39mtype\u001b[39;49m\u001b[39m=\u001b[39;49m\u001b[39m'\u001b[39;49m\u001b[39mCondRun\u001b[39;49m\u001b[39m'\u001b[39;49m,\n\u001b[1;32m      <a href='vscode-notebook-cell:/Users/incehusain/Documents/GitHub/Functional_Fusion/notebooks/extract_data_ince.ipynb#W1sZmlsZQ%3D%3D?line=3'>4</a>\u001b[0m                     atlas\u001b[39m=\u001b[39;49m\u001b[39m'\u001b[39;49m\u001b[39mMNISymDentate1\u001b[39;49m\u001b[39m'\u001b[39;49m,\n\u001b[1;32m      <a href='vscode-notebook-cell:/Users/incehusain/Documents/GitHub/Functional_Fusion/notebooks/extract_data_ince.ipynb#W1sZmlsZQ%3D%3D?line=4'>5</a>\u001b[0m                     smooth\u001b[39m=\u001b[39;49m\u001b[39m2\u001b[39;49m)\n",
      "File \u001b[0;32m~/Documents/GitHub/Functional_Fusion/Functional_Fusion/dataset.py:788\u001b[0m, in \u001b[0;36mDataSet.extract_all\u001b[0;34m(self, ses_id, type, atlas, smooth, subj)\u001b[0m\n\u001b[1;32m    786\u001b[0m \u001b[39mprint\u001b[39m(\u001b[39mf\u001b[39m\u001b[39m'\u001b[39m\u001b[39mExtract \u001b[39m\u001b[39m{\u001b[39;00ms\u001b[39m}\u001b[39;00m\u001b[39m'\u001b[39m)\n\u001b[1;32m    787\u001b[0m fnames, info \u001b[39m=\u001b[39m \u001b[39mself\u001b[39m\u001b[39m.\u001b[39mget_data_fnames(s, ses_id, \u001b[39mtype\u001b[39m\u001b[39m=\u001b[39m\u001b[39mtype\u001b[39m)\n\u001b[0;32m--> 788\u001b[0m data \u001b[39m=\u001b[39m am\u001b[39m.\u001b[39;49mget_data_nifti(fnames, atlas_maps)\n\u001b[1;32m    789\u001b[0m data, info \u001b[39m=\u001b[39m \u001b[39mself\u001b[39m\u001b[39m.\u001b[39mcondense_data(data, info, \u001b[39mtype\u001b[39m,\n\u001b[1;32m    790\u001b[0m                                 participant_id\u001b[39m=\u001b[39ms, ses_id\u001b[39m=\u001b[39mses_id)\n\u001b[1;32m    791\u001b[0m \u001b[39m# Write out data as CIFTI file\u001b[39;00m\n",
      "File \u001b[0;32m~/Documents/GitHub/Functional_Fusion/Functional_Fusion/atlas_map.py:845\u001b[0m, in \u001b[0;36mget_data_nifti\u001b[0;34m(fnames, atlas_maps)\u001b[0m\n\u001b[1;32m    843\u001b[0m     data\u001b[39m.\u001b[39mappend(np\u001b[39m.\u001b[39mfull((n_vols, at\u001b[39m.\u001b[39mP), np\u001b[39m.\u001b[39mnan))\n\u001b[1;32m    844\u001b[0m \u001b[39mfor\u001b[39;00m j, V \u001b[39min\u001b[39;00m \u001b[39menumerate\u001b[39m(vols):\n\u001b[0;32m--> 845\u001b[0m     X \u001b[39m=\u001b[39m V\u001b[39m.\u001b[39;49mget_fdata()\n\u001b[1;32m    846\u001b[0m     X \u001b[39m=\u001b[39m X\u001b[39m.\u001b[39mravel()\n\u001b[1;32m    847\u001b[0m     \u001b[39mfor\u001b[39;00m i, at \u001b[39min\u001b[39;00m \u001b[39menumerate\u001b[39m(atlas_maps):\n",
      "File \u001b[0;32m/Library/Frameworks/Python.framework/Versions/3.12/lib/python3.12/site-packages/nibabel/dataobj_images.py:373\u001b[0m, in \u001b[0;36mDataobjImage.get_fdata\u001b[0;34m(self, caching, dtype)\u001b[0m\n\u001b[1;32m    369\u001b[0m         \u001b[39mreturn\u001b[39;00m \u001b[39mself\u001b[39m\u001b[39m.\u001b[39m_fdata_cache\n\u001b[1;32m    370\u001b[0m \u001b[39m# Always return requested data type\u001b[39;00m\n\u001b[1;32m    371\u001b[0m \u001b[39m# For array proxies, will attempt to confine data array to dtype\u001b[39;00m\n\u001b[1;32m    372\u001b[0m \u001b[39m# during scaling\u001b[39;00m\n\u001b[0;32m--> 373\u001b[0m data \u001b[39m=\u001b[39m np\u001b[39m.\u001b[39;49masanyarray(\u001b[39mself\u001b[39;49m\u001b[39m.\u001b[39;49m_dataobj, dtype\u001b[39m=\u001b[39;49mdtype)\n\u001b[1;32m    374\u001b[0m \u001b[39mif\u001b[39;00m caching \u001b[39m==\u001b[39m \u001b[39m'\u001b[39m\u001b[39mfill\u001b[39m\u001b[39m'\u001b[39m:\n\u001b[1;32m    375\u001b[0m     \u001b[39mself\u001b[39m\u001b[39m.\u001b[39m_fdata_cache \u001b[39m=\u001b[39m data\n",
      "File \u001b[0;32m/Library/Frameworks/Python.framework/Versions/3.12/lib/python3.12/site-packages/nibabel/arrayproxy.py:439\u001b[0m, in \u001b[0;36mArrayProxy.__array__\u001b[0;34m(self, dtype)\u001b[0m\n\u001b[1;32m    418\u001b[0m \u001b[39mdef\u001b[39;00m \u001b[39m__array__\u001b[39m(\u001b[39mself\u001b[39m, dtype\u001b[39m=\u001b[39m\u001b[39mNone\u001b[39;00m):\n\u001b[1;32m    419\u001b[0m \u001b[39m    \u001b[39m\u001b[39m\"\"\"Read data from file and apply scaling, casting to ``dtype``\u001b[39;00m\n\u001b[1;32m    420\u001b[0m \n\u001b[1;32m    421\u001b[0m \u001b[39m    If ``dtype`` is unspecified, the dtype of the returned array is the\u001b[39;00m\n\u001b[0;32m   (...)\u001b[0m\n\u001b[1;32m    437\u001b[0m \u001b[39m        Scaled image data with type `dtype`.\u001b[39;00m\n\u001b[1;32m    438\u001b[0m \u001b[39m    \"\"\"\u001b[39;00m\n\u001b[0;32m--> 439\u001b[0m     arr \u001b[39m=\u001b[39m \u001b[39mself\u001b[39;49m\u001b[39m.\u001b[39;49m_get_scaled(dtype\u001b[39m=\u001b[39;49mdtype, slicer\u001b[39m=\u001b[39;49m())\n\u001b[1;32m    440\u001b[0m     \u001b[39mif\u001b[39;00m dtype \u001b[39mis\u001b[39;00m \u001b[39mnot\u001b[39;00m \u001b[39mNone\u001b[39;00m:\n\u001b[1;32m    441\u001b[0m         arr \u001b[39m=\u001b[39m arr\u001b[39m.\u001b[39mastype(dtype, copy\u001b[39m=\u001b[39m\u001b[39mFalse\u001b[39;00m)\n",
      "File \u001b[0;32m/Library/Frameworks/Python.framework/Versions/3.12/lib/python3.12/site-packages/nibabel/arrayproxy.py:408\u001b[0m, in \u001b[0;36mArrayProxy._get_scaled\u001b[0;34m(self, dtype, slicer)\u001b[0m\n\u001b[1;32m    406\u001b[0m scaled \u001b[39m=\u001b[39m apply_read_scaling(\u001b[39mself\u001b[39m\u001b[39m.\u001b[39m_get_unscaled(slicer\u001b[39m=\u001b[39mslicer), scl_slope, scl_inter)\n\u001b[1;32m    407\u001b[0m \u001b[39mif\u001b[39;00m dtype \u001b[39mis\u001b[39;00m \u001b[39mnot\u001b[39;00m \u001b[39mNone\u001b[39;00m:\n\u001b[0;32m--> 408\u001b[0m     scaled \u001b[39m=\u001b[39m scaled\u001b[39m.\u001b[39;49mastype(np\u001b[39m.\u001b[39;49mpromote_types(scaled\u001b[39m.\u001b[39;49mdtype, dtype), copy\u001b[39m=\u001b[39;49m\u001b[39mFalse\u001b[39;49;00m)\n\u001b[1;32m    409\u001b[0m \u001b[39mreturn\u001b[39;00m scaled\n",
      "\u001b[0;31mKeyboardInterrupt\u001b[0m: "
     ]
    }
   ],
   "source": [
    "dataset = ds.DataSetMDTB(base_dir + '/Pontine')\n",
    "dataset.extract_all(ses_id='ses-01',\n",
    "                    type='CondRun',\n",
    "                    atlas='MNISymCereb2',\n",
    "                    smooth=2)"
   ]
  },
  {
   "cell_type": "code",
   "execution_count": 5,
   "metadata": {},
   "outputs": [
    {
     "ename": "FileNotFoundError",
     "evalue": "No such file or no access: '/Volumes/diedrichsen_data$/data/FunctionalFusion/Pontine/derivatives/sub-98/data/sub-98_space-MNISymCereb2_ses-01_TaskHalf.dscalar.nii'",
     "output_type": "error",
     "traceback": [
      "\u001b[0;31m---------------------------------------------------------------------------\u001b[0m",
      "\u001b[0;31mFileNotFoundError\u001b[0m                         Traceback (most recent call last)",
      "File \u001b[0;32m/Library/Frameworks/Python.framework/Versions/3.12/lib/python3.12/site-packages/nibabel/loadsave.py:100\u001b[0m, in \u001b[0;36mload\u001b[0;34m(filename, **kwargs)\u001b[0m\n\u001b[1;32m     99\u001b[0m \u001b[39mtry\u001b[39;00m:\n\u001b[0;32m--> 100\u001b[0m     stat_result \u001b[39m=\u001b[39m os\u001b[39m.\u001b[39;49mstat(filename)\n\u001b[1;32m    101\u001b[0m \u001b[39mexcept\u001b[39;00m \u001b[39mOSError\u001b[39;00m:\n",
      "\u001b[0;31mFileNotFoundError\u001b[0m: [Errno 2] No such file or directory: '/Volumes/diedrichsen_data$/data/FunctionalFusion/Pontine/derivatives/sub-98/data/sub-98_space-MNISymCereb2_ses-01_TaskHalf.dscalar.nii'",
      "\nDuring handling of the above exception, another exception occurred:\n",
      "\u001b[0;31mFileNotFoundError\u001b[0m                         Traceback (most recent call last)",
      "\u001b[1;32m/Users/incehusain/Documents/GitHub/Functional_Fusion/notebooks/extract_data_ince.ipynb Cell 4\u001b[0m line \u001b[0;36m9\n\u001b[1;32m      <a href='vscode-notebook-cell:/Users/incehusain/Documents/GitHub/Functional_Fusion/notebooks/extract_data_ince.ipynb#W2sZmlsZQ%3D%3D?line=0'>1</a>\u001b[0m \u001b[39m#this gives n_subj x n_cond x n_voxels tensor\u001b[39;00m\n\u001b[1;32m      <a href='vscode-notebook-cell:/Users/incehusain/Documents/GitHub/Functional_Fusion/notebooks/extract_data_ince.ipynb#W2sZmlsZQ%3D%3D?line=1'>2</a>\u001b[0m \n\u001b[1;32m      <a href='vscode-notebook-cell:/Users/incehusain/Documents/GitHub/Functional_Fusion/notebooks/extract_data_ince.ipynb#W2sZmlsZQ%3D%3D?line=2'>3</a>\u001b[0m \u001b[39m#X,info,dataset_obj = ds.get_dataset(base_dir,\u001b[39;00m\n\u001b[0;32m   (...)\u001b[0m\n\u001b[1;32m      <a href='vscode-notebook-cell:/Users/incehusain/Documents/GitHub/Functional_Fusion/notebooks/extract_data_ince.ipynb#W2sZmlsZQ%3D%3D?line=5'>6</a>\u001b[0m    \u001b[39m#     sess='ses-s1',\u001b[39;00m\n\u001b[1;32m      <a href='vscode-notebook-cell:/Users/incehusain/Documents/GitHub/Functional_Fusion/notebooks/extract_data_ince.ipynb#W2sZmlsZQ%3D%3D?line=6'>7</a>\u001b[0m     \u001b[39m#    type='CondRun')\u001b[39;00m\n\u001b[0;32m----> <a href='vscode-notebook-cell:/Users/incehusain/Documents/GitHub/Functional_Fusion/notebooks/extract_data_ince.ipynb#W2sZmlsZQ%3D%3D?line=8'>9</a>\u001b[0m X2,info2,dataset_obj2 \u001b[39m=\u001b[39m ds\u001b[39m.\u001b[39;49mget_dataset(base_dir,\n\u001b[1;32m     <a href='vscode-notebook-cell:/Users/incehusain/Documents/GitHub/Functional_Fusion/notebooks/extract_data_ince.ipynb#W2sZmlsZQ%3D%3D?line=9'>10</a>\u001b[0m         dataset\u001b[39m=\u001b[39;49m\u001b[39m'\u001b[39;49m\u001b[39mPontine\u001b[39;49m\u001b[39m'\u001b[39;49m,\n\u001b[1;32m     <a href='vscode-notebook-cell:/Users/incehusain/Documents/GitHub/Functional_Fusion/notebooks/extract_data_ince.ipynb#W2sZmlsZQ%3D%3D?line=10'>11</a>\u001b[0m         atlas\u001b[39m=\u001b[39;49m\u001b[39m'\u001b[39;49m\u001b[39mMNISymCereb2\u001b[39;49m\u001b[39m'\u001b[39;49m,\n\u001b[1;32m     <a href='vscode-notebook-cell:/Users/incehusain/Documents/GitHub/Functional_Fusion/notebooks/extract_data_ince.ipynb#W2sZmlsZQ%3D%3D?line=11'>12</a>\u001b[0m         sess\u001b[39m=\u001b[39;49m\u001b[39m'\u001b[39;49m\u001b[39mses-01\u001b[39;49m\u001b[39m'\u001b[39;49m,\n\u001b[1;32m     <a href='vscode-notebook-cell:/Users/incehusain/Documents/GitHub/Functional_Fusion/notebooks/extract_data_ince.ipynb#W2sZmlsZQ%3D%3D?line=12'>13</a>\u001b[0m         \u001b[39mtype\u001b[39;49m\u001b[39m=\u001b[39;49m\u001b[39m'\u001b[39;49m\u001b[39mTaskHalf\u001b[39;49m\u001b[39m'\u001b[39;49m)\n",
      "File \u001b[0;32m~/Documents/GitHub/Functional_Fusion/Functional_Fusion/dataset.py:87\u001b[0m, in \u001b[0;36mget_dataset\u001b[0;34m(base_dir, dataset, atlas, sess, subj, type, smooth, info_only)\u001b[0m\n\u001b[1;32m     85\u001b[0m data_l \u001b[39m=\u001b[39m []\n\u001b[1;32m     86\u001b[0m \u001b[39mfor\u001b[39;00m s \u001b[39min\u001b[39;00m sess:\n\u001b[0;32m---> 87\u001b[0m     dat, inf \u001b[39m=\u001b[39m my_dataset\u001b[39m.\u001b[39;49mget_data(atlas, s, \u001b[39mtype\u001b[39;49m, subj, smooth\u001b[39m=\u001b[39;49msmooth)\n\u001b[1;32m     88\u001b[0m     data_l\u001b[39m.\u001b[39mappend(dat)\n\u001b[1;32m     89\u001b[0m     inf[\u001b[39m'\u001b[39m\u001b[39msess\u001b[39m\u001b[39m'\u001b[39m] \u001b[39m=\u001b[39m [s] \u001b[39m*\u001b[39m inf\u001b[39m.\u001b[39mshape[\u001b[39m0\u001b[39m]\n",
      "File \u001b[0;32m~/Documents/GitHub/Functional_Fusion/Functional_Fusion/dataset.py:856\u001b[0m, in \u001b[0;36mDataSet.get_data\u001b[0;34m(self, space, ses_id, type, subj, fields, smooth, verbose)\u001b[0m\n\u001b[1;32m    853\u001b[0m     C \u001b[39m=\u001b[39m nb\u001b[39m.\u001b[39mload(\u001b[39mself\u001b[39m\u001b[39m.\u001b[39mdata_dir\u001b[39m.\u001b[39mformat(s)\n\u001b[1;32m    854\u001b[0m                 \u001b[39m+\u001b[39m \u001b[39mf\u001b[39m\u001b[39m'\u001b[39m\u001b[39m/\u001b[39m\u001b[39m{\u001b[39;00ms\u001b[39m}\u001b[39;00m\u001b[39m_space-\u001b[39m\u001b[39m{\u001b[39;00mspace\u001b[39m}\u001b[39;00m\u001b[39m_\u001b[39m\u001b[39m{\u001b[39;00mses_id\u001b[39m}\u001b[39;00m\u001b[39m_\u001b[39m\u001b[39m{\u001b[39;00m\u001b[39mtype\u001b[39m\u001b[39m}\u001b[39;00m\u001b[39m_desc-sm\u001b[39m\u001b[39m{\u001b[39;00m\u001b[39mint\u001b[39m(smooth)\u001b[39m}\u001b[39;00m\u001b[39m.dscalar.nii\u001b[39m\u001b[39m'\u001b[39m)\n\u001b[1;32m    855\u001b[0m \u001b[39melse\u001b[39;00m:\n\u001b[0;32m--> 856\u001b[0m     C \u001b[39m=\u001b[39m nb\u001b[39m.\u001b[39;49mload(\u001b[39mself\u001b[39;49m\u001b[39m.\u001b[39;49mdata_dir\u001b[39m.\u001b[39;49mformat(s)\n\u001b[1;32m    857\u001b[0m                 \u001b[39m+\u001b[39;49m \u001b[39mf\u001b[39;49m\u001b[39m'\u001b[39;49m\u001b[39m/\u001b[39;49m\u001b[39m{\u001b[39;49;00ms\u001b[39m}\u001b[39;49;00m\u001b[39m_space-\u001b[39;49m\u001b[39m{\u001b[39;49;00mspace\u001b[39m}\u001b[39;49;00m\u001b[39m_\u001b[39;49m\u001b[39m{\u001b[39;49;00mses_id\u001b[39m}\u001b[39;49;00m\u001b[39m_\u001b[39;49m\u001b[39m{\u001b[39;49;00m\u001b[39mtype\u001b[39;49m\u001b[39m}\u001b[39;49;00m\u001b[39m.dscalar.nii\u001b[39;49m\u001b[39m'\u001b[39;49m)\n\u001b[1;32m    858\u001b[0m this_data \u001b[39m=\u001b[39m C\u001b[39m.\u001b[39mget_fdata()\n\u001b[1;32m    860\u001b[0m \u001b[39m# Check if this subject data in incomplete\u001b[39;00m\n",
      "File \u001b[0;32m/Library/Frameworks/Python.framework/Versions/3.12/lib/python3.12/site-packages/nibabel/loadsave.py:102\u001b[0m, in \u001b[0;36mload\u001b[0;34m(filename, **kwargs)\u001b[0m\n\u001b[1;32m    100\u001b[0m     stat_result \u001b[39m=\u001b[39m os\u001b[39m.\u001b[39mstat(filename)\n\u001b[1;32m    101\u001b[0m \u001b[39mexcept\u001b[39;00m \u001b[39mOSError\u001b[39;00m:\n\u001b[0;32m--> 102\u001b[0m     \u001b[39mraise\u001b[39;00m \u001b[39mFileNotFoundError\u001b[39;00m(\u001b[39mf\u001b[39m\u001b[39m\"\u001b[39m\u001b[39mNo such file or no access: \u001b[39m\u001b[39m'\u001b[39m\u001b[39m{\u001b[39;00mfilename\u001b[39m}\u001b[39;00m\u001b[39m'\u001b[39m\u001b[39m\"\u001b[39m)\n\u001b[1;32m    103\u001b[0m \u001b[39mif\u001b[39;00m stat_result\u001b[39m.\u001b[39mst_size \u001b[39m<\u001b[39m\u001b[39m=\u001b[39m \u001b[39m0\u001b[39m:\n\u001b[1;32m    104\u001b[0m     \u001b[39mraise\u001b[39;00m ImageFileError(\u001b[39mf\u001b[39m\u001b[39m\"\u001b[39m\u001b[39mEmpty file: \u001b[39m\u001b[39m'\u001b[39m\u001b[39m{\u001b[39;00mfilename\u001b[39m}\u001b[39;00m\u001b[39m'\u001b[39m\u001b[39m\"\u001b[39m)\n",
      "\u001b[0;31mFileNotFoundError\u001b[0m: No such file or no access: '/Volumes/diedrichsen_data$/data/FunctionalFusion/Pontine/derivatives/sub-98/data/sub-98_space-MNISymCereb2_ses-01_TaskHalf.dscalar.nii'"
     ]
    }
   ],
   "source": [
    "#this gives n_subj x n_cond x n_voxels tensor\n",
    "\n",
    "#X,info,dataset_obj = ds.get_dataset(base_dir,\n",
    " #       dataset='MDTB',\n",
    "  #      atlas='MNISymC2',\n",
    "   #     sess='ses-s1',\n",
    "    #    type='CondRun')\n",
    "\n",
    "X2,info2,dataset_obj2 = ds.get_dataset(base_dir,\n",
    "        dataset='Pontine',\n",
    "        atlas='MNISymCereb2',\n",
    "        sess='ses-01',\n",
    "        type='TaskHalf')\n",
    "\n"
   ]
  },
  {
   "cell_type": "code",
   "execution_count": 4,
   "metadata": {},
   "outputs": [],
   "source": [
    "Y,infoY,dataset_objY = ds.get_dataset(base_dir,\n",
    "        dataset='Language',\n",
    "        atlas='MNISymC2',\n",
    "        sess='ses-localizer_cond_fm',\n",
    "        type='CondRun')\n",
    "\n",
    "Y2,infoY2,dataset_objY2 = ds.get_dataset(base_dir,\n",
    "        dataset='Language',\n",
    "        atlas='MNISymCereb2',\n",
    "        sess='ses-localizer_cond_fm',\n",
    "        type='CondRun')"
   ]
  },
  {
   "cell_type": "code",
   "execution_count": 5,
   "metadata": {},
   "outputs": [
    {
     "name": "stdout",
     "output_type": "stream",
     "text": [
      "(24, 464, 18290)\n"
     ]
    }
   ],
   "source": [
    "#atlas mdtb\n",
    "\n",
    "data_mdtb = X\n",
    "\n",
    "data_mdtb2 = X2\n",
    "\n",
    "cond_vec = np.tile(np.arange(1,30),16)\n",
    "\n",
    "part_vec = np.repeat(np.arange(1,17), 29)\n",
    "\n",
    "tensor_4d = ac.flat2ndarray(data_mdtb, cond_vec, part_vec)\n",
    "\n",
    "tensor_4d2 = ac.flat2ndarray(data_mdtb2, cond_vec, part_vec)\n",
    "\n",
    "tensor_4d.shape\n",
    "\n",
    "#cleaning tensor \n",
    "\n",
    "tensor_no_nans = np.nan_to_num(tensor_4d)\n",
    "\n",
    "tensor_no_nans2 = np.nan_to_num(tensor_4d2)\n",
    "\n",
    "tensor_avg_cond = tensor_no_nans.mean(axis=3, keepdims=1)\n",
    "\n",
    "tensor_avg_cond2 = tensor_no_nans2.mean(axis=3, keepdims=1)\n",
    "\n",
    "tensor_mean_subtract_mdtb = tensor_no_nans - tensor_avg_cond\n",
    "\n",
    "tensor_mean_subtract_mdtb2 = tensor_no_nans2 - tensor_avg_cond2\n",
    "\n",
    "print(data_mdtb.shape)\n"
   ]
  },
  {
   "cell_type": "code",
   "execution_count": 7,
   "metadata": {},
   "outputs": [
    {
     "name": "stdout",
     "output_type": "stream",
     "text": [
      "(17, 8, 18, 18290)\n",
      "(17, 8, 18, 18290)\n"
     ]
    }
   ],
   "source": [
    "#language \n",
    "\n",
    "data_language = Y\n",
    "\n",
    "data_language2 = Y2\n",
    "\n",
    "cond_vec = np.tile(np.arange(1,19),8)\n",
    "\n",
    "part_vec = np.repeat(np.arange(1,9), 18)\n",
    "\n",
    "tensor_4d = ac.flat2ndarray(data_language, cond_vec, part_vec)\n",
    "\n",
    "tensor_4d2 = ac.flat2ndarray(data_language2, cond_vec, part_vec)\n",
    "\n",
    "print(tensor_4d.shape)\n",
    "\n",
    "print(tensor_4d2.shape)\n",
    "\n",
    "#cleaning tensor \n",
    "\n",
    "tensor_no_nans = np.nan_to_num(tensor_4d)\n",
    "\n",
    "tensor_no_nans2 = np.nan_to_num(tensor_4d2)\n",
    "\n",
    "tensor_avg_cond = tensor_no_nans.mean(axis=3, keepdims=1)\n",
    "\n",
    "tensor_avg_cond2 = tensor_no_nans2.mean(axis=3, keepdims=1)\n",
    "\n",
    "tensor_mean_subtract_language = tensor_no_nans - tensor_avg_cond\n",
    "\n",
    "tensor_mean_subtract_language2 = tensor_no_nans2 - tensor_avg_cond2\n"
   ]
  },
  {
   "cell_type": "code",
   "execution_count": 18,
   "metadata": {},
   "outputs": [
    {
     "name": "stderr",
     "output_type": "stream",
     "text": [
      "vox offset (=1.40422e+06) not divisible by 16, not SPM compatible; leaving at current value\n",
      "vox offset (=1.40422e+06) not divisible by 16, not SPM compatible; leaving at current value\n",
      "/Library/Frameworks/Python.framework/Versions/3.12/lib/python3.12/site-packages/nibabel/nifti1.py:618: UserWarning: Extension size is not a multiple of 16 bytes; Assuming size is correct and hoping for the best\n",
      "  warnings.warn(\n",
      "vox offset (=1.40422e+06) not divisible by 16, not SPM compatible; leaving at current value\n",
      "vox offset (=1.40422e+06) not divisible by 16, not SPM compatible; leaving at current value\n",
      "vox offset (=1.40422e+06) not divisible by 16, not SPM compatible; leaving at current value\n",
      "vox offset (=1.40422e+06) not divisible by 16, not SPM compatible; leaving at current value\n",
      "vox offset (=1.40422e+06) not divisible by 16, not SPM compatible; leaving at current value\n",
      "vox offset (=1.40422e+06) not divisible by 16, not SPM compatible; leaving at current value\n",
      "vox offset (=1.40422e+06) not divisible by 16, not SPM compatible; leaving at current value\n",
      "vox offset (=1.40422e+06) not divisible by 16, not SPM compatible; leaving at current value\n",
      "vox offset (=1.40422e+06) not divisible by 16, not SPM compatible; leaving at current value\n",
      "vox offset (=1.40422e+06) not divisible by 16, not SPM compatible; leaving at current value\n",
      "vox offset (=1.40422e+06) not divisible by 16, not SPM compatible; leaving at current value\n",
      "vox offset (=1.40422e+06) not divisible by 16, not SPM compatible; leaving at current value\n",
      "vox offset (=1.40422e+06) not divisible by 16, not SPM compatible; leaving at current value\n",
      "vox offset (=1.40422e+06) not divisible by 16, not SPM compatible; leaving at current value\n",
      "vox offset (=1.40422e+06) not divisible by 16, not SPM compatible; leaving at current value\n",
      "vox offset (=1.40422e+06) not divisible by 16, not SPM compatible; leaving at current value\n",
      "vox offset (=1.40422e+06) not divisible by 16, not SPM compatible; leaving at current value\n",
      "vox offset (=1.40422e+06) not divisible by 16, not SPM compatible; leaving at current value\n",
      "vox offset (=1.40422e+06) not divisible by 16, not SPM compatible; leaving at current value\n",
      "vox offset (=1.40422e+06) not divisible by 16, not SPM compatible; leaving at current value\n",
      "vox offset (=1.40422e+06) not divisible by 16, not SPM compatible; leaving at current value\n",
      "vox offset (=1.40422e+06) not divisible by 16, not SPM compatible; leaving at current value\n",
      "vox offset (=1.40422e+06) not divisible by 16, not SPM compatible; leaving at current value\n",
      "vox offset (=1.40422e+06) not divisible by 16, not SPM compatible; leaving at current value\n",
      "vox offset (=1.40422e+06) not divisible by 16, not SPM compatible; leaving at current value\n",
      "vox offset (=1.40422e+06) not divisible by 16, not SPM compatible; leaving at current value\n",
      "vox offset (=1.40422e+06) not divisible by 16, not SPM compatible; leaving at current value\n",
      "vox offset (=1.40422e+06) not divisible by 16, not SPM compatible; leaving at current value\n",
      "vox offset (=1.40422e+06) not divisible by 16, not SPM compatible; leaving at current value\n",
      "vox offset (=1.40422e+06) not divisible by 16, not SPM compatible; leaving at current value\n",
      "vox offset (=1.40422e+06) not divisible by 16, not SPM compatible; leaving at current value\n",
      "vox offset (=1.40422e+06) not divisible by 16, not SPM compatible; leaving at current value\n",
      "vox offset (=1.40422e+06) not divisible by 16, not SPM compatible; leaving at current value\n",
      "vox offset (=1.40422e+06) not divisible by 16, not SPM compatible; leaving at current value\n",
      "vox offset (=1.40422e+06) not divisible by 16, not SPM compatible; leaving at current value\n",
      "vox offset (=1.40422e+06) not divisible by 16, not SPM compatible; leaving at current value\n",
      "vox offset (=1.40422e+06) not divisible by 16, not SPM compatible; leaving at current value\n",
      "vox offset (=1.40422e+06) not divisible by 16, not SPM compatible; leaving at current value\n",
      "vox offset (=1.40422e+06) not divisible by 16, not SPM compatible; leaving at current value\n",
      "vox offset (=1.40422e+06) not divisible by 16, not SPM compatible; leaving at current value\n",
      "vox offset (=1.40422e+06) not divisible by 16, not SPM compatible; leaving at current value\n",
      "vox offset (=1.40422e+06) not divisible by 16, not SPM compatible; leaving at current value\n",
      "vox offset (=1.40422e+06) not divisible by 16, not SPM compatible; leaving at current value\n",
      "vox offset (=1.40422e+06) not divisible by 16, not SPM compatible; leaving at current value\n",
      "vox offset (=1.40422e+06) not divisible by 16, not SPM compatible; leaving at current value\n",
      "vox offset (=1.40422e+06) not divisible by 16, not SPM compatible; leaving at current value\n"
     ]
    },
    {
     "name": "stdout",
     "output_type": "stream",
     "text": [
      "(16, 16, 10, 146192)\n"
     ]
    }
   ],
   "source": [
    "#pontine7T\n",
    "\n",
    "\n",
    "flat_data = ac.get_structure_data(structure='cereb_gray',  data_dir='/Volumes/diedrichsen_data$/data/Cerebellum/Pontine7T/RegionOfInterest_BOLDMNI/data/group')\n",
    "\n",
    "cond_vec = np.tile(np.arange(1,11),16)\n",
    "\n",
    "part_vec = np.repeat(np.arange(1,17), 10)\n",
    "\n",
    "tensor_4d = ac.flat2ndarray(flat_data, cond_vec, part_vec)\n",
    "\n",
    "tensor_no_nans = np.nan_to_num(tensor_4d)\n",
    "\n",
    " #removing avg of all voxels + check to ensure no nans\n",
    "\n",
    "tensor_avg_cond = tensor_no_nans.mean(axis=3, keepdims=1) #this is the mean activity pattern \n",
    "\n",
    "tensor_mean_subtract_BOLD = tensor_no_nans - tensor_avg_cond\n",
    "\n",
    "has_nans = np.isnan(tensor_mean_subtract_BOLD).any()\n",
    "\n",
    "\n",
    "print(tensor_mean_subtract_BOLD.shape)\n",
    "\n"
   ]
  },
  {
   "cell_type": "code",
   "execution_count": 17,
   "metadata": {},
   "outputs": [
    {
     "name": "stderr",
     "output_type": "stream",
     "text": [
      "vox offset (=1.52516e+06) not divisible by 16, not SPM compatible; leaving at current value\n",
      "vox offset (=1.52516e+06) not divisible by 16, not SPM compatible; leaving at current value\n",
      "/Library/Frameworks/Python.framework/Versions/3.12/lib/python3.12/site-packages/nibabel/nifti1.py:618: UserWarning: Extension size is not a multiple of 16 bytes; Assuming size is correct and hoping for the best\n",
      "  warnings.warn(\n",
      "vox offset (=1.52516e+06) not divisible by 16, not SPM compatible; leaving at current value\n",
      "vox offset (=1.52516e+06) not divisible by 16, not SPM compatible; leaving at current value\n",
      "vox offset (=1.52516e+06) not divisible by 16, not SPM compatible; leaving at current value\n",
      "vox offset (=1.52516e+06) not divisible by 16, not SPM compatible; leaving at current value\n",
      "vox offset (=1.52516e+06) not divisible by 16, not SPM compatible; leaving at current value\n",
      "vox offset (=1.52516e+06) not divisible by 16, not SPM compatible; leaving at current value\n",
      "vox offset (=1.52516e+06) not divisible by 16, not SPM compatible; leaving at current value\n",
      "vox offset (=1.52516e+06) not divisible by 16, not SPM compatible; leaving at current value\n",
      "vox offset (=1.52516e+06) not divisible by 16, not SPM compatible; leaving at current value\n",
      "vox offset (=1.52516e+06) not divisible by 16, not SPM compatible; leaving at current value\n",
      "vox offset (=1.52516e+06) not divisible by 16, not SPM compatible; leaving at current value\n",
      "vox offset (=1.52516e+06) not divisible by 16, not SPM compatible; leaving at current value\n",
      "vox offset (=1.52516e+06) not divisible by 16, not SPM compatible; leaving at current value\n",
      "vox offset (=1.52516e+06) not divisible by 16, not SPM compatible; leaving at current value\n",
      "vox offset (=1.52516e+06) not divisible by 16, not SPM compatible; leaving at current value\n",
      "vox offset (=1.52516e+06) not divisible by 16, not SPM compatible; leaving at current value\n",
      "vox offset (=1.52516e+06) not divisible by 16, not SPM compatible; leaving at current value\n",
      "vox offset (=1.52516e+06) not divisible by 16, not SPM compatible; leaving at current value\n",
      "vox offset (=1.52516e+06) not divisible by 16, not SPM compatible; leaving at current value\n",
      "vox offset (=1.52516e+06) not divisible by 16, not SPM compatible; leaving at current value\n",
      "vox offset (=1.52516e+06) not divisible by 16, not SPM compatible; leaving at current value\n",
      "vox offset (=1.52516e+06) not divisible by 16, not SPM compatible; leaving at current value\n",
      "vox offset (=1.52506e+06) not divisible by 16, not SPM compatible; leaving at current value\n",
      "vox offset (=1.52506e+06) not divisible by 16, not SPM compatible; leaving at current value\n",
      "vox offset (=1.52506e+06) not divisible by 16, not SPM compatible; leaving at current value\n",
      "vox offset (=1.52506e+06) not divisible by 16, not SPM compatible; leaving at current value\n",
      "vox offset (=1.52506e+06) not divisible by 16, not SPM compatible; leaving at current value\n",
      "vox offset (=1.52506e+06) not divisible by 16, not SPM compatible; leaving at current value\n",
      "vox offset (=1.5273e+06) not divisible by 16, not SPM compatible; leaving at current value\n",
      "vox offset (=1.5273e+06) not divisible by 16, not SPM compatible; leaving at current value\n",
      "vox offset (=1.5273e+06) not divisible by 16, not SPM compatible; leaving at current value\n",
      "vox offset (=1.52506e+06) not divisible by 16, not SPM compatible; leaving at current value\n",
      "vox offset (=1.52506e+06) not divisible by 16, not SPM compatible; leaving at current value\n",
      "vox offset (=1.52506e+06) not divisible by 16, not SPM compatible; leaving at current value\n",
      "vox offset (=1.52506e+06) not divisible by 16, not SPM compatible; leaving at current value\n",
      "vox offset (=1.52506e+06) not divisible by 16, not SPM compatible; leaving at current value\n",
      "vox offset (=1.52506e+06) not divisible by 16, not SPM compatible; leaving at current value\n",
      "vox offset (=1.52506e+06) not divisible by 16, not SPM compatible; leaving at current value\n",
      "vox offset (=1.52506e+06) not divisible by 16, not SPM compatible; leaving at current value\n",
      "vox offset (=1.52506e+06) not divisible by 16, not SPM compatible; leaving at current value\n",
      "vox offset (=1.52506e+06) not divisible by 16, not SPM compatible; leaving at current value\n",
      "vox offset (=1.52506e+06) not divisible by 16, not SPM compatible; leaving at current value\n",
      "vox offset (=1.52506e+06) not divisible by 16, not SPM compatible; leaving at current value\n",
      "vox offset (=1.52506e+06) not divisible by 16, not SPM compatible; leaving at current value\n",
      "vox offset (=1.52506e+06) not divisible by 16, not SPM compatible; leaving at current value\n",
      "vox offset (=1.52506e+06) not divisible by 16, not SPM compatible; leaving at current value\n"
     ]
    },
    {
     "name": "stdout",
     "output_type": "stream",
     "text": [
      "(16, 160, 164231)\n"
     ]
    }
   ],
   "source": [
    "#pontine7T\n",
    "\n",
    "\n",
    "flat_data = ac.get_structure_data(structure='cerebellum_gray',  data_dir='/Volumes/diedrichsen_data$/data/Cerebellum/Pontine7T/RegionOfInterest_SUIT/data/group')\n",
    "\n",
    "cond_vec = np.tile(np.arange(1,11),16)\n",
    "\n",
    "part_vec = np.repeat(np.arange(1,17), 10)\n",
    "\n",
    "tensor_4d = ac.flat2ndarray(flat_data, cond_vec, part_vec)\n",
    "\n",
    "tensor_no_nans = np.nan_to_num(tensor_4d)\n",
    "\n",
    " #removing avg of all voxels + check to ensure no nans\n",
    "\n",
    "tensor_avg_cond = tensor_no_nans.mean(axis=3, keepdims=1) #this is the mean activity pattern \n",
    "\n",
    "tensor_mean_subtract_7T = tensor_no_nans - tensor_avg_cond\n",
    "\n",
    "has_nans = np.isnan(tensor_mean_subtract_7T).any()\n",
    "\n",
    "\n",
    "print(flat_data.shape)\n",
    "\n"
   ]
  },
  {
   "cell_type": "code",
   "execution_count": 19,
   "metadata": {},
   "outputs": [
    {
     "name": "stdout",
     "output_type": "stream",
     "text": [
      "[[0.00065278 0.0013604  0.01877945]]\n",
      "[[0.00067622 0.00831148 0.23112561]]\n",
      "[[0.00099539 0.00807665 0.23925553]]\n",
      "[[0.00292091 0.00657326 0.05738278]]\n",
      "[[0.00285789 0.00645748 0.05686341]]\n"
     ]
    }
   ],
   "source": [
    "var_mdtb = ds.decompose_pattern_into_group_indiv_noise(tensor_mean_subtract_mdtb, criterion='global')\n",
    "var_mdtb2 = ds.decompose_pattern_into_group_indiv_noise(tensor_mean_subtract_mdtb2, criterion='global')\n",
    "var_language = ds.decompose_pattern_into_group_indiv_noise(tensor_mean_subtract_language, criterion='global')\n",
    "var_language2 = ds.decompose_pattern_into_group_indiv_noise(tensor_mean_subtract_language2, criterion='global')\n",
    "var_7T = ds.decompose_pattern_into_group_indiv_noise(tensor_mean_subtract_7T, criterion='global')\n",
    "var_7T_old = ds.decompose_pattern_into_group_indiv_noise(tensor_mean_subtract_BOLD, criterion='global')\n",
    "\n",
    "print(var_mdtb)\n",
    "print(var_7T)\n",
    "print(var_7T_old)\n",
    "print(var_language)\n",
    "print(var_language2)"
   ]
  },
  {
   "cell_type": "code",
   "execution_count": 20,
   "metadata": {},
   "outputs": [
    {
     "name": "stdout",
     "output_type": "stream",
     "text": [
      "100.0\n",
      "[[ 3.1394838   6.54269099 90.31782521]]\n",
      "[[ 0.28162588  3.46148317 96.25689095]]\n",
      "[[ 4.36758481  9.82889216 85.80352303]]\n",
      "[[ 4.31843212  9.75762416 85.92394372]]\n"
     ]
    }
   ],
   "source": [
    "var_norm_mdtb = np.zeros((1,3)) #(10,3) means 10 rows, 3 variances; (1,3) means 1 row, 3 variances, etc \n",
    "var_norm_mdtb2 = np.zeros((1,3))\n",
    "var_norm_7T = np.zeros((1,3))\n",
    "var_norm_7T_old = np.zeros((1,3))\n",
    "var_norm_language = np.zeros((1,3))\n",
    "var_norm_language2 = np.zeros((1,3))\n",
    "\n",
    "for i in range(1): #number of rows \n",
    "    row_sum_mdtb = np.sum(var_mdtb[i])\n",
    "    var_norm_mdtb[i] = (var_mdtb[i]/row_sum_mdtb)*100\n",
    "\n",
    "    row_sum_mdtb2 = np.sum(var_mdtb2[i])\n",
    "    var_norm_mdtb2[i] = (var_mdtb2[i]/row_sum_mdtb2)*100\n",
    "\n",
    "    row_sum_7T = np.sum(var_7T[i])\n",
    "    var_norm_7T[i] = (var_7T[i]/row_sum_7T)*100\n",
    "\n",
    "    row_sum_7T_old = np.sum(var_7T_old[i])\n",
    "    var_norm_7T_old[i] = (var_7T[i]/row_sum_7T_old)*100\n",
    "    \n",
    "    row_sum_lang = np.sum(var_language[i])\n",
    "    var_norm_language[i] = (var_language[i]/row_sum_lang)*100\n",
    "\n",
    "    row_sum_lang2 = np.sum(var_language2[i])\n",
    "    var_norm_language2[i] = (var_language2[i]/row_sum_lang2)*100\n",
    "\n",
    "\n",
    "print(var_norm_mdtb[0][0] + var_norm_mdtb[0][1] + var_norm_mdtb[0][2])\n",
    "\n",
    "print(var_norm_mdtb)\n",
    "print(var_norm_7T)\n",
    "print(var_norm_language)\n",
    "print(var_norm_language2)\n"
   ]
  },
  {
   "cell_type": "code",
   "execution_count": 22,
   "metadata": {},
   "outputs": [
    {
     "data": {
      "image/png": "[encoded data removed]",
      "text/plain": [
       "<Figure size 1200x800 with 1 Axes>"
      ]
     },
     "metadata": {},
     "output_type": "display_data"
    }
   ],
   "source": [
    "import matplotlib.pyplot as plt\n",
    "import pandas as pd\n",
    "import matplotlib.patches as mpatches\n",
    "\n",
    "# Example data\n",
    "data = {\n",
    "    'datasets': ['mdtb_T1','mdtb_BOLD', 'language_T1', 'language_BOLD', 'pontine7T_T1', 'pontine7T_BOLD'],\n",
    "    'vg_mdtb': var_norm_mdtb[:, 0],\n",
    "    'vs_mdtb': var_norm_mdtb[:, 1],\n",
    "    'vg_mdtb2': var_norm_mdtb2[:, 0],\n",
    "    'vs_mdtb2': var_norm_mdtb2[:, 1],\n",
    "    'vg_language': var_norm_language[:, 0],\n",
    "    'vs_language' : var_norm_language[:,1],\n",
    "    'vg_language2': var_norm_language2[:, 0],\n",
    "    'vs_language2' : var_norm_language2[:,1],\n",
    "     'vg_7T_old': var_norm_7T_old[:, 0],\n",
    "    'vs_7T_old': var_norm_7T_old[:, 1],\n",
    "    'vg_7T': var_norm_7T[:, 0],\n",
    "    'vs_7T': var_norm_7T[:, 1]\n",
    "}\n",
    "\n",
    "# Reshape the data into long format\n",
    "df_stacked = pd.DataFrame({\n",
    "    'datasets': data['datasets'] * len(data['vg_mdtb']),\n",
    "    'vg': list(data['vg_mdtb']) + list(data['vg_mdtb2']) + list(data['vg_language']) + list(data['vg_language2']) + list(data['vg_7T_old']) + list(data['vg_7T']),\n",
    "    'vs': list(data['vs_mdtb']) + list(data['vs_mdtb2']) + list(data['vs_language']) + list(data['vs_language2']) + list(data['vs_7T_old']) + list(data['vs_7T'])\n",
    "})\n",
    "\n",
    "# Plotting\n",
    "plt.figure(figsize=(12, 8))\n",
    "\n",
    "# Separate positive and negative values for 'vg' and 'vs'\n",
    "vg_positive = df_stacked['vg'].clip(lower=0)\n",
    "vg_negative = df_stacked['vg'].clip(upper=0)\n",
    "vs_positive = df_stacked['vs'].clip(lower=0)\n",
    "vs_negative = df_stacked['vs'].clip(upper=0)\n",
    "\n",
    "# Plot positive 'vg' and 'vs' (no labels to avoid duplicate legend entries)\n",
    "plt.bar(df_stacked['datasets'], vg_positive, color='blue')\n",
    "plt.bar(df_stacked['datasets'], vs_positive, bottom=vg_positive, color='red')\n",
    "\n",
    "# Plot negative 'vg' and 'vs' (no labels to avoid duplicate legend entries)\n",
    "plt.bar(df_stacked['datasets'], vg_negative, color='blue')\n",
    "plt.bar(df_stacked['datasets'], vs_negative, bottom=vg_negative, color='red')\n",
    "\n",
    "# Create custom legend\n",
    "vg_patch = mpatches.Patch(color='blue', label='vg')\n",
    "vs_patch = mpatches.Patch(color='red', label='vs')\n",
    "plt.legend(handles=[vg_patch, vs_patch], title='Variance', loc='upper right')\n",
    "\n",
    "# Customize the plot\n",
    "plt.xlabel('datasets')\n",
    "plt.ylabel('Variances (%)')\n",
    "plt.title('Global variances per dataset (cereb_grey)')\n",
    "plt.ylim(0, 15)\n",
    "plt.show()\n"
   ]
  },
  {
   "cell_type": "code",
   "execution_count": 54,
   "metadata": {},
   "outputs": [
    {
     "data": {
      "image/png": "[encoded data removed]",
      "text/plain": [
       "<Figure size 1200x800 with 1 Axes>"
      ]
     },
     "metadata": {},
     "output_type": "display_data"
    }
   ],
   "source": [
    "#plot global variances for each ROI\n",
    "\n",
    "data = {\n",
    "    'datasets': ['mdtb', 'pontine7T'],\n",
    "    'vg_mdtb': var_norm_mdtb[:, 0],\n",
    "    'vs_mdtb': var_norm_mdtb[:, 1],\n",
    "    'vg_7T': var_norm_7T[:, 0],\n",
    "    'vs_7T': var_norm_7T[:, 1]\n",
    "}\n",
    "\n",
    "# Reshape the data into long format\n",
    "df_stacked = pd.DataFrame({\n",
    "    'datasets': data['datasets'] * len(data['vg_mdtb']),  # Repeat each dataset label for each observation\n",
    "    'vg': list(data['vg_mdtb']) + list(data['vg_7T']),   # Concatenate vg values for both datasets\n",
    "    'vs': list(data['vs_mdtb']) + list(data['vs_7T'])    # Concatenate vs values for both datasets\n",
    "})\n",
    "\n",
    "# Plotting\n",
    "plt.figure(figsize=(12, 8))\n",
    "\n",
    "# Plot 'vg' as the base part of the bar\n",
    "plt.bar(df_stacked['datasets'], df_stacked['vg'], label='vg', color='blue')\n",
    "\n",
    "# Stack 'vs' on top of 'vg'\n",
    "plt.bar(df_stacked['datasets'], df_stacked['vs'], bottom=df_stacked['vg'], label='vs', color='red')\n",
    "\n",
    "# Customize the plot\n",
    "plt.xlabel('datasets')\n",
    "plt.ylabel('Variances (%)')\n",
    "plt.title('Global variances per dataset (olive)')\n",
    "plt.legend(title='Variance', loc='upper right')\n",
    "plt.ylim(-0.02,0)\n",
    "plt.show()"
   ]
  }
 ],
 "metadata": {
  "kernelspec": {
   "display_name": "Python 3",
   "language": "python",
   "name": "python3"
  },
  "language_info": {
   "codemirror_mode": {
    "name": "ipython",
    "version": 3
   },
   "file_extension": ".py",
   "mimetype": "text/x-python",
   "name": "python",
   "nbconvert_exporter": "python",
   "pygments_lexer": "ipython3",
   "version": "3.12.0"
  }
 },
 "nbformat": 4,
 "nbformat_minor": 2
}
