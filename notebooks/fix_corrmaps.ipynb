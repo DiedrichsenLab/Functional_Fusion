{
 "cells": [
  {
   "cell_type": "markdown",
   "metadata": {},
   "source": [
    "# Correlation plots of uncleaned and FIX-cleaned data\n",
    "Non-neuronal fluctuations can induce strong correlations from visual cortex to superior cerebellum. This notebook shows seed-based correlation maps of a voxel in the superior cerebellum of the uncleaned data and the data cleaned using FIX. It also shows correlation maps with seeds in the inferior occipital cortex."
   ]
  },
  {
   "cell_type": "code",
   "execution_count": 1,
   "metadata": {},
   "outputs": [],
   "source": [
    "import nibabel as nib\n",
    "from pathlib import Path\n",
    "import os.path as op\n",
    "import preprocessing.paths as paths\n",
    "import Functional_Fusion.util as util\n",
    "from scripts import seed_correlation as sc"
   ]
  },
  {
   "cell_type": "markdown",
   "metadata": {},
   "source": [
    "## Get paths and data"
   ]
  },
  {
   "cell_type": "code",
   "execution_count": 3,
   "metadata": {},
   "outputs": [],
   "source": [
    "# set paths\n",
    "base_dir = paths.set_base_dir()\n",
    "rest_dir = f'{base_dir}/../Cerebellum/super_cerebellum/resting_state/'\n",
    "figure_dir = paths.set_figure_dir()\n"
   ]
  },
  {
   "cell_type": "code",
   "execution_count": 40,
   "metadata": {},
   "outputs": [],
   "source": []
  },
  {
   "cell_type": "markdown",
   "metadata": {},
   "source": [
    "# Plot results"
   ]
  },
  {
   "cell_type": "markdown",
   "metadata": {},
   "source": [
    "## Plot mean performance\n",
    "Training was either performed with hand-labelled MDTB dataset or with FIX-provided training dataset (HCP 3T data or 'Standard' neuroimaging data - see parameters [here](https://fsl.fmrib.ox.ac.uk/fsl/fslwiki/FIX/UserGuide#Trained-weights_files)).\n",
    "For evaluation, FIX was leave-one-out tested on hand-labelled MDTB dataset which was either smoothed and highpass-filtered or not (smoothed TRUE or FALSE)."
   ]
  }
 ],
 "metadata": {
  "kernelspec": {
   "display_name": "env",
   "language": "python",
   "name": "env"
  },
  "language_info": {
   "codemirror_mode": {
    "name": "ipython",
    "version": 3
   },
   "file_extension": ".py",
   "mimetype": "text/x-python",
   "name": "python",
   "nbconvert_exporter": "python",
   "pygments_lexer": "ipython3",
   "version": "3.9.10"
  }
 },
 "nbformat": 4,
 "nbformat_minor": 2
}
