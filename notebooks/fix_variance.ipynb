{
 "cells": [
  {
   "cell_type": "code",
   "execution_count": 1,
   "metadata": {},
   "outputs": [],
   "source": [
    "import matplotlib.pyplot as plt\n",
    "import seaborn as sb\n",
    "import pandas as pd\n",
    "import Functional_Fusion.util as ut\n",
    "import preprocessing.paths as paths\n",
    "import preprocessing.rest_mdtb as rs_md\n",
    "import numpy as np"
   ]
  },
  {
   "cell_type": "code",
   "execution_count": 6,
   "metadata": {},
   "outputs": [],
   "source": [
    "# set paths\n",
    "base_dir = paths.set_base_dir()\n",
    "atlas_dir = paths.set_atlas_dir(base_dir)\n",
    "figure_dir = paths.set_figure_dir()\n",
    "export_dir = paths.set_export_dir(base_dir)\n",
    "\n",
    "\n",
    "results_dir = f'{base_dir}/../Cerebellum/super_cerebellum/resting_state/fix_ica/'"
   ]
  },
  {
   "cell_type": "code",
   "execution_count": 13,
   "metadata": {},
   "outputs": [
    {
     "data": {
      "text/html": [
       "<div>\n",
       "<style scoped>\n",
       "    .dataframe tbody tr th:only-of-type {\n",
       "        vertical-align: middle;\n",
       "    }\n",
       "\n",
       "    .dataframe tbody tr th {\n",
       "        vertical-align: top;\n",
       "    }\n",
       "\n",
       "    .dataframe thead th {\n",
       "        text-align: right;\n",
       "    }\n",
       "</style>\n",
       "<table border=\"1\" class=\"dataframe\">\n",
       "  <thead>\n",
       "    <tr style=\"text-align: right;\">\n",
       "      <th></th>\n",
       "      <th>prefix</th>\n",
       "      <th>postfix</th>\n",
       "      <th>perc_removed</th>\n",
       "      <th>subject</th>\n",
       "      <th>run</th>\n",
       "    </tr>\n",
       "  </thead>\n",
       "  <tbody>\n",
       "    <tr>\n",
       "      <th>0</th>\n",
       "      <td>2.364064e+07</td>\n",
       "      <td>2.357789e+07</td>\n",
       "      <td>26.544403</td>\n",
       "      <td>s02</td>\n",
       "      <td>1</td>\n",
       "    </tr>\n",
       "    <tr>\n",
       "      <th>1</th>\n",
       "      <td>2.386129e+07</td>\n",
       "      <td>2.382330e+07</td>\n",
       "      <td>15.920274</td>\n",
       "      <td>s02</td>\n",
       "      <td>2</td>\n",
       "    </tr>\n",
       "    <tr>\n",
       "      <th>2</th>\n",
       "      <td>2.319060e+07</td>\n",
       "      <td>2.311932e+07</td>\n",
       "      <td>30.737600</td>\n",
       "      <td>s03</td>\n",
       "      <td>1</td>\n",
       "    </tr>\n",
       "    <tr>\n",
       "      <th>3</th>\n",
       "      <td>2.350792e+07</td>\n",
       "      <td>2.346223e+07</td>\n",
       "      <td>19.436173</td>\n",
       "      <td>s03</td>\n",
       "      <td>2</td>\n",
       "    </tr>\n",
       "    <tr>\n",
       "      <th>4</th>\n",
       "      <td>2.318718e+07</td>\n",
       "      <td>2.315194e+07</td>\n",
       "      <td>15.198879</td>\n",
       "      <td>s06</td>\n",
       "      <td>1</td>\n",
       "    </tr>\n",
       "  </tbody>\n",
       "</table>\n",
       "</div>"
      ],
      "text/plain": [
       "         prefix       postfix  perc_removed subject  run\n",
       "0  2.364064e+07  2.357789e+07     26.544403     s02    1\n",
       "1  2.386129e+07  2.382330e+07     15.920274     s02    2\n",
       "2  2.319060e+07  2.311932e+07     30.737600     s03    1\n",
       "3  2.350792e+07  2.346223e+07     19.436173     s03    2\n",
       "4  2.318718e+07  2.315194e+07     15.198879     s06    1"
      ]
     },
     "execution_count": 13,
     "metadata": {},
     "output_type": "execute_result"
    }
   ],
   "source": [
    "data = pd.read_csv(f'{results_dir}/variance.csv', header=0, sep=',', index_col=0)\n",
    "data['perc_removed'] = data['perc_removed'].astype(float)*100\n",
    "data.head()"
   ]
  },
  {
   "cell_type": "code",
   "execution_count": 16,
   "metadata": {},
   "outputs": [
    {
     "name": "stdout",
     "output_type": "stream",
     "text": [
      "Percentage removed: 19.86066278674284 ± 9.163375182970205\n"
     ]
    },
    {
     "data": {
      "image/png": "[encoded data removed]",
      "text/plain": [
       "<Figure size 1000x500 with 1 Axes>"
      ]
     },
     "metadata": {},
     "output_type": "display_data"
    }
   ],
   "source": [
    "# Plot bar graph of prefix variance, postfix variance and percentage removed\n",
    "# from each subject\n",
    "sb.set(style=\"whitegrid\")\n",
    "fig, ax = plt.subplots(figsize=(10, 5))\n",
    "sb.barplot(x=\"subject\", y=\"perc_removed\", hue=\"run\", data=data, ax=ax)\n",
    "print(f'Percentage removed: {data[\"perc_removed\"].mean()} ± {data[\"perc_removed\"].std()}')"
   ]
  }
 ],
 "metadata": {
  "kernelspec": {
   "display_name": "env",
   "language": "python",
   "name": "env"
  },
  "language_info": {
   "codemirror_mode": {
    "name": "ipython",
    "version": 3
   },
   "file_extension": ".py",
   "mimetype": "text/x-python",
   "name": "python",
   "nbconvert_exporter": "python",
   "pygments_lexer": "ipython3",
   "version": "3.9.10"
  }
 },
 "nbformat": 4,
 "nbformat_minor": 2
}
