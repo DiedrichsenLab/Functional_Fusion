{
 "cells": [
  {
   "cell_type": "markdown",
   "metadata": {
    "collapsed": true
   },
   "source": [
    "# Region definition example\n",
    "\n",
    "This example show how to use Functional_Fusion to define and extract ROI data over a group ROI in individual space - either defined on a surface or in a volume. The same functionality was implemented in the Region toolbox in Matlab. "
   ]
  },
  {
   "cell_type": "markdown",
   "metadata": {},
   "source": [
    "## Surface-based region definition\n",
    "\n"
   ]
  },
  {
   "cell_type": "code",
   "execution_count": 1,
   "metadata": {},
   "outputs": [],
   "source": [
    "import numpy as np\n",
    "import nibabel as nb\n",
    "import nitools as nt\n",
    "import Functional_Fusion.atlas_map as am\n",
    "\n",
    "# Data directory on the server for this example \n",
    "data_dir = '/Volumes/diedrichsen_data$/data/Articulation/Articulotopy1'"
   ]
  },
  {
   "cell_type": "code",
   "execution_count": 2,
   "metadata": {},
   "outputs": [],
   "source": [
    "fs32L = am.get_atlas('fs32k_L')\n"
   ]
  },
  {
   "cell_type": "code",
   "execution_count": 11,
   "metadata": {},
   "outputs": [],
   "source": [
    "A = nb.load('fs_LR.32k.L.ventralmotor.func.gii')\n",
    "data = A.darrays[0].data\n",
    "# Find the vertices in the ROI \n",
    "vertices = np.where(data != 0)[0]\n",
    "wsurf = data_dir + '/surfaceWB/sub-01/sub-01.L.white.32k.surf.gii'\n",
    "psurf = data_dir + '/surfaceWB/sub-01/sub-01.L.pial.32k.surf.gii'\n",
    "mask = data_dir +  '/glm/glm_1/sub-01/mask.nii'\n",
    "filenames = ['con_ba','con_da']\n",
    "dataf = [f'{data_dir}/glm/glm_1/sub-01/{f}.nii' for f in filenames]\n",
    "atlas_map = am.AtlasMapSurf(vertices,wsurf,psurf,mask)\n",
    "atlas_map.build()\n"
   ]
  },
  {
   "cell_type": "code",
   "execution_count": 16,
   "metadata": {},
   "outputs": [
    {
     "data": {
      "text/plain": [
       "array([[314527, 314582, 314582, 314582, 319622, 319621],\n",
       "       [314583, 314583, 314583, 314582, 314582, 314638],\n",
       "       [314526, 314526, 314526, 314581, 314581, 314581],\n",
       "       ...,\n",
       "       [335530, 335530, 340570, 340570, 340571, 340627],\n",
       "       [345554, 345554, 345554, 350594, 350594, 350594],\n",
       "       [340570, 345610, 345611, 345611, 345611, 345611]])"
      ]
     },
     "execution_count": 16,
     "metadata": {},
     "output_type": "execute_result"
    }
   ],
   "source": [
    "atlas_map.vox_list\n"
   ]
  }
 ],
 "metadata": {
  "kernelspec": {
   "display_name": "base",
   "language": "python",
   "name": "python3"
  },
  "language_info": {
   "codemirror_mode": {
    "name": "ipython",
    "version": 3
   },
   "file_extension": ".py",
   "mimetype": "text/x-python",
   "name": "python",
   "nbconvert_exporter": "python",
   "pygments_lexer": "ipython3",
   "version": "3.11.5"
  }
 },
 "nbformat": 4,
 "nbformat_minor": 1
}
