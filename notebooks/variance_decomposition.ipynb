{
 "cells": [
  {
   "cell_type": "code",
   "execution_count": 1,
   "metadata": {},
   "outputs": [],
   "source": [
    "import os\n",
    "import pandas as pd\n",
    "from pathlib import Path\n",
    "import numpy as np\n",
    "import Functional_Fusion.atlas_map as am\n",
    "from Functional_Fusion.dataset import DataSetMDTB, DataSetPontine\n",
    "import Functional_Fusion.dataset as ds\n",
    "import nibabel as nb\n",
    "import subprocess\n",
    "import paths as paths\n",
    "import Functional_Fusion.connectivity as conn\n",
    "import matplotlib.pyplot as plt\n",
    "from scripts.var_decomp import reshape_data\n"
   ]
  },
  {
   "cell_type": "code",
   "execution_count": 2,
   "metadata": {},
   "outputs": [],
   "source": [
    "\n",
    "base_dir = paths.set_base_dir()\n",
    "atlas_dir = paths.set_atlas_dir(base_dir)\n",
    "dname = 'MDTB'\n",
    "data_dir = base_dir + '/' + dname\n",
    "atlas_dir = base_dir + '/Atlases'"
   ]
  },
  {
   "cell_type": "code",
   "execution_count": 3,
   "metadata": {},
   "outputs": [],
   "source": [
    "\n",
    "# -- Get resting-state subjects --\n",
    "T = pd.read_csv(\n",
    "    data_dir + '/participants.tsv', delimiter='\\t')\n",
    "subject_subset = T.participant_id[T['ses-rest'] == 1].tolist()\n",
    "\n",
    "\n",
    "# # -- MDTB Variance decomposition --\n",
    "mean_centering = True\n",
    "type='CondHalf'\n",
    "part_column='half'\n",
    "mdtb_dataset = DataSetMDTB(data_dir)"
   ]
  },
  {
   "cell_type": "code",
   "execution_count": 4,
   "metadata": {},
   "outputs": [
    {
     "name": "stdout",
     "output_type": "stream",
     "text": [
      "1\n",
      "2\n",
      "Setting 705180 nan values to zero.\n",
      "1\n",
      "2\n",
      "Setting 272136 nan values to zero.\n",
      "1\n",
      "2\n",
      "Setting 408842 nan values to zero.\n"
     ]
    }
   ],
   "source": [
    "# Import data\n",
    "# # --- Resting-state ---\n",
    "data_rest, info_rest = mdtb_dataset.get_data(ses_id='ses-rest', type='Net69Run', space='MNISymC2', subj=subject_subset)\n",
    "data_reshaped_rest = reshape_data(data_rest, info_rest, cond_column='net_id', mean_centering=mean_centering)\n",
    "\n",
    "# --- Task ---\n",
    "data_task, info_task = mdtb_dataset.get_data(ses_id='ses-s1', type='CondHalf', space='MNISymC2', subj=subject_subset)\n",
    "data_reshaped_task = reshape_data(data_task, info_task, cond_column=mdtb_dataset.cond_ind, part_column=part_column, mean_centering=mean_centering)\n",
    "\n",
    "\n",
    "# --- Task Neocortex ---\n",
    "data_task_neocortex, info_task_neocortex = mdtb_dataset.get_data(ses_id='ses-s1', type='CondHalf', space='fs32k')\n",
    "data_reshaped_task_neocortex = reshape_data(data_task_neocortex, info_task, cond_column=mdtb_dataset.cond_ind, part_column=part_column, mean_centering=mean_centering)\n"
   ]
  },
  {
   "cell_type": "code",
   "execution_count": 5,
   "metadata": {},
   "outputs": [],
   "source": [
    "vars_rest = ds.decompose_pattern_into_group_indiv_noise(data_reshaped_rest, criterion='global')\n",
    "print(f'Rest variance\\nGroup: {vars_rest[0][0]:.2f}\\nSubject: {vars_rest[0][1]:.2f}\\nError: {vars_rest[0][2]:.2f}')\n",
    "\n",
    "vars_task = ds.decompose_pattern_into_group_indiv_noise(data_reshaped_task, criterion='global')\n",
    "print(f'Task variance\\nGroup: {vars_task[0][0]:.2f}\\nSubject: {vars_task[0][1]:.2f}\\nError: {vars_task[0][2]:.2f}')\n",
    "data_reshaped_task_neocortex = reshape_data(data_task_neocortex, info_task, cond_column=mdtb_dataset.cond_ind, part_column=part_column, mean_centering=False)\n",
    "\n",
    "vars_task_neo = ds.decompose_pattern_into_group_indiv_noise(data_reshaped_task_neocortex, criterion='global')\n",
    "print(f'Neocortical task variance\\nGroup: {vars_task_neo[0][0]:.2f}\\nSubject: {vars_task_neo[0][1]:.2f}\\nError: {vars_task_neo[0][2]:.2f}')\n",
    "\n",
    "\n"
   ]
  },
  {
   "cell_type": "markdown",
   "metadata": {},
   "source": [
    "# Pontine"
   ]
  },
  {
   "cell_type": "code",
   "execution_count": null,
   "metadata": {},
   "outputs": [],
   "source": [
    "# -- Pontine Variance decomposition --\n",
    "type='CondHalf'\n",
    "part_column='half'\n",
    "pontine = DataSetPontine(base_dir + '/Pontine')"
   ]
  },
  {
   "cell_type": "code",
   "execution_count": null,
   "metadata": {},
   "outputs": [],
   "source": [
    "# Import data\n",
    "data_pon, info_pon = pontine.get_data(type='TaskHalf', space='MNISymC2', ses_id='ses-01')\n",
    "data_reshaped_task_pon = reshape_data(data_pon, info_pon, cond_column=pontine.cond_ind, part_column=part_column, mean_centering=mean_centering)\n"
   ]
  },
  {
   "cell_type": "code",
   "execution_count": null,
   "metadata": {},
   "outputs": [],
   "source": [
    "vars_task_pon = ds.decompose_pattern_into_group_indiv_noise(data_reshaped_task_pon, criterion='global')\n",
    "print(f'Task variance\\nGroup: {vars_task_pon[0][0]:.2f}\\nSubject: {vars_task_pon[0][1]:.2f}\\nError: {vars_task_pon[0][2]:.2f}')\n",
    "\n"
   ]
  }
 ],
 "metadata": {
  "kernelspec": {
   "display_name": "env",
   "language": "python",
   "name": "python3"
  },
  "language_info": {
   "codemirror_mode": {
    "name": "ipython",
    "version": 3
   },
   "file_extension": ".py",
   "mimetype": "text/x-python",
   "name": "python",
   "nbconvert_exporter": "python",
   "pygments_lexer": "ipython3",
   "version": "3.9.10"
  }
 },
 "nbformat": 4,
 "nbformat_minor": 2
}
