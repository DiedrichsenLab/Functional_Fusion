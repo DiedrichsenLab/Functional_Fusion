{
 "cells": [
  {
   "cell_type": "markdown",
   "metadata": {},
   "source": [
    "## Alignment of activity patterns with different baselines\n",
    "\n",
    "fMRI activity cannot be measures in absolute terms, but always relative to some (possibly implicit) baseline. Different MultiTasBattery datasets have different task / conditions in common. Given this, how do we best integrate knowledge across different datasets? \n",
    "\n",
    "Does it matter what baseline is chosen across datasets / runs? "
   ]
  },
  {
   "cell_type": "code",
   "execution_count": 1,
   "metadata": {},
   "outputs": [],
   "source": [
    "import numpy as np\n",
    "import matplotlib.pyplot as plt\n",
    "from scipy.linalg import block_diag"
   ]
  },
  {
   "cell_type": "markdown",
   "metadata": {},
   "source": [
    "## General framework\n",
    "Let us assume that the true activity during a 30s task phase of a specific task $i$ is $u_{i}$. Across fMRI measurement of a single run, we can measure the relative activity $y_{n}$. \n",
    "\n",
    "$ y_{n} = Z u_{i} + Z \\epsilon_{i} $\n",
    "\n",
    "where $\\epsilon_{n}$ is the measurement noise.\n",
    "\n",
    "When expressing it against a single condition (i.e. rest):\n",
    "$$\n",
    "Z = \\begin{bmatrix}\n",
    "1 & 0 & 0 & -1\\\\\n",
    "0 & 1 & 0 & -1\\\\\n",
    "0 & 0 & 1 & -1\\\\\n",
    "0 & 0 & 0 & 0 \n",
    "\\end{bmatrix}\n",
    "$$ \n",
    "\n",
    "\n",
    "When expressing these against the mean: \n",
    "$$\n",
    "Z = \\begin{bmatrix}\n",
    "\\frac{3}{4} & -\\frac{1}{4} & -\\frac{1}{4} & -\\frac{1}{4}\\\\\n",
    "-\\frac{1}{4} & \\frac{3}{4} & -\\frac{1}{4} & -\\frac{1}{4}\\\\\n",
    "-\\frac{1}{4} & -\\frac{1}{4} & \\frac{3}{4} & -\\frac{1}{4}\\\\\n",
    "-\\frac{1}{4} & -\\frac{1}{4} & -\\frac{1}{4} & \\frac{3}{4} \n",
    "\\end{bmatrix}\n",
    "$$ \n",
    "\n",
    "The information contained in these data are the same, just the values (and noise-covariances) are different. \n",
    "\n",
    "Now if we have multiple datasets, each with their specific (partly overlapping task sets), we can a more complex setting such as this one here: "
   ]
  },
  {
   "cell_type": "code",
   "execution_count": 2,
   "metadata": {},
   "outputs": [],
   "source": [
    "# Here two functions that make the design matrix (Z) and the predicted covariance matrix (V) for a given set of task set:\n",
    "def make_zero_matrix(task_sets):\n",
    "    \"\"\" design matrix with encoding against rest (condition 0)\"\"\"\n",
    "    num_tasks = max([max (l) for l in task_sets])+1\n",
    "    length = [len(l) for l in task_sets]\n",
    "    Z = np.zeros((sum(length),num_tasks))\n",
    "    V = []\n",
    "    offset = 0\n",
    "    for l in task_sets:\n",
    "        indx = np.arange(len(l))+offset\n",
    "        Z[indx,0]=-1\n",
    "        Z[indx,np.array(l)] += 1\n",
    "        V.append(Z[indx,:]@Z[indx,:].T)\n",
    "        offset += len(l)\n",
    "    V=block_diag(*V)\n",
    "    return Z,V\n",
    "\n",
    "\n",
    "def make_mean_matrix(task_sets):\n",
    "    \"\"\" Design matrix with encoding against mean of task set\"\"\"\n",
    "    num_tasks = max([max (l) for l in task_sets])+1\n",
    "    length = [len(l) for l in task_sets]\n",
    "    Z = np.zeros((sum(length),num_tasks))\n",
    "    offset = 0\n",
    "    V=[]\n",
    "    for l in task_sets:\n",
    "        indx = np.arange(len(l))+offset\n",
    "        Z[min(indx):max(indx)+1,np.array(l)]=-1/len(l)\n",
    "        Z[indx,np.array(l)] += 1\n",
    "        V.append(Z[indx,:]@Z[indx,:].T)\n",
    "        offset += len(l)\n",
    "    V=block_diag(*V)\n",
    "    return Z,V\n",
    "\n"
   ]
  },
  {
   "cell_type": "code",
   "execution_count": 7,
   "metadata": {},
   "outputs": [
    {
     "data": {
      "text/plain": [
       "Text(0.5, 1.0, 'Encoding vs. mean')"
      ]
     },
     "execution_count": 7,
     "metadata": {},
     "output_type": "execute_result"
    },
    {
     "data": {
      "image/png": "[encoded data removed]",
      "text/plain": [
       "<Figure size 432x288 with 2 Axes>"
      ]
     },
     "metadata": {
      "needs_background": "light"
     },
     "output_type": "display_data"
    }
   ],
   "source": [
    "# Say we have 10 theoretical possible task\n",
    "task_sets=[[0,1,2,3,4,5,6],[0,1,2,7,8,9]]\n",
    "# For the enconding against rest as a contrast, we have the 13x10 design matrix\n",
    "\n",
    "Z0,V0=make_zero_matrix(task_sets)\n",
    "Z1,V1=make_mean_matrix(task_sets)\n",
    "\n",
    "# The \"design\" matrices look like this:\n",
    "plt.subplot(1,2,1)\n",
    "plt.imshow(Z0,vmin=-1,vmax=1)\n",
    "plt.title('Encoding against rest')\n",
    "plt.subplot(1,2,2)\n",
    "plt.imshow(Z1,vmin=-1,vmax=1)\n",
    "plt.title('Encoding vs. mean')\n"
   ]
  },
  {
   "cell_type": "code",
   "execution_count": 10,
   "metadata": {},
   "outputs": [
    {
     "data": {
      "text/plain": [
       "Text(0.5, 1.0, 'Encoding vs. mean')"
      ]
     },
     "execution_count": 10,
     "metadata": {},
     "output_type": "execute_result"
    },
    {
     "data": {
      "image/png": "[encoded data removed]",
      "text/plain": [
       "<Figure size 432x288 with 2 Axes>"
      ]
     },
     "metadata": {
      "needs_background": "light"
     },
     "output_type": "display_data"
    }
   ],
   "source": [
    "# What is the predicted variance of these two different ways of encoding the measurements? ?\n",
    "plt.subplot(1,2,1)\n",
    "plt.imshow(V0,vmin=-0.2,vmax=2)\n",
    "plt.title('Encoding against rest')\n",
    "plt.subplot(1,2,2)\n",
    "plt.imshow(V1,vmin=-0.2,vmax=2)\n",
    "plt.title('Encoding vs. mean')"
   ]
  },
  {
   "cell_type": "code",
   "execution_count": 4,
   "metadata": {},
   "outputs": [],
   "source": [
    "# Given some measurements y0 and y1, we can now come up with the best estimate of the underlying task activity pattern - relative to the mean of all 10 task\n",
    "P1 = np.linalg.pinv(Z1)\n",
    "P0 = np.linalg.pinv(Z0)\n",
    "\n",
    "# U1_hat = P1@y1\n",
    "# U0_hat = P0@y0\n",
    "\n",
    "\n"
   ]
  },
  {
   "cell_type": "code",
   "execution_count": 11,
   "metadata": {},
   "outputs": [
    {
     "data": {
      "text/plain": [
       "Text(0.5, 1.0, 'vs mean trace 8.800')"
      ]
     },
     "execution_count": 11,
     "metadata": {},
     "output_type": "execute_result"
    },
    {
     "data": {
      "image/png": "[encoded data removed]",
      "text/plain": [
       "<Figure size 432x288 with 2 Axes>"
      ]
     },
     "metadata": {
      "needs_background": "light"
     },
     "output_type": "display_data"
    }
   ],
   "source": [
    "# Now we can compare the predicted variance of the final estimates\n",
    "H = np.eye(10)-np.ones((10,10))/10\n",
    "varU0 = H@P0@V0@P0.T@H.T\n",
    "varU1 = H@P1@V1@P1.T@H.T\n",
    "\n",
    "plt.subplot(1,2,1)\n",
    "plt.imshow(varU0,vmin=-0.2,vmax=2)\n",
    "plt.title(f'Vs. Rest trace {np.trace(varU0):.3f}')\n",
    "plt.subplot(1,2,2)\n",
    "plt.imshow(varU1,vmin=-0.2,vmax=2)\n",
    "plt.title(f'vs mean trace {np.trace(varU1):.3f}')\n"
   ]
  },
  {
   "cell_type": "markdown",
   "metadata": {},
   "source": [
    "As we can see, the variance of the tasks that are common, are identical under the two regimes \n",
    "It's the task that we are aliging that have lower variance if we align to the mean of all the common tasks, rather than just rest. "
   ]
  }
 ],
 "metadata": {
  "kernelspec": {
   "display_name": "base",
   "language": "python",
   "name": "python3"
  },
  "language_info": {
   "codemirror_mode": {
    "name": "ipython",
    "version": 3
   },
   "file_extension": ".py",
   "mimetype": "text/x-python",
   "name": "python",
   "nbconvert_exporter": "python",
   "pygments_lexer": "ipython3",
   "version": "3.9.5"
  }
 },
 "nbformat": 4,
 "nbformat_minor": 2
}
